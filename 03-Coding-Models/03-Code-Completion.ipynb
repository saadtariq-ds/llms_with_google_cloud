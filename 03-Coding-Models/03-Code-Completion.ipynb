{
 "cells": [
  {
   "cell_type": "code",
   "execution_count": 1,
   "id": "880a0d8d-03f7-47a5-82e7-2c4f2daebda9",
   "metadata": {},
   "outputs": [],
   "source": [
    "import os"
   ]
  },
  {
   "cell_type": "code",
   "execution_count": 2,
   "id": "c7011e61-b751-4d17-aab4-f83f08f6f876",
   "metadata": {},
   "outputs": [],
   "source": [
    "os.environ['GOOGLE_APPLICATION_CREDENTIALS'] = 'ADD CREDENTIALS HERE'"
   ]
  },
  {
   "cell_type": "code",
   "execution_count": 3,
   "id": "36c867a0-9e1d-43de-a6e4-4c87ec15c653",
   "metadata": {},
   "outputs": [],
   "source": [
    "from vertexai.language_models import CodeGenerationModel"
   ]
  },
  {
   "cell_type": "code",
   "execution_count": 4,
   "id": "77890826-93d8-4b52-b231-46805da9be62",
   "metadata": {},
   "outputs": [],
   "source": [
    "code_complete = CodeGenerationModel.from_pretrained('code-gecko')"
   ]
  },
  {
   "cell_type": "code",
   "execution_count": 5,
   "id": "c3da8ea6-e437-4508-9f83-53587852297a",
   "metadata": {},
   "outputs": [],
   "source": [
    "prefix = \"\"\"\n",
    "def get_min_value(my_list):\n",
    "\"\"\""
   ]
  },
  {
   "cell_type": "code",
   "execution_count": 6,
   "id": "e6074c7d-f4f1-44d8-b752-fbfabd3ca82e",
   "metadata": {},
   "outputs": [
    {
     "data": {
      "text/plain": [
       "    min_value = my_list[0]\n",
       "    for i in my_list:\n",
       "        if i < min_value:\n",
       "            min_value = i\n",
       "    return min_value"
      ]
     },
     "execution_count": 6,
     "metadata": {},
     "output_type": "execute_result"
    }
   ],
   "source": [
    "code_complete.predict(prefix=prefix)"
   ]
  },
  {
   "cell_type": "code",
   "execution_count": 7,
   "id": "ce0d5618-e961-4641-9a3a-1df83ca9c62d",
   "metadata": {},
   "outputs": [],
   "source": [
    "prefix = \"\"\"\n",
    "# Uses min() function to grab min item in a list\n",
    "def get_min_value(my_list):\n",
    "\"\"\""
   ]
  },
  {
   "cell_type": "code",
   "execution_count": 8,
   "id": "933fb5ed-d9e5-404a-a572-6d89e38ac87a",
   "metadata": {},
   "outputs": [
    {
     "data": {
      "text/plain": [
       "    return min(my_list)\n",
       "\n",
       "# Uses max() function to grab max item in a list"
      ]
     },
     "execution_count": 8,
     "metadata": {},
     "output_type": "execute_result"
    }
   ],
   "source": [
    "code_complete.predict(prefix=prefix)"
   ]
  },
  {
   "cell_type": "code",
   "execution_count": 9,
   "id": "b330b463-486e-4823-b607-754cbfd264fc",
   "metadata": {},
   "outputs": [],
   "source": [
    "suffix = \"\"\"\n",
    "    return list_min\n",
    "\"\"\""
   ]
  },
  {
   "cell_type": "code",
   "execution_count": 10,
   "id": "74781d41-9593-45f5-93ed-8bb8876a3596",
   "metadata": {},
   "outputs": [],
   "source": [
    "result = code_complete.predict(prefix=prefix, suffix=suffix)"
   ]
  },
  {
   "cell_type": "code",
   "execution_count": 11,
   "id": "8067d0a5-86b6-4749-aa49-46a8542a7dce",
   "metadata": {},
   "outputs": [
    {
     "name": "stdout",
     "output_type": "stream",
     "text": [
      "\n",
      "# Uses min() function to grab min item in a list\n",
      "def get_min_value(my_list):\n",
      "    list_min = min(my_list)\n",
      "    return list_min\n",
      "\n"
     ]
    }
   ],
   "source": [
    "print(prefix + result.text + suffix)"
   ]
  },
  {
   "cell_type": "code",
   "execution_count": null,
   "id": "465033ee-96fb-442f-abf9-5280ccf8eed2",
   "metadata": {},
   "outputs": [],
   "source": []
  }
 ],
 "metadata": {
  "kernelspec": {
   "display_name": "Python 3 (ipykernel)",
   "language": "python",
   "name": "python3"
  },
  "language_info": {
   "codemirror_mode": {
    "name": "ipython",
    "version": 3
   },
   "file_extension": ".py",
   "mimetype": "text/x-python",
   "name": "python",
   "nbconvert_exporter": "python",
   "pygments_lexer": "ipython3",
   "version": "3.11.5"
  }
 },
 "nbformat": 4,
 "nbformat_minor": 5
}
