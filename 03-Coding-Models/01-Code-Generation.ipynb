{
 "cells": [
  {
   "cell_type": "code",
   "execution_count": 1,
   "id": "057c3682-66d4-4e02-a992-a55ded6971af",
   "metadata": {},
   "outputs": [],
   "source": [
    "import os"
   ]
  },
  {
   "cell_type": "code",
   "execution_count": 2,
   "id": "5092415f-298d-430a-93c2-a112c6c2d242",
   "metadata": {},
   "outputs": [],
   "source": [
    "os.environ['GOOGLE_APPLICATION_CREDENTIALS'] = 'ADD CREDENTIALS HERE'"
   ]
  },
  {
   "cell_type": "code",
   "execution_count": 3,
   "id": "ca237eea-0560-470b-aea4-102b4788eb2c",
   "metadata": {},
   "outputs": [],
   "source": [
    "from vertexai.language_models import CodeGenerationModel"
   ]
  },
  {
   "cell_type": "markdown",
   "id": "7a5c2306-8ccf-4118-9495-051b02f63dfc",
   "metadata": {},
   "source": [
    "## Code Generation"
   ]
  },
  {
   "cell_type": "markdown",
   "id": "ad7db39b-7ecb-4c83-8c0c-56f6c3bd8df7",
   "metadata": {},
   "source": [
    "### Natural Language"
   ]
  },
  {
   "cell_type": "code",
   "execution_count": 4,
   "id": "eb59a150-1ede-465b-9213-032cf025c4b0",
   "metadata": {},
   "outputs": [],
   "source": [
    "code_generation_model = CodeGenerationModel.from_pretrained('code-bison')"
   ]
  },
  {
   "cell_type": "code",
   "execution_count": 5,
   "id": "576c5c2e-40e6-44fe-8e16-66d02d5103b3",
   "metadata": {},
   "outputs": [],
   "source": [
    "prefix = \"Write a python function that prints a Christmas Tree with ASCII\""
   ]
  },
  {
   "cell_type": "code",
   "execution_count": 6,
   "id": "6854cd3e-91a4-4131-8f99-e0dc2349383a",
   "metadata": {},
   "outputs": [],
   "source": [
    "response = code_generation_model.predict(\n",
    "    prefix=prefix,\n",
    "    temperature=0,\n",
    "    max_output_tokens=2048\n",
    ")"
   ]
  },
  {
   "cell_type": "code",
   "execution_count": 7,
   "id": "e745d2f7-ea30-40df-97f9-de5551cab908",
   "metadata": {},
   "outputs": [
    {
     "name": "stdout",
     "output_type": "stream",
     "text": [
      "```python\n",
      "def print_christmas_tree(height):\n",
      "  \"\"\"Prints a Christmas tree of the given height.\"\"\"\n",
      "\n",
      "  # Calculate the number of spaces and asterisks needed for the tree.\n",
      "  spaces = height - 1\n",
      "  asterisks = 1\n",
      "\n",
      "  # Print the tree.\n",
      "  for i in range(height):\n",
      "    # Print the spaces.\n",
      "    for j in range(spaces):\n",
      "      print(\" \", end=\"\")\n",
      "\n",
      "    # Print the asterisks.\n",
      "    for j in range(asterisks):\n",
      "      print(\"*\", end=\"\")\n",
      "\n",
      "    # Print a newline.\n",
      "    print()\n",
      "\n",
      "    # Update the number of spaces and asterisks.\n",
      "    spaces -= 1\n",
      "    asterisks += 2\n",
      "\n",
      "  # Print the trunk.\n",
      "  for i in range(2):\n",
      "    for j in range(height - 2):\n",
      "      print(\" \", end=\"\")\n",
      "    print(\"|||\")\n",
      "\n",
      "if __name__ == \"__main__\":\n",
      "  print_christmas_tree(10)\n",
      "```\n"
     ]
    }
   ],
   "source": [
    "print(response.text)"
   ]
  },
  {
   "cell_type": "code",
   "execution_count": 8,
   "id": "4070ae58-43cf-48b9-825b-9ad44c2e5bd7",
   "metadata": {},
   "outputs": [],
   "source": [
    "prefix = \"Write a python function that prints a Christmas Tree with ASCII. Do not call the function, only reply with function code\""
   ]
  },
  {
   "cell_type": "code",
   "execution_count": 9,
   "id": "3e2704ac-aa70-472d-b1ff-ba97062dd402",
   "metadata": {},
   "outputs": [],
   "source": [
    "response = code_generation_model.predict(\n",
    "    prefix=prefix,\n",
    "    temperature=0,\n",
    "    max_output_tokens=2048\n",
    ")"
   ]
  },
  {
   "cell_type": "code",
   "execution_count": 10,
   "id": "521dca60-b9be-45d2-8b83-16ac5666c64a",
   "metadata": {},
   "outputs": [
    {
     "name": "stdout",
     "output_type": "stream",
     "text": [
      "```python\n",
      "def print_christmas_tree(height):\n",
      "  \"\"\"Prints a Christmas tree using ASCII characters.\n",
      "\n",
      "  Args:\n",
      "    height: The height of the tree in number of rows.\n",
      "  \"\"\"\n",
      "\n",
      "  # Create a list of rows, starting with a single asterisk.\n",
      "  rows = [\"*\"]\n",
      "\n",
      "  # Add a new row to the list for each level of the tree.\n",
      "  for i in range(1, height):\n",
      "    # Add spaces to the beginning of the row.\n",
      "    spaces = \" \" * (height - i - 1)\n",
      "\n",
      "    # Add asterisks to the row.\n",
      "    asterisks = \"*\" * (2 * i + 1)\n",
      "\n",
      "    # Add the row to the list.\n",
      "    rows.append(spaces + asterisks)\n",
      "\n",
      "  # Add a trunk to the tree.\n",
      "  rows.append(\" \" * (height - 1) + \"|\")\n",
      "\n",
      "  # Print the tree.\n",
      "  for row in rows:\n",
      "    print(row)\n",
      "```\n"
     ]
    }
   ],
   "source": [
    "print(response.text)"
   ]
  },
  {
   "cell_type": "code",
   "execution_count": 11,
   "id": "4fa9b2d0-750d-4778-8530-ee6ddf2daa1f",
   "metadata": {},
   "outputs": [
    {
     "name": "stdout",
     "output_type": "stream",
     "text": [
      "\n",
      "def print_christmas_tree(height):\n",
      "  \"\"\"Prints a Christmas tree using ASCII characters.\n",
      "\n",
      "  Args:\n",
      "    height: The height of the tree in number of rows.\n",
      "  \"\"\"\n",
      "\n",
      "  # Create a list of rows, starting with a single asterisk.\n",
      "  rows = [\"*\"]\n",
      "\n",
      "  # Add a new row to the list for each level of the tree.\n",
      "  for i in range(1, height):\n",
      "    # Add spaces to the beginning of the row.\n",
      "    spaces = \" \" * (height - i - 1)\n",
      "\n",
      "    # Add asterisks to the row.\n",
      "    asterisks = \"*\" * (2 * i + 1)\n",
      "\n",
      "    # Add the row to the list.\n",
      "    rows.append(spaces + asterisks)\n",
      "\n",
      "  # Add a trunk to the tree.\n",
      "  rows.append(\" \" * (height - 1) + \"|\")\n",
      "\n",
      "  # Print the tree.\n",
      "  for row in rows:\n",
      "    print(row)\n",
      "\n"
     ]
    }
   ],
   "source": [
    "print(response.text.replace('```python', '').replace('```',''))"
   ]
  },
  {
   "cell_type": "code",
   "execution_count": 12,
   "id": "8703bcd9-c917-45cd-8c0c-39a1b549ed98",
   "metadata": {},
   "outputs": [],
   "source": [
    "def print_christmas_tree(height):\n",
    "  \"\"\"Prints a Christmas tree using ASCII characters.\n",
    "\n",
    "  Args:\n",
    "    height: The height of the tree in number of rows.\n",
    "  \"\"\"\n",
    "\n",
    "  # Create a list of rows, starting with a single asterisk.\n",
    "  rows = [\"*\"]\n",
    "\n",
    "  # Add a new row to the list for each level of the tree.\n",
    "  for i in range(1, height):\n",
    "    # Add spaces to the beginning of the row.\n",
    "    spaces = \" \" * (height - i - 1)\n",
    "\n",
    "    # Add asterisks to the row.\n",
    "    asterisks = \"*\" * (2 * i + 1)\n",
    "\n",
    "    # Add the row to the list.\n",
    "    rows.append(spaces + asterisks)\n",
    "\n",
    "  # Add a trunk to the tree.\n",
    "  rows.append(\" \" * (height - 1) + \"|\")\n",
    "\n",
    "  # Print the tree.\n",
    "  for row in rows:\n",
    "      print(row)"
   ]
  },
  {
   "cell_type": "code",
   "execution_count": 13,
   "id": "3ac89dd6-2641-4f70-984c-22b4e7c26d24",
   "metadata": {},
   "outputs": [
    {
     "name": "stdout",
     "output_type": "stream",
     "text": [
      "*\n",
      "        ***\n",
      "       *****\n",
      "      *******\n",
      "     *********\n",
      "    ***********\n",
      "   *************\n",
      "  ***************\n",
      " *****************\n",
      "*******************\n",
      "         |\n"
     ]
    }
   ],
   "source": [
    "print_christmas_tree(10)"
   ]
  },
  {
   "cell_type": "markdown",
   "id": "a739ac36-71ee-431e-b4ee-4ac2474d8e4d",
   "metadata": {},
   "source": [
    "### Code"
   ]
  },
  {
   "cell_type": "code",
   "execution_count": 14,
   "id": "8ed8a583-f794-47ff-84af-5a301b260142",
   "metadata": {},
   "outputs": [],
   "source": [
    "prefix = \"\"\" Write a docstring for the following python function\n",
    "\n",
    "def print_christmas_tree(height):\n",
    "  # Create a list of rows, starting with a single asterisk.\n",
    "  rows = [\"*\"]\n",
    "\n",
    "  # Add a new row to the list for each level of the tree.\n",
    "  for i in range(1, height):\n",
    "    # Add spaces to the beginning of the row.\n",
    "    spaces = \" \" * (height - i - 1)\n",
    "\n",
    "    # Add asterisks to the row.\n",
    "    asterisks = \"*\" * (2 * i + 1)\n",
    "\n",
    "    # Add the row to the list.\n",
    "    rows.append(spaces + asterisks)\n",
    "\n",
    "  # Add a trunk to the tree.\n",
    "  rows.append(\" \" * (height - 1) + \"|\")\n",
    "\n",
    "  # Print the tree.\n",
    "  for row in rows:\n",
    "      print(row)\n",
    "\"\"\""
   ]
  },
  {
   "cell_type": "code",
   "execution_count": 15,
   "id": "46d61a99-67cd-471e-b9e3-5471c57ac977",
   "metadata": {},
   "outputs": [],
   "source": [
    "response = code_generation_model.predict(\n",
    "    prefix=prefix,\n",
    "    temperature=0,\n",
    "    max_output_tokens=2048\n",
    ")"
   ]
  },
  {
   "cell_type": "code",
   "execution_count": 16,
   "id": "9c41aa3d-a77f-4663-8024-59609162fac1",
   "metadata": {},
   "outputs": [
    {
     "name": "stdout",
     "output_type": "stream",
     "text": [
      "```python\n",
      "def print_christmas_tree(height):\n",
      "\n",
      "  \"\"\"Prints a Christmas tree of the given height.\n",
      "\n",
      "  Args:\n",
      "    height: The height of the tree.\n",
      "  \"\"\"\n",
      "  # Create a list of rows, starting with a single asterisk.\n",
      "  rows = [\"*\"]\n",
      "\n",
      "  # Add a new row to the list for each level of the tree.\n",
      "  for i in range(1, height):\n",
      "    # Add spaces to the beginning of the row.\n",
      "    spaces = \" \" * (height - i - 1)\n",
      "\n",
      "    # Add asterisks to the row.\n",
      "    asterisks = \"*\" * (2 * i + 1)\n",
      "\n",
      "    # Add the row to the list.\n",
      "    rows.append(spaces + asterisks)\n",
      "\n",
      "  # Add a trunk to the tree.\n",
      "  rows.append(\" \" * (height - 1) + \"|\")\n",
      "\n",
      "  # Print the tree.\n",
      "  for row in rows:\n",
      "      print(row)\n",
      "\n",
      "```\n"
     ]
    }
   ],
   "source": [
    "print(response.text)"
   ]
  },
  {
   "cell_type": "code",
   "execution_count": null,
   "id": "c8067013-ffb2-42ba-a379-aaa9e16990c2",
   "metadata": {},
   "outputs": [],
   "source": []
  }
 ],
 "metadata": {
  "kernelspec": {
   "display_name": "Python 3 (ipykernel)",
   "language": "python",
   "name": "python3"
  },
  "language_info": {
   "codemirror_mode": {
    "name": "ipython",
    "version": 3
   },
   "file_extension": ".py",
   "mimetype": "text/x-python",
   "name": "python",
   "nbconvert_exporter": "python",
   "pygments_lexer": "ipython3",
   "version": "3.11.5"
  }
 },
 "nbformat": 4,
 "nbformat_minor": 5
}
