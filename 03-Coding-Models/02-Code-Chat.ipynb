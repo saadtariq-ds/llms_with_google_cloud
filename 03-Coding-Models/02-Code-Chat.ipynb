{
 "cells": [
  {
   "cell_type": "code",
   "execution_count": 1,
   "id": "2e37a538-8a0e-439e-85a4-9e7605855b05",
   "metadata": {},
   "outputs": [],
   "source": [
    "import os"
   ]
  },
  {
   "cell_type": "code",
   "execution_count": 2,
   "id": "1be63799-9f23-4457-b848-78340f8dd636",
   "metadata": {},
   "outputs": [],
   "source": [
    "os.environ['GOOGLE_APPLICATION_CREDENTIALS'] = 'ADD CREDENTIALS HERE'"
   ]
  },
  {
   "cell_type": "code",
   "execution_count": 3,
   "id": "48b13f54-7b1d-4bc0-8c28-a9b897e9264c",
   "metadata": {},
   "outputs": [],
   "source": [
    "from vertexai.language_models import CodeChatModel"
   ]
  },
  {
   "cell_type": "code",
   "execution_count": 4,
   "id": "7fbc38f6-dbf6-4504-86e9-f9ba0d495873",
   "metadata": {},
   "outputs": [],
   "source": [
    "code_chat_model = CodeChatModel.from_pretrained('codechat-bison')"
   ]
  },
  {
   "cell_type": "code",
   "execution_count": 5,
   "id": "3184a75e-a4e2-4fcd-8a95-ad51c377d23e",
   "metadata": {},
   "outputs": [],
   "source": [
    "code_chat = code_chat_model.start_chat()"
   ]
  },
  {
   "cell_type": "code",
   "execution_count": 6,
   "id": "472fcb3f-81f8-49ec-a547-15655bc7f2fd",
   "metadata": {},
   "outputs": [
    {
     "data": {
      "text/plain": [
       " ```python\n",
       "def find_smallest_number(list1):\n",
       "    smallest_number = list1[0]\n",
       "    for x in list1:\n",
       "        if x < smallest_number:\n",
       "            smallest_number = x\n",
       "    return smallest_number\n",
       "```"
      ]
     },
     "execution_count": 6,
     "metadata": {},
     "output_type": "execute_result"
    }
   ],
   "source": [
    "code_chat.send_message(\"Write a python function that can calculate the smallest number in the list\")"
   ]
  },
  {
   "cell_type": "code",
   "execution_count": 7,
   "id": "0737b379-6aa9-4dbc-b31e-9de538aa8826",
   "metadata": {},
   "outputs": [
    {
     "data": {
      "text/plain": [
       "[ChatMessage(content='Write a python function that can calculate the smallest number in the list', author='user'),\n",
       " ChatMessage(content=' ```python\\ndef find_smallest_number(list1):\\n    smallest_number = list1[0]\\n    for x in list1:\\n        if x < smallest_number:\\n            smallest_number = x\\n    return smallest_number\\n```', author='bot')]"
      ]
     },
     "execution_count": 7,
     "metadata": {},
     "output_type": "execute_result"
    }
   ],
   "source": [
    "code_chat.message_history"
   ]
  },
  {
   "cell_type": "code",
   "execution_count": 8,
   "id": "0796579f-4f7e-4987-8651-6beb139c51d5",
   "metadata": {},
   "outputs": [
    {
     "data": {
      "text/plain": [
       " ```python\n",
       "def find_smallest_number(list1, list2):\n",
       "    smallest_number = min(list1 + list2)\n",
       "    return smallest_number\n",
       "```"
      ]
     },
     "execution_count": 8,
     "metadata": {},
     "output_type": "execute_result"
    }
   ],
   "source": [
    "code_chat.send_message(\"Update the function so that it can grab the smallest value between two lists\")"
   ]
  },
  {
   "cell_type": "code",
   "execution_count": 9,
   "id": "4cd3e951-54a3-4af5-9f63-b8e0ab240e93",
   "metadata": {},
   "outputs": [
    {
     "data": {
      "text/plain": [
       " The `+` operator between two lists in Python is used to concatenate the two lists into a single list. In this case, the `min()` function is used to find the smallest number in the concatenated list, which contains all the elements from both `list1` and `list2`.\n",
       "\n",
       "For example, if `list1 = [1, 2, 3]` and `list2 = [4, 5, 6]`, then `list1 + list2` would be `[1, 2, 3, 4, 5, 6]`. The `min()` function would then return the smallest number in this list, which is `1`."
      ]
     },
     "execution_count": 9,
     "metadata": {},
     "output_type": "execute_result"
    }
   ],
   "source": [
    "code_chat.send_message(\"I am confused by the + between list1 and list2, please explain\")"
   ]
  },
  {
   "cell_type": "code",
   "execution_count": null,
   "id": "881de449-0e07-4399-9929-e0ce408b5b10",
   "metadata": {},
   "outputs": [],
   "source": []
  }
 ],
 "metadata": {
  "kernelspec": {
   "display_name": "Python 3 (ipykernel)",
   "language": "python",
   "name": "python3"
  },
  "language_info": {
   "codemirror_mode": {
    "name": "ipython",
    "version": 3
   },
   "file_extension": ".py",
   "mimetype": "text/x-python",
   "name": "python",
   "nbconvert_exporter": "python",
   "pygments_lexer": "ipython3",
   "version": "3.11.5"
  }
 },
 "nbformat": 4,
 "nbformat_minor": 5
}
