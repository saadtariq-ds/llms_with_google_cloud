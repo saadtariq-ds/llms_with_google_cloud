{
 "cells": [
  {
   "cell_type": "code",
   "execution_count": 1,
   "id": "e56e749e-2ddf-45dc-a03a-0cff771700ec",
   "metadata": {},
   "outputs": [],
   "source": [
    "import os"
   ]
  },
  {
   "cell_type": "code",
   "execution_count": 2,
   "id": "a4f17116-0eb3-4fc3-9331-bd96ac4a2310",
   "metadata": {},
   "outputs": [],
   "source": [
    "os.environ['GOOGLE_APPLICATION_CREDENTIALS'] = 'ADD CREDENTIALS HERE'"
   ]
  },
  {
   "cell_type": "code",
   "execution_count": 3,
   "id": "0ffaa8ec-77f1-4221-bcb9-7957e216fc86",
   "metadata": {},
   "outputs": [],
   "source": [
    "from vertexai.language_models import TextGenerationModel"
   ]
  },
  {
   "cell_type": "code",
   "execution_count": 4,
   "id": "fc40b66c-a0cb-4a68-876c-a2b11c740572",
   "metadata": {},
   "outputs": [],
   "source": [
    "model = TextGenerationModel.from_pretrained('text-bison')"
   ]
  },
  {
   "cell_type": "code",
   "execution_count": 5,
   "id": "3f5cf7bd-b7ea-45a1-843c-d29e2364e212",
   "metadata": {},
   "outputs": [],
   "source": [
    "article = \"\"\"David Robert Joseph Beckham OBE (/ˈbɛkəm/ BEK-əm;[5] born 2 May 1975) is an English former professional footballer, the current president and co-owner of Inter Miami and co-owner of Salford City.[6] Known for his range of passing, crossing ability, and bending free-kicks as a right winger, Beckham has been hailed as one of the greatest and most recognisable midfielders of his generation, as well as one of the best set-piece specialists of all time.[7][8] Due to his talent and achievements for both club and country, Beckham is lauded as one of the greatest Manchester United footballers of all time,[9][10][11] as well as one of the best English players in the history of the sport.[12][13][14] He is the first English player to win league titles in four countries: England, Spain, the United States and France.\n",
    "\n",
    "Beckham's professional club career began with Manchester United, where he made his first-team debut in 1992 at age 17.[15] With United, he won the Premier League title six times, the FA Cup twice and the UEFA Champions League in 1999.[15] He then played four seasons with Real Madrid,[16] winning the La Liga championship in his final season with the club.[17] In July 2007, Beckham signed a five-year contract with Major League Soccer club LA Galaxy.[18] While a Galaxy player, he spent two loan spells in Italy with AC Milan in 2009 and 2010. He was the first British footballer to play 100 UEFA Champions League games.[15] He retired in May 2013 after a 20-year career, during which he won 19 major trophies.[19][20]\n",
    "\n",
    "In international football, Beckham made his England debut on 1 September 1996, at the age of 21. He was captain for six years, earning 58 caps during his tenure.[21][22] He made 115 career appearances in total, appearing at three FIFA World Cup tournaments, in 1998, 2002 and 2006 and two UEFA European Championship tournaments, in 2000 and 2004. He held the England appearance record for an outfield player until 2016.\n",
    "\n",
    "A global ambassador of football, Beckham is considered to be a British cultural icon.[23][24] He was runner-up in the Ballon d'Or in 1999, twice runner-up for FIFA World Player of the Year (1999 and 2001) and in 2004 was named by Pelé in the FIFA 100 list of the world's greatest living players.[25][26][27] He was inducted into the English Football Hall of Fame in 2008, and the Premier League Hall of Fame in 2021.[28] He has been a UNICEF ambassador since 2005, and in 2015 he launched 7: The David Beckham UNICEF Fund.[29]\n",
    "\n",
    "Beckham has consistently ranked among the highest earners in football, and in 2013 was listed as the highest-paid player in the world, having earned over $50 million in the previous twelve months.[30] He has been married to Victoria Beckham since 1999 and they have four children.[31] In 2014, MLS announced that Beckham and a group of investors would own Inter Miami, which began playing in 2020.[32]\n",
    "\"\"\""
   ]
  },
  {
   "cell_type": "code",
   "execution_count": 6,
   "id": "86537a5c-8a8f-4548-a645-3689fdc54623",
   "metadata": {},
   "outputs": [],
   "source": [
    "prompt = f\"provide a 5 sentence summary of the following article: \\n{article}\""
   ]
  },
  {
   "cell_type": "code",
   "execution_count": 7,
   "id": "3b5699d3-d0d0-4213-a067-bbcf24c55f6f",
   "metadata": {},
   "outputs": [
    {
     "data": {
      "text/plain": [
       " David Beckham is a retired English professional footballer who played as a midfielder. He is the current president and co-owner of Inter Miami and co-owner of Salford City. Beckham is widely regarded as one of the greatest midfielders of his generation and one of the best set-piece specialists of all time. He won 19 major trophies during his 20-year career, including six Premier League titles, the UEFA Champions League, and the La Liga championship. Beckham was also a key player for the England national team, appearing in three FIFA World Cups and two UEFA European Championships. He is the first English player to win league titles in four countries: England, Spain, the United States, and France."
      ]
     },
     "execution_count": 7,
     "metadata": {},
     "output_type": "execute_result"
    }
   ],
   "source": [
    "model.predict(prompt=prompt, max_output_tokens=1000)"
   ]
  },
  {
   "cell_type": "code",
   "execution_count": 8,
   "id": "52aa4681-cea3-4b83-90f9-c6c8690516e6",
   "metadata": {},
   "outputs": [],
   "source": [
    "prompt = f\"provide a 5 bullet points summary (add numbers) of the following article: \\n{article}\""
   ]
  },
  {
   "cell_type": "code",
   "execution_count": 9,
   "id": "389b5b50-cd2f-4583-a811-36821fc0f807",
   "metadata": {},
   "outputs": [
    {
     "data": {
      "text/plain": [
       " 1. David Beckham is a retired English professional footballer, current president and co-owner of Inter Miami, and co-owner of Salford City.\n",
       "\n",
       "\n",
       "2. Beckham began his professional career at Manchester United, where he won numerous titles, including six Premier League titles, two FA Cups, and the UEFA Champions League.\n",
       "\n",
       "\n",
       "3. He later played for Real Madrid, LA Galaxy, and AC Milan, becoming the first British footballer to play 100 UEFA Champions League games.\n",
       "\n",
       "\n",
       "4. Beckham was a key player for the England national team, appearing in three FIFA World Cups and two UEFA European Championships, and captaining the team for six years.\n",
       "\n",
       "\n",
       "5. He is considered a global ambassador of football, a British cultural icon, and one of the greatest midfielders of his generation, known for his range of passing, crossing ability, and bending free-kicks."
      ]
     },
     "execution_count": 9,
     "metadata": {},
     "output_type": "execute_result"
    }
   ],
   "source": [
    "model.predict(prompt=prompt, max_output_tokens=1000)"
   ]
  },
  {
   "cell_type": "code",
   "execution_count": null,
   "id": "3351543d-d926-41ef-a001-5371415e16b6",
   "metadata": {},
   "outputs": [],
   "source": []
  }
 ],
 "metadata": {
  "kernelspec": {
   "display_name": "Python 3 (ipykernel)",
   "language": "python",
   "name": "python3"
  },
  "language_info": {
   "codemirror_mode": {
    "name": "ipython",
    "version": 3
   },
   "file_extension": ".py",
   "mimetype": "text/x-python",
   "name": "python",
   "nbconvert_exporter": "python",
   "pygments_lexer": "ipython3",
   "version": "3.11.5"
  }
 },
 "nbformat": 4,
 "nbformat_minor": 5
}
