{
 "cells": [
  {
   "cell_type": "code",
   "execution_count": 1,
   "id": "e56e749e-2ddf-45dc-a03a-0cff771700ec",
   "metadata": {},
   "outputs": [],
   "source": [
    "import os"
   ]
  },
  {
   "cell_type": "code",
   "execution_count": 2,
   "id": "a4f17116-0eb3-4fc3-9331-bd96ac4a2310",
   "metadata": {},
   "outputs": [],
   "source": [
    "os.environ['GOOGLE_APPLICATION_CREDENTIALS'] = 'ADD CREDENTIALS HERE'"
   ]
  },
  {
   "cell_type": "code",
   "execution_count": 3,
   "id": "0ffaa8ec-77f1-4221-bcb9-7957e216fc86",
   "metadata": {},
   "outputs": [],
   "source": [
    "from vertexai.language_models import TextGenerationModel"
   ]
  },
  {
   "cell_type": "code",
   "execution_count": 4,
   "id": "fc40b66c-a0cb-4a68-876c-a2b11c740572",
   "metadata": {},
   "outputs": [],
   "source": [
    "model = TextGenerationModel.from_pretrained('text-bison')"
   ]
  },
  {
   "cell_type": "code",
   "execution_count": 5,
   "id": "e65e04cd-86a6-41c2-a3b4-e5c45f621736",
   "metadata": {},
   "outputs": [],
   "source": [
    "tweet = \"Oh man, I think $AAPL is going to hit an all time high!\""
   ]
  },
  {
   "cell_type": "markdown",
   "id": "d7b71046-def2-4bad-9fd2-3c61258d5bca",
   "metadata": {},
   "source": [
    "### Sentiment Analysis"
   ]
  },
  {
   "cell_type": "code",
   "execution_count": 6,
   "id": "e85e71e1-18b9-4e0a-a3b0-322c8373378e",
   "metadata": {},
   "outputs": [],
   "source": [
    "sentiment_prompt = f\"Classify the tweet below as positive, negative, or neutral:\\n{tweet}\""
   ]
  },
  {
   "cell_type": "code",
   "execution_count": 7,
   "id": "096f9065-dfc0-48d6-b8e7-f68d7af9fbf8",
   "metadata": {},
   "outputs": [
    {
     "data": {
      "text/plain": [
       " Positive"
      ]
     },
     "execution_count": 7,
     "metadata": {},
     "output_type": "execute_result"
    }
   ],
   "source": [
    "model.predict(sentiment_prompt)"
   ]
  },
  {
   "cell_type": "markdown",
   "id": "c39e754b-8494-4a99-9ef4-c954f6045a2d",
   "metadata": {},
   "source": [
    "### Category Classification"
   ]
  },
  {
   "cell_type": "code",
   "execution_count": 8,
   "id": "bce6b043-8209-4c10-842f-1904adf73c7d",
   "metadata": {},
   "outputs": [],
   "source": [
    "category_prompt = f\"\"\"Classify the following  tweet into one of four categories:\n",
    "- Finance\n",
    "- Housing\n",
    "- Sports\n",
    "- Laundry\n",
    " \n",
    "Here is the tweet:\n",
    "{tweet}\n",
    "\"\"\""
   ]
  },
  {
   "cell_type": "code",
   "execution_count": 9,
   "id": "a971ab02-59a4-4a5a-abeb-9826a406dcb1",
   "metadata": {},
   "outputs": [
    {
     "data": {
      "text/plain": [
       " Finance"
      ]
     },
     "execution_count": 9,
     "metadata": {},
     "output_type": "execute_result"
    }
   ],
   "source": [
    "model.predict(category_prompt)"
   ]
  },
  {
   "cell_type": "code",
   "execution_count": null,
   "id": "a8d8caf3-5471-4cd7-ad5e-fd39b8f00eac",
   "metadata": {},
   "outputs": [],
   "source": []
  }
 ],
 "metadata": {
  "kernelspec": {
   "display_name": "Python 3 (ipykernel)",
   "language": "python",
   "name": "python3"
  },
  "language_info": {
   "codemirror_mode": {
    "name": "ipython",
    "version": 3
   },
   "file_extension": ".py",
   "mimetype": "text/x-python",
   "name": "python",
   "nbconvert_exporter": "python",
   "pygments_lexer": "ipython3",
   "version": "3.11.5"
  }
 },
 "nbformat": 4,
 "nbformat_minor": 5
}
