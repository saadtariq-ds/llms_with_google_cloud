{
 "cells": [
  {
   "cell_type": "code",
   "execution_count": 1,
   "id": "e56e749e-2ddf-45dc-a03a-0cff771700ec",
   "metadata": {},
   "outputs": [],
   "source": [
    "import os"
   ]
  },
  {
   "cell_type": "code",
   "execution_count": 2,
   "id": "a4f17116-0eb3-4fc3-9331-bd96ac4a2310",
   "metadata": {},
   "outputs": [],
   "source": [
    "os.environ['GOOGLE_APPLICATION_CREDENTIALS'] = 'ADD CREDENTIALS HERE'"
   ]
  },
  {
   "cell_type": "code",
   "execution_count": 3,
   "id": "0ffaa8ec-77f1-4221-bcb9-7957e216fc86",
   "metadata": {},
   "outputs": [],
   "source": [
    "from vertexai.language_models import TextGenerationModel"
   ]
  },
  {
   "cell_type": "code",
   "execution_count": 4,
   "id": "fc40b66c-a0cb-4a68-876c-a2b11c740572",
   "metadata": {},
   "outputs": [],
   "source": [
    "model = TextGenerationModel.from_pretrained('text-bison')"
   ]
  },
  {
   "cell_type": "markdown",
   "id": "52c496ab-f5d2-4270-a9b9-a2c7f82db171",
   "metadata": {},
   "source": [
    "## Not Hallucinations"
   ]
  },
  {
   "cell_type": "code",
   "execution_count": 5,
   "id": "db1a6b8c-b428-4575-abbc-265c291baf69",
   "metadata": {},
   "outputs": [],
   "source": [
    "prompt = \"Why was Netflix founded?\""
   ]
  },
  {
   "cell_type": "code",
   "execution_count": 6,
   "id": "f84a5e2e-027c-4fbf-b7b5-7320372efebc",
   "metadata": {},
   "outputs": [
    {
     "data": {
      "text/plain": [
       " Netflix was founded in 1997 by Reed Hastings and Marc Randolph. The company started as a DVD rental service by mail, and has since expanded to include online streaming and production of original content. \n",
       "\n",
       "Hastings was inspired to start Netflix after being charged a late fee for a VHS tape he had rented. He realized that there was a need for a more convenient way to rent movies, and Netflix was born."
      ]
     },
     "execution_count": 6,
     "metadata": {},
     "output_type": "execute_result"
    }
   ],
   "source": [
    "model.predict(prompt, max_output_tokens=2048, temperature=0)"
   ]
  },
  {
   "cell_type": "code",
   "execution_count": 7,
   "id": "0a0b3490-4243-457f-9691-578012de3551",
   "metadata": {},
   "outputs": [],
   "source": [
    "prompt = \"Is the founding story of Netflix a myth?\""
   ]
  },
  {
   "cell_type": "code",
   "execution_count": 8,
   "id": "b19370c8-b409-43b0-a908-e8a8198d9d96",
   "metadata": {},
   "outputs": [
    {
     "data": {
      "text/plain": [
       " The founding story of Netflix, as often told, contains some inaccuracies and oversimplifications. While it is true that Netflix was founded by Reed Hastings and Marc Randolph, the idea for the company did not come about in a single \"aha\" moment during a late fee incident. \n",
       "\n",
       "In reality, the development of Netflix was a more gradual process. Hastings had been interested in the idea of a DVD-by-mail service for some time, and he had conducted research on the feasibility of such a business. He was also inspired by the success of Amazon, which had disrupted the traditional bookselling industry with its online platform.\n",
       "\n",
       "Hastings and Randolph officially launched Netflix in 1997, and the company initially operated out of Hastings' living room. The early days of Netflix were challenging, and the company faced competition from established video rental chains like Blockbuster. However, Netflix was able to differentiate itself through its innovative business model, which offered a wide selection of DVDs at a low monthly price with no late fees.\n",
       "\n",
       "Over time, Netflix grew in popularity and expanded its reach into new markets. The company also began to offer streaming services, which allowed customers to watch movies and TV shows online. In 2013, Netflix launched its original programming with the release of the hit series \"House of Cards.\"\n",
       "\n",
       "While the founding story of Netflix may not be entirely accurate, it does capture the essence of the company's origins and its innovative approach to the entertainment industry."
      ]
     },
     "execution_count": 8,
     "metadata": {},
     "output_type": "execute_result"
    }
   ],
   "source": [
    "model.predict(prompt, max_output_tokens=2048, temperature=0)"
   ]
  },
  {
   "cell_type": "markdown",
   "id": "c35483bc-b119-48eb-9e47-8f400a3f1046",
   "metadata": {},
   "source": [
    "## Hallucination"
   ]
  },
  {
   "cell_type": "code",
   "execution_count": 9,
   "id": "b25295ac-1771-4a99-8d29-424c220e271c",
   "metadata": {},
   "outputs": [],
   "source": [
    "prompt = \"What is the founding story of the GooberBingBong SaaS company?\""
   ]
  },
  {
   "cell_type": "code",
   "execution_count": 10,
   "id": "ce193928-4f68-4a5a-9dd9-188b3b200be9",
   "metadata": {},
   "outputs": [
    {
     "data": {
      "text/plain": [
       " In the bustling city of Mountain View, California, three ambitious tech enthusiasts embarked on a journey that would change the course of their lives and the world of software. In 2009, Mark Zuckerberg, a young Harvard dropout, joined forces with Dustin Moskovitz and Eduardo Saverin to create a social networking platform that would connect people across the globe. Their brainchild, Facebook, quickly gained popularity, transforming the way people communicated and interacted online.\n",
       "\n",
       "As Facebook continued to grow exponentially, Mark, Dustin, and Eduardo faced new challenges and opportunities. They recognized the need for a more efficient and streamlined way for businesses to manage their customer relationships. This realization sparked the idea for a new software-as-a-service (SaaS) company that would revolutionize the way businesses operated.\n",
       "\n",
       "In 2012, the trio founded GooberBingBong, a cloud-based customer relationship management (CRM) platform designed to empower businesses of all sizes. With its user-friendly interface, powerful features, and scalable architecture, GooberBingBong quickly became the go-to CRM solution for businesses looking to streamline their operations and enhance customer engagement.\n",
       "\n",
       "The success of GooberBingBong was driven by the team's unwavering commitment to innovation and customer satisfaction. They continuously listened to feedback from their users and worked tirelessly to improve the platform, adding new features and functionalities that met the evolving needs of businesses.\n",
       "\n",
       "As GooberBingBong's reputation grew, it attracted the attention of investors and industry leaders. The company secured significant funding, allowing it to expand its team and accelerate its growth. Through strategic partnerships and collaborations, GooberBingBong further solidified its position as a leading SaaS provider, offering a comprehensive suite of CRM tools to businesses worldwide.\n",
       "\n",
       "Over the years, GooberBingBong has evolved from a simple CRM platform into a comprehensive business management solution. It now offers a wide range of features, including sales force automation, marketing automation, customer service, and analytics, all seamlessly integrated into a single, cloud-based platform.\n",
       "\n",
       "Today, GooberBingBong is a global SaaS powerhouse, serving millions of users across various industries. It has become synonymous with innovation, reliability, and customer-centricity. The company's founding story, rooted in the vision of three passionate tech entrepreneurs, continues to inspire and motivate businesses to embrace technology and transform the way they operate."
      ]
     },
     "execution_count": 10,
     "metadata": {},
     "output_type": "execute_result"
    }
   ],
   "source": [
    "model.predict(prompt, max_output_tokens=2048, temperature=0)"
   ]
  },
  {
   "cell_type": "markdown",
   "id": "efda92bf-5a57-4a31-8f5a-b71686eee9d5",
   "metadata": {},
   "source": [
    "### Dealing with Hallucination"
   ]
  },
  {
   "cell_type": "code",
   "execution_count": 11,
   "id": "071cfdbd-a801-4e1a-9acc-3fa4be65a915",
   "metadata": {},
   "outputs": [],
   "source": [
    "prompt = \"What is the founding story of the GooberBingBong SaaS company? If the company doesnot exist, say so.\""
   ]
  },
  {
   "cell_type": "code",
   "execution_count": 12,
   "id": "aefcf948-fc69-4741-87ca-ceba0fec3658",
   "metadata": {},
   "outputs": [
    {
     "data": {
      "text/plain": [
       " There is no company called GooberBingBong."
      ]
     },
     "execution_count": 12,
     "metadata": {},
     "output_type": "execute_result"
    }
   ],
   "source": [
    "model.predict(prompt, max_output_tokens=2048, temperature=0)"
   ]
  },
  {
   "cell_type": "code",
   "execution_count": null,
   "id": "c1e7b920-38ec-4328-b11d-94782d9b2eb1",
   "metadata": {},
   "outputs": [],
   "source": []
  }
 ],
 "metadata": {
  "kernelspec": {
   "display_name": "Python 3 (ipykernel)",
   "language": "python",
   "name": "python3"
  },
  "language_info": {
   "codemirror_mode": {
    "name": "ipython",
    "version": 3
   },
   "file_extension": ".py",
   "mimetype": "text/x-python",
   "name": "python",
   "nbconvert_exporter": "python",
   "pygments_lexer": "ipython3",
   "version": "3.11.5"
  }
 },
 "nbformat": 4,
 "nbformat_minor": 5
}
