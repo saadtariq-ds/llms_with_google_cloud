{
 "cells": [
  {
   "cell_type": "code",
   "execution_count": 1,
   "id": "e56e749e-2ddf-45dc-a03a-0cff771700ec",
   "metadata": {},
   "outputs": [],
   "source": [
    "import os"
   ]
  },
  {
   "cell_type": "code",
   "execution_count": 2,
   "id": "a4f17116-0eb3-4fc3-9331-bd96ac4a2310",
   "metadata": {},
   "outputs": [],
   "source": [
    "os.environ['GOOGLE_APPLICATION_CREDENTIALS'] = 'ADD CREDENTIALS HERE'"
   ]
  },
  {
   "cell_type": "code",
   "execution_count": 3,
   "id": "0ffaa8ec-77f1-4221-bcb9-7957e216fc86",
   "metadata": {},
   "outputs": [],
   "source": [
    "from vertexai.language_models import TextGenerationModel"
   ]
  },
  {
   "cell_type": "code",
   "execution_count": 4,
   "id": "fc40b66c-a0cb-4a68-876c-a2b11c740572",
   "metadata": {},
   "outputs": [],
   "source": [
    "model = TextGenerationModel.from_pretrained('text-bison')"
   ]
  },
  {
   "cell_type": "code",
   "execution_count": 5,
   "id": "897f8667-ea6b-45e9-8c08-6669a902b3c6",
   "metadata": {},
   "outputs": [],
   "source": [
    "tweet = \"Oh man, I think $AAPL is going to hit an all time high! But $XOM might crash.\""
   ]
  },
  {
   "cell_type": "code",
   "execution_count": 6,
   "id": "ef389c5e-9e54-4b3f-a5ba-bbb5b06bc9da",
   "metadata": {},
   "outputs": [],
   "source": [
    "prompt = f\"\"\" For the tweet below extract all stock tickers mentioned and assign a posible sentiment\n",
    "to the stock ticker (positive, negative, neutral).\n",
    "\n",
    "Here is the tweet:\n",
    "{tweet}\n",
    "\"\"\""
   ]
  },
  {
   "cell_type": "code",
   "execution_count": 7,
   "id": "13a6416a-ae99-42f9-a10c-598456c70269",
   "metadata": {},
   "outputs": [
    {
     "data": {
      "text/plain": [
       " $AAPL: positive\n",
       "$XOM: negative"
      ]
     },
     "execution_count": 7,
     "metadata": {},
     "output_type": "execute_result"
    }
   ],
   "source": [
    "model.predict(prompt)"
   ]
  },
  {
   "cell_type": "code",
   "execution_count": 8,
   "id": "a1584136-6a79-4124-ae07-ff0f3b787dfe",
   "metadata": {},
   "outputs": [],
   "source": [
    "prompt = f\"\"\" For the tweet below extract all stock tickers mentioned and assign a posible sentiment\n",
    "to the stock ticker (positive, negative, neutral).\n",
    "\n",
    "Here is the tweet:\n",
    "{tweet}\n",
    "\n",
    "Send your results as a list of tuple:\n",
    "[($Stock, sentiment),($Stock, sentiment)]\n",
    "\"\"\""
   ]
  },
  {
   "cell_type": "code",
   "execution_count": 9,
   "id": "3e58f57a-681b-426f-a63a-bacd47b190bc",
   "metadata": {},
   "outputs": [],
   "source": [
    "result = model.predict(prompt)"
   ]
  },
  {
   "cell_type": "code",
   "execution_count": 10,
   "id": "0b396273-cb55-456c-99ae-30396f1db4ad",
   "metadata": {},
   "outputs": [
    {
     "data": {
      "text/plain": [
       " [('$AAPL', 'positive'), ('$XOM', 'negative')]"
      ]
     },
     "execution_count": 10,
     "metadata": {},
     "output_type": "execute_result"
    }
   ],
   "source": [
    "result"
   ]
  },
  {
   "cell_type": "code",
   "execution_count": 11,
   "id": "c02c23d0-8c1d-4fdd-9527-a651d4be5482",
   "metadata": {},
   "outputs": [
    {
     "data": {
      "text/plain": [
       "vertexai.language_models.MultiCandidateTextGenerationResponse"
      ]
     },
     "execution_count": 11,
     "metadata": {},
     "output_type": "execute_result"
    }
   ],
   "source": [
    "type(result)"
   ]
  },
  {
   "cell_type": "code",
   "execution_count": 12,
   "id": "d5bf8259-b507-4bf3-a832-6bdac51cdfd6",
   "metadata": {},
   "outputs": [
    {
     "data": {
      "text/plain": [
       "\" [('$AAPL', 'positive'), ('$XOM', 'negative')]\""
      ]
     },
     "execution_count": 12,
     "metadata": {},
     "output_type": "execute_result"
    }
   ],
   "source": [
    "result.text"
   ]
  },
  {
   "cell_type": "code",
   "execution_count": 13,
   "id": "2530aeca-f88e-493a-9305-ce9ffad80b8f",
   "metadata": {},
   "outputs": [
    {
     "data": {
      "text/plain": [
       "str"
      ]
     },
     "execution_count": 13,
     "metadata": {},
     "output_type": "execute_result"
    }
   ],
   "source": [
    "type(result.text)"
   ]
  },
  {
   "cell_type": "markdown",
   "id": "c9df39a1-8db3-4707-8073-ba114854204b",
   "metadata": {},
   "source": [
    "### Converting Response to Python List"
   ]
  },
  {
   "cell_type": "code",
   "execution_count": 14,
   "id": "d30c93d2-1437-4be2-b260-6f64ed18d90e",
   "metadata": {},
   "outputs": [],
   "source": [
    "stock_list = eval(result.text)"
   ]
  },
  {
   "cell_type": "code",
   "execution_count": 15,
   "id": "2f378384-9244-41ac-8e83-062273815a2f",
   "metadata": {},
   "outputs": [
    {
     "data": {
      "text/plain": [
       "[('$AAPL', 'positive'), ('$XOM', 'negative')]"
      ]
     },
     "execution_count": 15,
     "metadata": {},
     "output_type": "execute_result"
    }
   ],
   "source": [
    "stock_list"
   ]
  },
  {
   "cell_type": "code",
   "execution_count": 16,
   "id": "35c55a6e-fec8-4c6b-9f1c-461cef4ccb7b",
   "metadata": {},
   "outputs": [
    {
     "data": {
      "text/plain": [
       "list"
      ]
     },
     "execution_count": 16,
     "metadata": {},
     "output_type": "execute_result"
    }
   ],
   "source": [
    "type(stock_list)"
   ]
  },
  {
   "cell_type": "code",
   "execution_count": null,
   "id": "185965b0-6cfd-497f-ba4b-e717e791fb53",
   "metadata": {},
   "outputs": [],
   "source": []
  }
 ],
 "metadata": {
  "kernelspec": {
   "display_name": "Python 3 (ipykernel)",
   "language": "python",
   "name": "python3"
  },
  "language_info": {
   "codemirror_mode": {
    "name": "ipython",
    "version": 3
   },
   "file_extension": ".py",
   "mimetype": "text/x-python",
   "name": "python",
   "nbconvert_exporter": "python",
   "pygments_lexer": "ipython3",
   "version": "3.11.5"
  }
 },
 "nbformat": 4,
 "nbformat_minor": 5
}
