{
 "cells": [
  {
   "cell_type": "code",
   "execution_count": 1,
   "id": "e56e749e-2ddf-45dc-a03a-0cff771700ec",
   "metadata": {},
   "outputs": [],
   "source": [
    "import os"
   ]
  },
  {
   "cell_type": "code",
   "execution_count": 2,
   "id": "a4f17116-0eb3-4fc3-9331-bd96ac4a2310",
   "metadata": {},
   "outputs": [],
   "source": [
    "os.environ['GOOGLE_APPLICATION_CREDENTIALS'] = 'ADD CREDENTIALS HERE'"
   ]
  },
  {
   "cell_type": "code",
   "execution_count": 3,
   "id": "0ffaa8ec-77f1-4221-bcb9-7957e216fc86",
   "metadata": {},
   "outputs": [],
   "source": [
    "from vertexai.language_models import TextGenerationModel"
   ]
  },
  {
   "cell_type": "code",
   "execution_count": 4,
   "id": "fc40b66c-a0cb-4a68-876c-a2b11c740572",
   "metadata": {},
   "outputs": [],
   "source": [
    "model = TextGenerationModel.from_pretrained('text-bison')"
   ]
  },
  {
   "cell_type": "code",
   "execution_count": 5,
   "id": "e03bb361-3b85-45cd-9142-74ec46b96a7d",
   "metadata": {},
   "outputs": [],
   "source": [
    "prompt = \"Create a draft email for an employee asking for a raise\""
   ]
  },
  {
   "cell_type": "code",
   "execution_count": 6,
   "id": "156d5c76-205d-414f-9b08-1cbd373aa63d",
   "metadata": {},
   "outputs": [],
   "source": [
    "result = model.predict(prompt, max_output_tokens=2048)"
   ]
  },
  {
   "cell_type": "code",
   "execution_count": 7,
   "id": "e36dbbe6-587d-4c78-bc38-e19f6e510b93",
   "metadata": {},
   "outputs": [
    {
     "data": {
      "text/plain": [
       " Subject: Request for Raise\n",
       "\n",
       "Dear [Name of Supervisor],\n",
       "\n",
       "I am writing to request a raise. I have been with the company for [number] years and have consistently exceeded expectations in my role.\n",
       "\n",
       "In the past year, I have successfully completed several projects that have had a positive impact on the company. For example, I led the development of a new marketing campaign that resulted in a 15% increase in sales. I also played a key role in the launch of a new product line that has been very well-received by customers.\n",
       "\n",
       "In addition to my accomplishments, I am also a highly motivated and dedicated employee. I am always willing to go the extra mile and I am always looking for ways to improve my skills and knowledge.\n",
       "\n",
       "I believe that my performance and contributions to the company warrant a raise. I am requesting a raise of [amount]%. I am confident that I will continue to be a valuable asset to the company and that I will continue to exceed expectations in my role.\n",
       "\n",
       "Thank you for your time and consideration. I look forward to discussing this matter with you further.\n",
       "\n",
       "Sincerely,\n",
       "[Your Name]"
      ]
     },
     "execution_count": 7,
     "metadata": {},
     "output_type": "execute_result"
    }
   ],
   "source": [
    "result"
   ]
  },
  {
   "cell_type": "code",
   "execution_count": 8,
   "id": "aac2c37d-74fd-4b21-8f2f-80ae13f4a564",
   "metadata": {},
   "outputs": [],
   "source": [
    "prompt = f\"Re-write this email in an assertive tone with a bullet point list of accomplistments:\\n{result.text}\""
   ]
  },
  {
   "cell_type": "code",
   "execution_count": 9,
   "id": "59b0a286-75da-4fc9-9976-77378cdd1724",
   "metadata": {},
   "outputs": [],
   "source": [
    "result = model.predict(prompt, max_output_tokens=2048)"
   ]
  },
  {
   "cell_type": "code",
   "execution_count": 10,
   "id": "8959f1ac-0fe2-4990-b965-3ada6ffb39ff",
   "metadata": {},
   "outputs": [
    {
     "data": {
      "text/plain": [
       " Subject: Request for Raise\n",
       "\n",
       "Dear [Name of Supervisor],\n",
       "\n",
       "I am writing to request a raise. I have been with the company for [number] years and have consistently exceeded expectations in my role.\n",
       "\n",
       "In the past year, I have successfully completed several projects that have had a positive impact on the company. \n",
       "- Led the development of a new marketing campaign that resulted in a 15% increase in sales. \n",
       "- Played a key role in the launch of a new product line that has been very well-received by customers.\n",
       "\n",
       "In addition to my accomplishments, I am also a highly motivated and dedicated employee. \n",
       "- Always willing to go the extra mile. \n",
       "- Always looking for ways to improve my skills and knowledge.\n",
       "\n",
       "I believe that my performance and contributions to the company warrant a raise. I am requesting a raise of [amount]%. I am confident that I will continue to be a valuable asset to the company and that I will continue to exceed expectations in my role.\n",
       "\n",
       "Thank you for your time and consideration. \n",
       "\n",
       "Sincerely,\n",
       "[Your Name]"
      ]
     },
     "execution_count": 10,
     "metadata": {},
     "output_type": "execute_result"
    }
   ],
   "source": [
    "result"
   ]
  },
  {
   "cell_type": "code",
   "execution_count": null,
   "id": "445d04b5-c785-4165-be87-ac012345b09a",
   "metadata": {},
   "outputs": [],
   "source": []
  }
 ],
 "metadata": {
  "kernelspec": {
   "display_name": "Python 3 (ipykernel)",
   "language": "python",
   "name": "python3"
  },
  "language_info": {
   "codemirror_mode": {
    "name": "ipython",
    "version": 3
   },
   "file_extension": ".py",
   "mimetype": "text/x-python",
   "name": "python",
   "nbconvert_exporter": "python",
   "pygments_lexer": "ipython3",
   "version": "3.11.5"
  }
 },
 "nbformat": 4,
 "nbformat_minor": 5
}
