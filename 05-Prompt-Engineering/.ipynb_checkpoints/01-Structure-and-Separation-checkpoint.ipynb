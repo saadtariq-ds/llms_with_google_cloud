{
 "cells": [
  {
   "cell_type": "code",
   "execution_count": 1,
   "id": "e56e749e-2ddf-45dc-a03a-0cff771700ec",
   "metadata": {},
   "outputs": [],
   "source": [
    "import os"
   ]
  },
  {
   "cell_type": "code",
   "execution_count": 2,
   "id": "a4f17116-0eb3-4fc3-9331-bd96ac4a2310",
   "metadata": {},
   "outputs": [],
   "source": [
    "os.environ['GOOGLE_APPLICATION_CREDENTIALS'] = 'ADD CREDENTIALS HERE'"
   ]
  },
  {
   "cell_type": "code",
   "execution_count": 3,
   "id": "0ffaa8ec-77f1-4221-bcb9-7957e216fc86",
   "metadata": {},
   "outputs": [],
   "source": [
    "from vertexai.language_models import TextGenerationModel"
   ]
  },
  {
   "cell_type": "code",
   "execution_count": 4,
   "id": "fc40b66c-a0cb-4a68-876c-a2b11c740572",
   "metadata": {},
   "outputs": [],
   "source": [
    "model = TextGenerationModel.from_pretrained('text-bison')"
   ]
  },
  {
   "cell_type": "code",
   "execution_count": 5,
   "id": "57dc30b6-52e6-4822-8cd5-6d0ecbbee68f",
   "metadata": {},
   "outputs": [],
   "source": [
    "prompt = 'Create a multiple choice question about Machine Learning, also include the answer'"
   ]
  },
  {
   "cell_type": "code",
   "execution_count": 6,
   "id": "c25b1199-df72-4460-be37-c6b38a1de699",
   "metadata": {},
   "outputs": [
    {
     "data": {
      "text/plain": [
       " Which of the following is a type of Machine Learning?\n",
       "a) Supervised Learning\n",
       "b) Unsupervised Learning\n",
       "c) Reinforcement Learning\n",
       "d) All of the above\n",
       "\n",
       "Answer: d) All of the above"
      ]
     },
     "execution_count": 6,
     "metadata": {},
     "output_type": "execute_result"
    }
   ],
   "source": [
    "model.predict(prompt)"
   ]
  },
  {
   "cell_type": "markdown",
   "id": "2d04ea58-68a6-47c6-9844-eed71b6642c7",
   "metadata": {},
   "source": [
    "## Formatting"
   ]
  },
  {
   "cell_type": "code",
   "execution_count": 7,
   "id": "23446769-76ba-4a9d-9e0c-ccbdc2b3d4e8",
   "metadata": {},
   "outputs": [],
   "source": [
    "prompt = \"\"\"Create a multiple choice question about Machine Learning, also include the answer.\n",
    "Follow this format:\n",
    "\n",
    "    Here is the question\n",
    "    a. Option One\n",
    "    b. Option Two\n",
    "    c. Option Three\n",
    "\n",
    "    Answer: *Then only provide the letter*\n",
    "\"\"\""
   ]
  },
  {
   "cell_type": "code",
   "execution_count": 8,
   "id": "99c0c951-4a80-4095-99a4-59a6c2cdc3bd",
   "metadata": {},
   "outputs": [
    {
     "data": {
      "text/plain": [
       " Here is the question\n",
       "Which of the following is a type of Machine Learning?\n",
       "a. Supervised Learning\n",
       "b. Unsupervised Learning\n",
       "c. Reinforcement Learning\n",
       "\n",
       "Answer: a"
      ]
     },
     "execution_count": 8,
     "metadata": {},
     "output_type": "execute_result"
    }
   ],
   "source": [
    "model.predict(prompt)"
   ]
  },
  {
   "cell_type": "code",
   "execution_count": 9,
   "id": "4b1ac3cc-f0fc-4883-9aaf-e5b302ec4600",
   "metadata": {},
   "outputs": [],
   "source": [
    "prompt = \"\"\"Create a multiple choice question about Machine Learning, also include the answer.\n",
    "Follow this format:\n",
    "\n",
    "    Here is the question\n",
    "    a. Option One\n",
    "    b. Option Two\n",
    "    c. Option Three\n",
    "\n",
    "    Answer: *Then only provide the letter, return all possible answer*\n",
    "\"\"\""
   ]
  },
  {
   "cell_type": "code",
   "execution_count": 10,
   "id": "136c12d0-24b6-488c-9e4b-6cd9735935cb",
   "metadata": {},
   "outputs": [
    {
     "data": {
      "text/plain": [
       " Here is the question\n",
       "Which of the following is a type of Machine Learning?\n",
       "a. Supervised Learning\n",
       "b. Unsupervised Learning\n",
       "c. Reinforcement Learning\n",
       "\n",
       "Answer: a, b, c"
      ]
     },
     "execution_count": 10,
     "metadata": {},
     "output_type": "execute_result"
    }
   ],
   "source": [
    "model.predict(prompt)"
   ]
  }
 ],
 "metadata": {
  "kernelspec": {
   "display_name": "Python 3 (ipykernel)",
   "language": "python",
   "name": "python3"
  },
  "language_info": {
   "codemirror_mode": {
    "name": "ipython",
    "version": 3
   },
   "file_extension": ".py",
   "mimetype": "text/x-python",
   "name": "python",
   "nbconvert_exporter": "python",
   "pygments_lexer": "ipython3",
   "version": "3.11.5"
  }
 },
 "nbformat": 4,
 "nbformat_minor": 5
}
