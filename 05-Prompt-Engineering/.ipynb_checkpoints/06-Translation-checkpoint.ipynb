{
 "cells": [
  {
   "cell_type": "code",
   "execution_count": 1,
   "id": "e56e749e-2ddf-45dc-a03a-0cff771700ec",
   "metadata": {},
   "outputs": [],
   "source": [
    "import os"
   ]
  },
  {
   "cell_type": "code",
   "execution_count": 2,
   "id": "a4f17116-0eb3-4fc3-9331-bd96ac4a2310",
   "metadata": {},
   "outputs": [],
   "source": [
    "os.environ['GOOGLE_APPLICATION_CREDENTIALS'] = 'ADD CREDENTIALS HERE'"
   ]
  },
  {
   "cell_type": "code",
   "execution_count": 3,
   "id": "0ffaa8ec-77f1-4221-bcb9-7957e216fc86",
   "metadata": {},
   "outputs": [],
   "source": [
    "from vertexai.language_models import TextGenerationModel"
   ]
  },
  {
   "cell_type": "code",
   "execution_count": 4,
   "id": "fc40b66c-a0cb-4a68-876c-a2b11c740572",
   "metadata": {},
   "outputs": [],
   "source": [
    "model = TextGenerationModel.from_pretrained('text-bison')"
   ]
  },
  {
   "cell_type": "code",
   "execution_count": 5,
   "id": "9febe519-a874-49a4-bbdf-2df39d4640e2",
   "metadata": {},
   "outputs": [],
   "source": [
    "text = \"Hi, This notebook focuses on the Translation capability of Large Language Models\""
   ]
  },
  {
   "cell_type": "code",
   "execution_count": 6,
   "id": "6ed96da0-8153-41fa-8ed3-17b554c58719",
   "metadata": {},
   "outputs": [],
   "source": [
    "prompt = f\"Translate the following text into Spanish:\\n{text}\""
   ]
  },
  {
   "cell_type": "code",
   "execution_count": 7,
   "id": "926a7360-f63e-419b-998d-ed8e82965d6a",
   "metadata": {},
   "outputs": [
    {
     "data": {
      "text/plain": [
       " Hola, este cuaderno se centra en la capacidad de traducción de los modelos de lenguaje extenso"
      ]
     },
     "execution_count": 7,
     "metadata": {},
     "output_type": "execute_result"
    }
   ],
   "source": [
    "model.predict(prompt=prompt)"
   ]
  },
  {
   "cell_type": "code",
   "execution_count": null,
   "id": "132af171-4499-4e46-b853-fa73f8bea21c",
   "metadata": {},
   "outputs": [],
   "source": []
  }
 ],
 "metadata": {
  "kernelspec": {
   "display_name": "Python 3 (ipykernel)",
   "language": "python",
   "name": "python3"
  },
  "language_info": {
   "codemirror_mode": {
    "name": "ipython",
    "version": 3
   },
   "file_extension": ".py",
   "mimetype": "text/x-python",
   "name": "python",
   "nbconvert_exporter": "python",
   "pygments_lexer": "ipython3",
   "version": "3.11.5"
  }
 },
 "nbformat": 4,
 "nbformat_minor": 5
}
