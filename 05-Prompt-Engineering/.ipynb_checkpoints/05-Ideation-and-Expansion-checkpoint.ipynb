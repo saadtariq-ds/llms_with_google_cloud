{
 "cells": [
  {
   "cell_type": "code",
   "execution_count": 1,
   "id": "e56e749e-2ddf-45dc-a03a-0cff771700ec",
   "metadata": {},
   "outputs": [],
   "source": [
    "import os"
   ]
  },
  {
   "cell_type": "code",
   "execution_count": 2,
   "id": "a4f17116-0eb3-4fc3-9331-bd96ac4a2310",
   "metadata": {},
   "outputs": [],
   "source": [
    "os.environ['GOOGLE_APPLICATION_CREDENTIALS'] = 'ADD CREDENTIALS HERE'"
   ]
  },
  {
   "cell_type": "code",
   "execution_count": 3,
   "id": "0ffaa8ec-77f1-4221-bcb9-7957e216fc86",
   "metadata": {},
   "outputs": [],
   "source": [
    "from vertexai.language_models import TextGenerationModel"
   ]
  },
  {
   "cell_type": "code",
   "execution_count": 4,
   "id": "fc40b66c-a0cb-4a68-876c-a2b11c740572",
   "metadata": {},
   "outputs": [],
   "source": [
    "model = TextGenerationModel.from_pretrained('text-bison')"
   ]
  },
  {
   "cell_type": "markdown",
   "id": "9785ccfc-74ea-43b0-aaad-5a4165350c4a",
   "metadata": {},
   "source": [
    "## Ideation"
   ]
  },
  {
   "cell_type": "code",
   "execution_count": 5,
   "id": "a187b55c-51bf-4fa7-b025-288bd1701d7a",
   "metadata": {},
   "outputs": [],
   "source": [
    "prompt = \"Give me 3 different ideas for a blog post about Large Language Models\""
   ]
  },
  {
   "cell_type": "code",
   "execution_count": 6,
   "id": "ed5020f9-e966-4584-9eea-2be8895f05e7",
   "metadata": {},
   "outputs": [
    {
     "data": {
      "text/plain": [
       " 1. The Future of Large Language Models: Exploring the Potential of LLMs in Various Industries\n",
       "2. Understanding the Challenges of Large Language Models: Overcoming Bias, Safety, and Ethical Concerns\n",
       "3. Large Language Models and the Democratization of AI: How LLMs are Making AI Accessible to the Masses"
      ]
     },
     "execution_count": 6,
     "metadata": {},
     "output_type": "execute_result"
    }
   ],
   "source": [
    "model.predict(prompt)"
   ]
  },
  {
   "cell_type": "markdown",
   "id": "27cd4163-c5f4-4886-a547-14743b6960a6",
   "metadata": {},
   "source": [
    "## Expansion"
   ]
  },
  {
   "cell_type": "code",
   "execution_count": 7,
   "id": "09bcf8a2-a9db-4082-8d44-148075141fcf",
   "metadata": {},
   "outputs": [],
   "source": [
    "prompt = \"\"\" Create an outline for this blog post topic:\n",
    "\n",
    "The Future of Large Language Models: Exploring the Potential of LLMs in Various Industries\n",
    "\"\"\""
   ]
  },
  {
   "cell_type": "code",
   "execution_count": 8,
   "id": "d111c69d-ee5c-45f8-be98-8cab9f603b04",
   "metadata": {},
   "outputs": [
    {
     "data": {
      "text/plain": [
       " Introduction:\n",
       "- Overview of Large Language Models (LLMs) and their capabilities\n",
       "- The current state of LLMs in various industries\n",
       "\n",
       "The Potential of LLMs in Different Industries:\n",
       "- Healthcare: LLMs for medical diagnosis, personalized treatment plans, and drug discovery\n",
       "- Finance: LLMs for financial analysis, algorithmic trading, and risk assessment\n",
       "- Customer Service: LLMs for chatbots, virtual assistants, and customer support automation\n",
       "- Education: LLMs for personalized learning, adaptive courseware, and automated grading\n",
       "- Media and Entertainment: LLMs for content creation, recommendation systems, and personalized advertising\n",
       "- Retail: LLMs for product recommendations, dynamic pricing, and supply chain optimization\n",
       "\n",
       "Challenges and Limitations of LLMs:\n",
       "- Ethical considerations and concerns\n",
       "- Bias and fairness issues\n",
       "- Scalability and computational costs\n",
       "- Data privacy and security\n",
       "\n",
       "Future Trends and Advancements:\n",
       "- The rise of multimodal LLMs\n",
       "- Integration of LLMs with other AI technologies\n",
       "- Advances in language understanding and generation\n",
       "- The development of more efficient and scalable LLM architectures\n",
       "\n",
       "Conclusion:\n",
       "- Summary of the potential and challenges of LLMs\n",
       "- The future outlook for LLMs across various industries"
      ]
     },
     "execution_count": 8,
     "metadata": {},
     "output_type": "execute_result"
    }
   ],
   "source": [
    "model.predict(prompt, max_output_tokens=2048)"
   ]
  },
  {
   "cell_type": "code",
   "execution_count": 9,
   "id": "c4fbab4b-b2bc-47d5-b9ae-5469d1e2a94c",
   "metadata": {},
   "outputs": [],
   "source": [
    "outline = model.predict(prompt, max_output_tokens=2048)"
   ]
  },
  {
   "cell_type": "code",
   "execution_count": 10,
   "id": "56122ad4-744c-401e-ae0a-1602b7c77841",
   "metadata": {},
   "outputs": [],
   "source": [
    "prompt = f\"Write a blog post for the outline below:\\n{outline.text}\""
   ]
  },
  {
   "cell_type": "code",
   "execution_count": 11,
   "id": "b51151b9-a95f-48c2-9bfc-c88433998cfe",
   "metadata": {},
   "outputs": [
    {
     "data": {
      "text/plain": [
       " Introduction:\n",
       "Large Language Models (LLMs) are advanced AI systems capable of understanding, generating, and manipulating natural language. With their ability to process and analyze vast amounts of text data, LLMs have shown remarkable capabilities in various domains. From generating human-like text to performing complex language tasks, LLMs are transforming industries and pushing the boundaries of what is possible with AI.\n",
       "\n",
       "The current state of LLMs in various industries showcases their diverse applications. In healthcare, LLMs are being used to assist in medical diagnosis, generate personalized treatment plans, and aid in drug discovery. In finance, LLMs power algorithmic trading systems, provide financial analysis, and assess risks. Customer service has seen the integration of LLMs in chatbots and virtual assistants, offering automated support and improving customer experiences.\n",
       "\n",
       "The Potential of LLMs in Different Industries:\n",
       "LLMs have the potential to revolutionize various industries by augmenting human capabilities and enabling new possibilities. Here are some key areas where LLMs are making a significant impact:\n",
       "\n",
       "Healthcare: LLMs can process and analyze vast amounts of medical data, assisting healthcare professionals in making more informed decisions. They can generate personalized treatment plans based on individual patient profiles, predict disease progression, and even aid in drug discovery by identifying potential drug candidates.\n",
       "\n",
       "Finance: LLMs are transforming the finance industry by providing real-time financial analysis, generating reports, and assisting in algorithmic trading. They can analyze market trends, identify investment opportunities, and assess risks, enabling faster and more accurate decision-making.\n",
       "\n",
       "Customer Service: LLMs are revolutionizing customer service by offering 24/7 support through chatbots and virtual assistants. They can handle customer inquiries, resolve issues, and provide personalized assistance, improving customer satisfaction and reducing operational costs.\n",
       "\n",
       "Education: LLMs are making education more personalized and adaptive by generating tailored course material, providing feedback on assignments, and answering student queries. They can also assist in grading, freeing up teachers' time for more meaningful interactions with students.\n",
       "\n",
       "Media and Entertainment: LLMs are fueling creativity and innovation in the media and entertainment industry. They can generate realistic text, create compelling stories, write different forms of creative content, and even compose music. LLMs are also used in recommendation systems, providing personalized content suggestions to enhance user engagement.\n",
       "\n",
       "Retail: LLMs are transforming the retail industry by offering personalized product recommendations, optimizing pricing strategies, and improving supply chain management. They can analyze customer data, understand preferences, and predict demand, enabling retailers to deliver tailored experiences and increase sales.\n",
       "\n",
       "Challenges and Limitations of LLMs:\n",
       "While LLMs hold immense potential, they also come with certain challenges and limitations:\n",
       "\n",
       "Ethical considerations and concerns: LLMs can generate content that is harmful, biased, or promotes misinformation. Ensuring ethical use and addressing societal concerns is crucial for responsible AI development.\n",
       "\n",
       "Bias and fairness issues: LLMs are trained on large datasets that may contain biases, leading to the generation of biased content. Mitigating bias and promoting fairness in LLMs is an ongoing challenge.\n",
       "\n",
       "Scalability and computational costs: Training and deploying LLMs require significant computational resources, making them inaccessible to some organizations. Striking a balance between model performance and scalability is essential for wider adoption.\n",
       "\n",
       "Data privacy and security: LLMs require vast amounts of data for training, raising concerns about data privacy and security. Protecting sensitive information and ensuring data privacy is crucial for maintaining trust in AI systems.\n",
       "\n",
       "Future Trends and Advancements:\n",
       "The future of LLMs holds exciting possibilities as advancements continue to push the boundaries of what is possible:\n",
       "\n",
       "The rise of multimodal LLMs: LLMs that can process and generate different forms of data, such as text, images, and audio, are emerging. Multimodal LLMs will enable more comprehensive and realistic interactions with AI systems.\n",
       "\n",
       "Integration of LLMs with other AI technologies: Combining LLMs with other AI techniques, such as computer vision and reinforcement learning, will create powerful hybrid systems capable of solving complex real-world problems.\n",
       "\n",
       "Advances in language understanding and generation: LLMs continue to evolve, with improvements in language understanding and generation capabilities. This will lead to more natural and context-aware interactions between humans and AI systems.\n",
       "\n",
       "The development of specialized LLMs for specific tasks: LLMs tailored to specific tasks, such as medical diagnosis or financial analysis, will emerge, offering enhanced performance and accuracy in specialized domains.\n",
       "\n",
       "Conclusion:\n",
       "Large Language Models possess immense potential to transform industries and augment human capabilities. From healthcare to finance, customer service to education, LLMs are already making a significant impact. However, addressing ethical concerns, mitigating biases, and ensuring scalability and data privacy remain key challenges. As LLMs continue to evolve and integrate with other AI technologies, the future holds endless possibilities for these powerful language systems to drive innovation and reshape industries."
      ]
     },
     "execution_count": 11,
     "metadata": {},
     "output_type": "execute_result"
    }
   ],
   "source": [
    "model.predict(prompt, max_output_tokens=2048)"
   ]
  },
  {
   "cell_type": "code",
   "execution_count": null,
   "id": "5385fab3-1274-4a0c-a3c8-47908345521c",
   "metadata": {},
   "outputs": [],
   "source": []
  }
 ],
 "metadata": {
  "kernelspec": {
   "display_name": "Python 3 (ipykernel)",
   "language": "python",
   "name": "python3"
  },
  "language_info": {
   "codemirror_mode": {
    "name": "ipython",
    "version": 3
   },
   "file_extension": ".py",
   "mimetype": "text/x-python",
   "name": "python",
   "nbconvert_exporter": "python",
   "pygments_lexer": "ipython3",
   "version": "3.11.5"
  }
 },
 "nbformat": 4,
 "nbformat_minor": 5
}
