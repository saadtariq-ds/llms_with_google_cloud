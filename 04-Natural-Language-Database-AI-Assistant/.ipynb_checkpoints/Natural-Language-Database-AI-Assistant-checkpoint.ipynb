{
 "cells": [
  {
   "cell_type": "markdown",
   "id": "47d0053b-00dc-4233-9b81-302658c2c7d9",
   "metadata": {},
   "source": [
    "# Natural Language Database AI Assistant\n",
    "\n",
    "- Take existing csv file as an example database table.\n",
    "- Use pandas library to set csv file as temporary in-memory database table\n",
    "- Test a manually created SQL command against the table.\n",
    "- Use a coding LLM to translate natural language to SQL commands.\n",
    "- Combine the steps together in a function call to go straight from natural language to results"
   ]
  },
  {
   "cell_type": "code",
   "execution_count": 1,
   "id": "480c2ab6-4c9b-47a8-a3ec-6c38efb587b9",
   "metadata": {},
   "outputs": [],
   "source": [
    "import os\n",
    "import pandas as pd\n",
    "from sqlalchemy import create_engine, text\n",
    "from vertexai.language_models import CodeGenerationModel"
   ]
  },
  {
   "cell_type": "code",
   "execution_count": 2,
   "id": "97338e04-443c-44a4-8e58-109bd5b77b46",
   "metadata": {},
   "outputs": [],
   "source": [
    "os.environ['GOOGLE_APPLICATION_CREDENTIALS'] = 'ADD CREDENTIALS HERE'"
   ]
  },
  {
   "cell_type": "code",
   "execution_count": 3,
   "id": "634dc544-96ec-4081-979e-bd55ec931eb0",
   "metadata": {},
   "outputs": [
    {
     "data": {
      "text/html": [
       "<div>\n",
       "<style scoped>\n",
       "    .dataframe tbody tr th:only-of-type {\n",
       "        vertical-align: middle;\n",
       "    }\n",
       "\n",
       "    .dataframe tbody tr th {\n",
       "        vertical-align: top;\n",
       "    }\n",
       "\n",
       "    .dataframe thead th {\n",
       "        text-align: right;\n",
       "    }\n",
       "</style>\n",
       "<table border=\"1\" class=\"dataframe\">\n",
       "  <thead>\n",
       "    <tr style=\"text-align: right;\">\n",
       "      <th></th>\n",
       "      <th>species</th>\n",
       "      <th>island</th>\n",
       "      <th>bill_length_mm</th>\n",
       "      <th>bill_depth_mm</th>\n",
       "      <th>flipper_length_mm</th>\n",
       "      <th>body_mass_g</th>\n",
       "      <th>sex</th>\n",
       "    </tr>\n",
       "  </thead>\n",
       "  <tbody>\n",
       "    <tr>\n",
       "      <th>0</th>\n",
       "      <td>Adelie</td>\n",
       "      <td>Torgersen</td>\n",
       "      <td>39.1</td>\n",
       "      <td>18.7</td>\n",
       "      <td>181.0</td>\n",
       "      <td>3750.0</td>\n",
       "      <td>MALE</td>\n",
       "    </tr>\n",
       "    <tr>\n",
       "      <th>1</th>\n",
       "      <td>Adelie</td>\n",
       "      <td>Torgersen</td>\n",
       "      <td>39.5</td>\n",
       "      <td>17.4</td>\n",
       "      <td>186.0</td>\n",
       "      <td>3800.0</td>\n",
       "      <td>FEMALE</td>\n",
       "    </tr>\n",
       "    <tr>\n",
       "      <th>2</th>\n",
       "      <td>Adelie</td>\n",
       "      <td>Torgersen</td>\n",
       "      <td>40.3</td>\n",
       "      <td>18.0</td>\n",
       "      <td>195.0</td>\n",
       "      <td>3250.0</td>\n",
       "      <td>FEMALE</td>\n",
       "    </tr>\n",
       "    <tr>\n",
       "      <th>3</th>\n",
       "      <td>Adelie</td>\n",
       "      <td>Torgersen</td>\n",
       "      <td>NaN</td>\n",
       "      <td>NaN</td>\n",
       "      <td>NaN</td>\n",
       "      <td>NaN</td>\n",
       "      <td>NaN</td>\n",
       "    </tr>\n",
       "    <tr>\n",
       "      <th>4</th>\n",
       "      <td>Adelie</td>\n",
       "      <td>Torgersen</td>\n",
       "      <td>36.7</td>\n",
       "      <td>19.3</td>\n",
       "      <td>193.0</td>\n",
       "      <td>3450.0</td>\n",
       "      <td>FEMALE</td>\n",
       "    </tr>\n",
       "  </tbody>\n",
       "</table>\n",
       "</div>"
      ],
      "text/plain": [
       "  species     island  bill_length_mm  bill_depth_mm  flipper_length_mm  \\\n",
       "0  Adelie  Torgersen            39.1           18.7              181.0   \n",
       "1  Adelie  Torgersen            39.5           17.4              186.0   \n",
       "2  Adelie  Torgersen            40.3           18.0              195.0   \n",
       "3  Adelie  Torgersen             NaN            NaN                NaN   \n",
       "4  Adelie  Torgersen            36.7           19.3              193.0   \n",
       "\n",
       "   body_mass_g     sex  \n",
       "0       3750.0    MALE  \n",
       "1       3800.0  FEMALE  \n",
       "2       3250.0  FEMALE  \n",
       "3          NaN     NaN  \n",
       "4       3450.0  FEMALE  "
      ]
     },
     "execution_count": 3,
     "metadata": {},
     "output_type": "execute_result"
    }
   ],
   "source": [
    "df = pd.read_csv('penguins.csv')\n",
    "df.head()"
   ]
  },
  {
   "cell_type": "markdown",
   "id": "8485a2f8-8651-4697-b5ec-73fda7dc01d9",
   "metadata": {},
   "source": [
    "## Creating Temporary Database"
   ]
  },
  {
   "cell_type": "code",
   "execution_count": 4,
   "id": "8ccd42a4-8e28-4c71-b3e0-e13a2c7a89ff",
   "metadata": {},
   "outputs": [],
   "source": [
    "temp_df = create_engine('sqlite:///:memory:', echo=True)"
   ]
  },
  {
   "cell_type": "code",
   "execution_count": 5,
   "id": "5f6231dd-00ff-4874-a275-394dc9e1e7ef",
   "metadata": {},
   "outputs": [
    {
     "name": "stdout",
     "output_type": "stream",
     "text": [
      "2023-11-27 18:52:56,673 INFO sqlalchemy.engine.Engine BEGIN (implicit)\n",
      "2023-11-27 18:52:56,685 INFO sqlalchemy.engine.Engine PRAGMA main.table_info(\"Penguins\")\n",
      "2023-11-27 18:52:56,686 INFO sqlalchemy.engine.Engine [raw sql] ()\n",
      "2023-11-27 18:52:56,688 INFO sqlalchemy.engine.Engine PRAGMA temp.table_info(\"Penguins\")\n",
      "2023-11-27 18:52:56,689 INFO sqlalchemy.engine.Engine [raw sql] ()\n",
      "2023-11-27 18:52:56,692 INFO sqlalchemy.engine.Engine \n",
      "CREATE TABLE \"Penguins\" (\n",
      "\t\"index\" BIGINT, \n",
      "\tspecies TEXT, \n",
      "\tisland TEXT, \n",
      "\tbill_length_mm FLOAT, \n",
      "\tbill_depth_mm FLOAT, \n",
      "\tflipper_length_mm FLOAT, \n",
      "\tbody_mass_g FLOAT, \n",
      "\tsex TEXT\n",
      ")\n",
      "\n",
      "\n",
      "2023-11-27 18:52:56,693 INFO sqlalchemy.engine.Engine [no key 0.00090s] ()\n",
      "2023-11-27 18:52:56,696 INFO sqlalchemy.engine.Engine CREATE INDEX \"ix_Penguins_index\" ON \"Penguins\" (\"index\")\n",
      "2023-11-27 18:52:56,698 INFO sqlalchemy.engine.Engine [no key 0.00179s] ()\n",
      "2023-11-27 18:52:56,706 INFO sqlalchemy.engine.Engine INSERT INTO \"Penguins\" (\"index\", species, island, bill_length_mm, bill_depth_mm, flipper_length_mm, body_mass_g, sex) VALUES (?, ?, ?, ?, ?, ?, ?, ?)\n",
      "2023-11-27 18:52:56,707 INFO sqlalchemy.engine.Engine [generated in 0.00384s] [(0, 'Adelie', 'Torgersen', 39.1, 18.7, 181.0, 3750.0, 'MALE'), (1, 'Adelie', 'Torgersen', 39.5, 17.4, 186.0, 3800.0, 'FEMALE'), (2, 'Adelie', 'Torgersen', 40.3, 18.0, 195.0, 3250.0, 'FEMALE'), (3, 'Adelie', 'Torgersen', None, None, None, None, None), (4, 'Adelie', 'Torgersen', 36.7, 19.3, 193.0, 3450.0, 'FEMALE'), (5, 'Adelie', 'Torgersen', 39.3, 20.6, 190.0, 3650.0, 'MALE'), (6, 'Adelie', 'Torgersen', 38.9, 17.8, 181.0, 3625.0, 'FEMALE'), (7, 'Adelie', 'Torgersen', 39.2, 19.6, 195.0, 4675.0, 'MALE')  ... displaying 10 of 344 total bound parameter sets ...  (342, 'Gentoo', 'Biscoe', 45.2, 14.8, 212.0, 5200.0, 'FEMALE'), (343, 'Gentoo', 'Biscoe', 49.9, 16.1, 213.0, 5400.0, 'MALE')]\n",
      "2023-11-27 18:52:56,711 INFO sqlalchemy.engine.Engine SELECT name FROM sqlite_master WHERE type='table' AND name NOT LIKE 'sqlite~_%' ESCAPE '~' ORDER BY name\n",
      "2023-11-27 18:52:56,713 INFO sqlalchemy.engine.Engine [raw sql] ()\n",
      "2023-11-27 18:52:56,717 INFO sqlalchemy.engine.Engine COMMIT\n"
     ]
    }
   ],
   "source": [
    "data = df.to_sql(name='Penguins', con=temp_df)"
   ]
  },
  {
   "cell_type": "code",
   "execution_count": 6,
   "id": "2b280e06-d85f-4957-bf8a-0cdc22750042",
   "metadata": {},
   "outputs": [
    {
     "name": "stdout",
     "output_type": "stream",
     "text": [
      "2023-11-27 18:52:56,728 INFO sqlalchemy.engine.Engine BEGIN (implicit)\n",
      "2023-11-27 18:52:56,730 INFO sqlalchemy.engine.Engine SELECT * FROM Penguins\n",
      "2023-11-27 18:52:56,731 INFO sqlalchemy.engine.Engine [generated in 0.00305s] ()\n",
      "2023-11-27 18:52:56,733 INFO sqlalchemy.engine.Engine ROLLBACK\n"
     ]
    }
   ],
   "source": [
    "with temp_df.connect() as conn:\n",
    "    result = conn.execute(text(\"SELECT * FROM Penguins\"))"
   ]
  },
  {
   "cell_type": "code",
   "execution_count": 7,
   "id": "81cc1042-c895-4bc2-93bc-cda7c946072d",
   "metadata": {},
   "outputs": [
    {
     "data": {
      "text/plain": [
       "[(0, 'Adelie', 'Torgersen', 39.1, 18.7, 181.0, 3750.0, 'MALE'),\n",
       " (1, 'Adelie', 'Torgersen', 39.5, 17.4, 186.0, 3800.0, 'FEMALE'),\n",
       " (2, 'Adelie', 'Torgersen', 40.3, 18.0, 195.0, 3250.0, 'FEMALE'),\n",
       " (3, 'Adelie', 'Torgersen', None, None, None, None, None),\n",
       " (4, 'Adelie', 'Torgersen', 36.7, 19.3, 193.0, 3450.0, 'FEMALE'),\n",
       " (5, 'Adelie', 'Torgersen', 39.3, 20.6, 190.0, 3650.0, 'MALE'),\n",
       " (6, 'Adelie', 'Torgersen', 38.9, 17.8, 181.0, 3625.0, 'FEMALE'),\n",
       " (7, 'Adelie', 'Torgersen', 39.2, 19.6, 195.0, 4675.0, 'MALE'),\n",
       " (8, 'Adelie', 'Torgersen', 34.1, 18.1, 193.0, 3475.0, None),\n",
       " (9, 'Adelie', 'Torgersen', 42.0, 20.2, 190.0, 4250.0, None),\n",
       " (10, 'Adelie', 'Torgersen', 37.8, 17.1, 186.0, 3300.0, None),\n",
       " (11, 'Adelie', 'Torgersen', 37.8, 17.3, 180.0, 3700.0, None),\n",
       " (12, 'Adelie', 'Torgersen', 41.1, 17.6, 182.0, 3200.0, 'FEMALE'),\n",
       " (13, 'Adelie', 'Torgersen', 38.6, 21.2, 191.0, 3800.0, 'MALE'),\n",
       " (14, 'Adelie', 'Torgersen', 34.6, 21.1, 198.0, 4400.0, 'MALE'),\n",
       " (15, 'Adelie', 'Torgersen', 36.6, 17.8, 185.0, 3700.0, 'FEMALE'),\n",
       " (16, 'Adelie', 'Torgersen', 38.7, 19.0, 195.0, 3450.0, 'FEMALE'),\n",
       " (17, 'Adelie', 'Torgersen', 42.5, 20.7, 197.0, 4500.0, 'MALE'),\n",
       " (18, 'Adelie', 'Torgersen', 34.4, 18.4, 184.0, 3325.0, 'FEMALE'),\n",
       " (19, 'Adelie', 'Torgersen', 46.0, 21.5, 194.0, 4200.0, 'MALE'),\n",
       " (20, 'Adelie', 'Biscoe', 37.8, 18.3, 174.0, 3400.0, 'FEMALE'),\n",
       " (21, 'Adelie', 'Biscoe', 37.7, 18.7, 180.0, 3600.0, 'MALE'),\n",
       " (22, 'Adelie', 'Biscoe', 35.9, 19.2, 189.0, 3800.0, 'FEMALE'),\n",
       " (23, 'Adelie', 'Biscoe', 38.2, 18.1, 185.0, 3950.0, 'MALE'),\n",
       " (24, 'Adelie', 'Biscoe', 38.8, 17.2, 180.0, 3800.0, 'MALE'),\n",
       " (25, 'Adelie', 'Biscoe', 35.3, 18.9, 187.0, 3800.0, 'FEMALE'),\n",
       " (26, 'Adelie', 'Biscoe', 40.6, 18.6, 183.0, 3550.0, 'MALE'),\n",
       " (27, 'Adelie', 'Biscoe', 40.5, 17.9, 187.0, 3200.0, 'FEMALE'),\n",
       " (28, 'Adelie', 'Biscoe', 37.9, 18.6, 172.0, 3150.0, 'FEMALE'),\n",
       " (29, 'Adelie', 'Biscoe', 40.5, 18.9, 180.0, 3950.0, 'MALE'),\n",
       " (30, 'Adelie', 'Dream', 39.5, 16.7, 178.0, 3250.0, 'FEMALE'),\n",
       " (31, 'Adelie', 'Dream', 37.2, 18.1, 178.0, 3900.0, 'MALE'),\n",
       " (32, 'Adelie', 'Dream', 39.5, 17.8, 188.0, 3300.0, 'FEMALE'),\n",
       " (33, 'Adelie', 'Dream', 40.9, 18.9, 184.0, 3900.0, 'MALE'),\n",
       " (34, 'Adelie', 'Dream', 36.4, 17.0, 195.0, 3325.0, 'FEMALE'),\n",
       " (35, 'Adelie', 'Dream', 39.2, 21.1, 196.0, 4150.0, 'MALE'),\n",
       " (36, 'Adelie', 'Dream', 38.8, 20.0, 190.0, 3950.0, 'MALE'),\n",
       " (37, 'Adelie', 'Dream', 42.2, 18.5, 180.0, 3550.0, 'FEMALE'),\n",
       " (38, 'Adelie', 'Dream', 37.6, 19.3, 181.0, 3300.0, 'FEMALE'),\n",
       " (39, 'Adelie', 'Dream', 39.8, 19.1, 184.0, 4650.0, 'MALE'),\n",
       " (40, 'Adelie', 'Dream', 36.5, 18.0, 182.0, 3150.0, 'FEMALE'),\n",
       " (41, 'Adelie', 'Dream', 40.8, 18.4, 195.0, 3900.0, 'MALE'),\n",
       " (42, 'Adelie', 'Dream', 36.0, 18.5, 186.0, 3100.0, 'FEMALE'),\n",
       " (43, 'Adelie', 'Dream', 44.1, 19.7, 196.0, 4400.0, 'MALE'),\n",
       " (44, 'Adelie', 'Dream', 37.0, 16.9, 185.0, 3000.0, 'FEMALE'),\n",
       " (45, 'Adelie', 'Dream', 39.6, 18.8, 190.0, 4600.0, 'MALE'),\n",
       " (46, 'Adelie', 'Dream', 41.1, 19.0, 182.0, 3425.0, 'MALE'),\n",
       " (47, 'Adelie', 'Dream', 37.5, 18.9, 179.0, 2975.0, None),\n",
       " (48, 'Adelie', 'Dream', 36.0, 17.9, 190.0, 3450.0, 'FEMALE'),\n",
       " (49, 'Adelie', 'Dream', 42.3, 21.2, 191.0, 4150.0, 'MALE'),\n",
       " (50, 'Adelie', 'Biscoe', 39.6, 17.7, 186.0, 3500.0, 'FEMALE'),\n",
       " (51, 'Adelie', 'Biscoe', 40.1, 18.9, 188.0, 4300.0, 'MALE'),\n",
       " (52, 'Adelie', 'Biscoe', 35.0, 17.9, 190.0, 3450.0, 'FEMALE'),\n",
       " (53, 'Adelie', 'Biscoe', 42.0, 19.5, 200.0, 4050.0, 'MALE'),\n",
       " (54, 'Adelie', 'Biscoe', 34.5, 18.1, 187.0, 2900.0, 'FEMALE'),\n",
       " (55, 'Adelie', 'Biscoe', 41.4, 18.6, 191.0, 3700.0, 'MALE'),\n",
       " (56, 'Adelie', 'Biscoe', 39.0, 17.5, 186.0, 3550.0, 'FEMALE'),\n",
       " (57, 'Adelie', 'Biscoe', 40.6, 18.8, 193.0, 3800.0, 'MALE'),\n",
       " (58, 'Adelie', 'Biscoe', 36.5, 16.6, 181.0, 2850.0, 'FEMALE'),\n",
       " (59, 'Adelie', 'Biscoe', 37.6, 19.1, 194.0, 3750.0, 'MALE'),\n",
       " (60, 'Adelie', 'Biscoe', 35.7, 16.9, 185.0, 3150.0, 'FEMALE'),\n",
       " (61, 'Adelie', 'Biscoe', 41.3, 21.1, 195.0, 4400.0, 'MALE'),\n",
       " (62, 'Adelie', 'Biscoe', 37.6, 17.0, 185.0, 3600.0, 'FEMALE'),\n",
       " (63, 'Adelie', 'Biscoe', 41.1, 18.2, 192.0, 4050.0, 'MALE'),\n",
       " (64, 'Adelie', 'Biscoe', 36.4, 17.1, 184.0, 2850.0, 'FEMALE'),\n",
       " (65, 'Adelie', 'Biscoe', 41.6, 18.0, 192.0, 3950.0, 'MALE'),\n",
       " (66, 'Adelie', 'Biscoe', 35.5, 16.2, 195.0, 3350.0, 'FEMALE'),\n",
       " (67, 'Adelie', 'Biscoe', 41.1, 19.1, 188.0, 4100.0, 'MALE'),\n",
       " (68, 'Adelie', 'Torgersen', 35.9, 16.6, 190.0, 3050.0, 'FEMALE'),\n",
       " (69, 'Adelie', 'Torgersen', 41.8, 19.4, 198.0, 4450.0, 'MALE'),\n",
       " (70, 'Adelie', 'Torgersen', 33.5, 19.0, 190.0, 3600.0, 'FEMALE'),\n",
       " (71, 'Adelie', 'Torgersen', 39.7, 18.4, 190.0, 3900.0, 'MALE'),\n",
       " (72, 'Adelie', 'Torgersen', 39.6, 17.2, 196.0, 3550.0, 'FEMALE'),\n",
       " (73, 'Adelie', 'Torgersen', 45.8, 18.9, 197.0, 4150.0, 'MALE'),\n",
       " (74, 'Adelie', 'Torgersen', 35.5, 17.5, 190.0, 3700.0, 'FEMALE'),\n",
       " (75, 'Adelie', 'Torgersen', 42.8, 18.5, 195.0, 4250.0, 'MALE'),\n",
       " (76, 'Adelie', 'Torgersen', 40.9, 16.8, 191.0, 3700.0, 'FEMALE'),\n",
       " (77, 'Adelie', 'Torgersen', 37.2, 19.4, 184.0, 3900.0, 'MALE'),\n",
       " (78, 'Adelie', 'Torgersen', 36.2, 16.1, 187.0, 3550.0, 'FEMALE'),\n",
       " (79, 'Adelie', 'Torgersen', 42.1, 19.1, 195.0, 4000.0, 'MALE'),\n",
       " (80, 'Adelie', 'Torgersen', 34.6, 17.2, 189.0, 3200.0, 'FEMALE'),\n",
       " (81, 'Adelie', 'Torgersen', 42.9, 17.6, 196.0, 4700.0, 'MALE'),\n",
       " (82, 'Adelie', 'Torgersen', 36.7, 18.8, 187.0, 3800.0, 'FEMALE'),\n",
       " (83, 'Adelie', 'Torgersen', 35.1, 19.4, 193.0, 4200.0, 'MALE'),\n",
       " (84, 'Adelie', 'Dream', 37.3, 17.8, 191.0, 3350.0, 'FEMALE'),\n",
       " (85, 'Adelie', 'Dream', 41.3, 20.3, 194.0, 3550.0, 'MALE'),\n",
       " (86, 'Adelie', 'Dream', 36.3, 19.5, 190.0, 3800.0, 'MALE'),\n",
       " (87, 'Adelie', 'Dream', 36.9, 18.6, 189.0, 3500.0, 'FEMALE'),\n",
       " (88, 'Adelie', 'Dream', 38.3, 19.2, 189.0, 3950.0, 'MALE'),\n",
       " (89, 'Adelie', 'Dream', 38.9, 18.8, 190.0, 3600.0, 'FEMALE'),\n",
       " (90, 'Adelie', 'Dream', 35.7, 18.0, 202.0, 3550.0, 'FEMALE'),\n",
       " (91, 'Adelie', 'Dream', 41.1, 18.1, 205.0, 4300.0, 'MALE'),\n",
       " (92, 'Adelie', 'Dream', 34.0, 17.1, 185.0, 3400.0, 'FEMALE'),\n",
       " (93, 'Adelie', 'Dream', 39.6, 18.1, 186.0, 4450.0, 'MALE'),\n",
       " (94, 'Adelie', 'Dream', 36.2, 17.3, 187.0, 3300.0, 'FEMALE'),\n",
       " (95, 'Adelie', 'Dream', 40.8, 18.9, 208.0, 4300.0, 'MALE'),\n",
       " (96, 'Adelie', 'Dream', 38.1, 18.6, 190.0, 3700.0, 'FEMALE'),\n",
       " (97, 'Adelie', 'Dream', 40.3, 18.5, 196.0, 4350.0, 'MALE'),\n",
       " (98, 'Adelie', 'Dream', 33.1, 16.1, 178.0, 2900.0, 'FEMALE'),\n",
       " (99, 'Adelie', 'Dream', 43.2, 18.5, 192.0, 4100.0, 'MALE'),\n",
       " (100, 'Adelie', 'Biscoe', 35.0, 17.9, 192.0, 3725.0, 'FEMALE'),\n",
       " (101, 'Adelie', 'Biscoe', 41.0, 20.0, 203.0, 4725.0, 'MALE'),\n",
       " (102, 'Adelie', 'Biscoe', 37.7, 16.0, 183.0, 3075.0, 'FEMALE'),\n",
       " (103, 'Adelie', 'Biscoe', 37.8, 20.0, 190.0, 4250.0, 'MALE'),\n",
       " (104, 'Adelie', 'Biscoe', 37.9, 18.6, 193.0, 2925.0, 'FEMALE'),\n",
       " (105, 'Adelie', 'Biscoe', 39.7, 18.9, 184.0, 3550.0, 'MALE'),\n",
       " (106, 'Adelie', 'Biscoe', 38.6, 17.2, 199.0, 3750.0, 'FEMALE'),\n",
       " (107, 'Adelie', 'Biscoe', 38.2, 20.0, 190.0, 3900.0, 'MALE'),\n",
       " (108, 'Adelie', 'Biscoe', 38.1, 17.0, 181.0, 3175.0, 'FEMALE'),\n",
       " (109, 'Adelie', 'Biscoe', 43.2, 19.0, 197.0, 4775.0, 'MALE'),\n",
       " (110, 'Adelie', 'Biscoe', 38.1, 16.5, 198.0, 3825.0, 'FEMALE'),\n",
       " (111, 'Adelie', 'Biscoe', 45.6, 20.3, 191.0, 4600.0, 'MALE'),\n",
       " (112, 'Adelie', 'Biscoe', 39.7, 17.7, 193.0, 3200.0, 'FEMALE'),\n",
       " (113, 'Adelie', 'Biscoe', 42.2, 19.5, 197.0, 4275.0, 'MALE'),\n",
       " (114, 'Adelie', 'Biscoe', 39.6, 20.7, 191.0, 3900.0, 'FEMALE'),\n",
       " (115, 'Adelie', 'Biscoe', 42.7, 18.3, 196.0, 4075.0, 'MALE'),\n",
       " (116, 'Adelie', 'Torgersen', 38.6, 17.0, 188.0, 2900.0, 'FEMALE'),\n",
       " (117, 'Adelie', 'Torgersen', 37.3, 20.5, 199.0, 3775.0, 'MALE'),\n",
       " (118, 'Adelie', 'Torgersen', 35.7, 17.0, 189.0, 3350.0, 'FEMALE'),\n",
       " (119, 'Adelie', 'Torgersen', 41.1, 18.6, 189.0, 3325.0, 'MALE'),\n",
       " (120, 'Adelie', 'Torgersen', 36.2, 17.2, 187.0, 3150.0, 'FEMALE'),\n",
       " (121, 'Adelie', 'Torgersen', 37.7, 19.8, 198.0, 3500.0, 'MALE'),\n",
       " (122, 'Adelie', 'Torgersen', 40.2, 17.0, 176.0, 3450.0, 'FEMALE'),\n",
       " (123, 'Adelie', 'Torgersen', 41.4, 18.5, 202.0, 3875.0, 'MALE'),\n",
       " (124, 'Adelie', 'Torgersen', 35.2, 15.9, 186.0, 3050.0, 'FEMALE'),\n",
       " (125, 'Adelie', 'Torgersen', 40.6, 19.0, 199.0, 4000.0, 'MALE'),\n",
       " (126, 'Adelie', 'Torgersen', 38.8, 17.6, 191.0, 3275.0, 'FEMALE'),\n",
       " (127, 'Adelie', 'Torgersen', 41.5, 18.3, 195.0, 4300.0, 'MALE'),\n",
       " (128, 'Adelie', 'Torgersen', 39.0, 17.1, 191.0, 3050.0, 'FEMALE'),\n",
       " (129, 'Adelie', 'Torgersen', 44.1, 18.0, 210.0, 4000.0, 'MALE'),\n",
       " (130, 'Adelie', 'Torgersen', 38.5, 17.9, 190.0, 3325.0, 'FEMALE'),\n",
       " (131, 'Adelie', 'Torgersen', 43.1, 19.2, 197.0, 3500.0, 'MALE'),\n",
       " (132, 'Adelie', 'Dream', 36.8, 18.5, 193.0, 3500.0, 'FEMALE'),\n",
       " (133, 'Adelie', 'Dream', 37.5, 18.5, 199.0, 4475.0, 'MALE'),\n",
       " (134, 'Adelie', 'Dream', 38.1, 17.6, 187.0, 3425.0, 'FEMALE'),\n",
       " (135, 'Adelie', 'Dream', 41.1, 17.5, 190.0, 3900.0, 'MALE'),\n",
       " (136, 'Adelie', 'Dream', 35.6, 17.5, 191.0, 3175.0, 'FEMALE'),\n",
       " (137, 'Adelie', 'Dream', 40.2, 20.1, 200.0, 3975.0, 'MALE'),\n",
       " (138, 'Adelie', 'Dream', 37.0, 16.5, 185.0, 3400.0, 'FEMALE'),\n",
       " (139, 'Adelie', 'Dream', 39.7, 17.9, 193.0, 4250.0, 'MALE'),\n",
       " (140, 'Adelie', 'Dream', 40.2, 17.1, 193.0, 3400.0, 'FEMALE'),\n",
       " (141, 'Adelie', 'Dream', 40.6, 17.2, 187.0, 3475.0, 'MALE'),\n",
       " (142, 'Adelie', 'Dream', 32.1, 15.5, 188.0, 3050.0, 'FEMALE'),\n",
       " (143, 'Adelie', 'Dream', 40.7, 17.0, 190.0, 3725.0, 'MALE'),\n",
       " (144, 'Adelie', 'Dream', 37.3, 16.8, 192.0, 3000.0, 'FEMALE'),\n",
       " (145, 'Adelie', 'Dream', 39.0, 18.7, 185.0, 3650.0, 'MALE'),\n",
       " (146, 'Adelie', 'Dream', 39.2, 18.6, 190.0, 4250.0, 'MALE'),\n",
       " (147, 'Adelie', 'Dream', 36.6, 18.4, 184.0, 3475.0, 'FEMALE'),\n",
       " (148, 'Adelie', 'Dream', 36.0, 17.8, 195.0, 3450.0, 'FEMALE'),\n",
       " (149, 'Adelie', 'Dream', 37.8, 18.1, 193.0, 3750.0, 'MALE'),\n",
       " (150, 'Adelie', 'Dream', 36.0, 17.1, 187.0, 3700.0, 'FEMALE'),\n",
       " (151, 'Adelie', 'Dream', 41.5, 18.5, 201.0, 4000.0, 'MALE'),\n",
       " (152, 'Chinstrap', 'Dream', 46.5, 17.9, 192.0, 3500.0, 'FEMALE'),\n",
       " (153, 'Chinstrap', 'Dream', 50.0, 19.5, 196.0, 3900.0, 'MALE'),\n",
       " (154, 'Chinstrap', 'Dream', 51.3, 19.2, 193.0, 3650.0, 'MALE'),\n",
       " (155, 'Chinstrap', 'Dream', 45.4, 18.7, 188.0, 3525.0, 'FEMALE'),\n",
       " (156, 'Chinstrap', 'Dream', 52.7, 19.8, 197.0, 3725.0, 'MALE'),\n",
       " (157, 'Chinstrap', 'Dream', 45.2, 17.8, 198.0, 3950.0, 'FEMALE'),\n",
       " (158, 'Chinstrap', 'Dream', 46.1, 18.2, 178.0, 3250.0, 'FEMALE'),\n",
       " (159, 'Chinstrap', 'Dream', 51.3, 18.2, 197.0, 3750.0, 'MALE'),\n",
       " (160, 'Chinstrap', 'Dream', 46.0, 18.9, 195.0, 4150.0, 'FEMALE'),\n",
       " (161, 'Chinstrap', 'Dream', 51.3, 19.9, 198.0, 3700.0, 'MALE'),\n",
       " (162, 'Chinstrap', 'Dream', 46.6, 17.8, 193.0, 3800.0, 'FEMALE'),\n",
       " (163, 'Chinstrap', 'Dream', 51.7, 20.3, 194.0, 3775.0, 'MALE'),\n",
       " (164, 'Chinstrap', 'Dream', 47.0, 17.3, 185.0, 3700.0, 'FEMALE'),\n",
       " (165, 'Chinstrap', 'Dream', 52.0, 18.1, 201.0, 4050.0, 'MALE'),\n",
       " (166, 'Chinstrap', 'Dream', 45.9, 17.1, 190.0, 3575.0, 'FEMALE'),\n",
       " (167, 'Chinstrap', 'Dream', 50.5, 19.6, 201.0, 4050.0, 'MALE'),\n",
       " (168, 'Chinstrap', 'Dream', 50.3, 20.0, 197.0, 3300.0, 'MALE'),\n",
       " (169, 'Chinstrap', 'Dream', 58.0, 17.8, 181.0, 3700.0, 'FEMALE'),\n",
       " (170, 'Chinstrap', 'Dream', 46.4, 18.6, 190.0, 3450.0, 'FEMALE'),\n",
       " (171, 'Chinstrap', 'Dream', 49.2, 18.2, 195.0, 4400.0, 'MALE'),\n",
       " (172, 'Chinstrap', 'Dream', 42.4, 17.3, 181.0, 3600.0, 'FEMALE'),\n",
       " (173, 'Chinstrap', 'Dream', 48.5, 17.5, 191.0, 3400.0, 'MALE'),\n",
       " (174, 'Chinstrap', 'Dream', 43.2, 16.6, 187.0, 2900.0, 'FEMALE'),\n",
       " (175, 'Chinstrap', 'Dream', 50.6, 19.4, 193.0, 3800.0, 'MALE'),\n",
       " (176, 'Chinstrap', 'Dream', 46.7, 17.9, 195.0, 3300.0, 'FEMALE'),\n",
       " (177, 'Chinstrap', 'Dream', 52.0, 19.0, 197.0, 4150.0, 'MALE'),\n",
       " (178, 'Chinstrap', 'Dream', 50.5, 18.4, 200.0, 3400.0, 'FEMALE'),\n",
       " (179, 'Chinstrap', 'Dream', 49.5, 19.0, 200.0, 3800.0, 'MALE'),\n",
       " (180, 'Chinstrap', 'Dream', 46.4, 17.8, 191.0, 3700.0, 'FEMALE'),\n",
       " (181, 'Chinstrap', 'Dream', 52.8, 20.0, 205.0, 4550.0, 'MALE'),\n",
       " (182, 'Chinstrap', 'Dream', 40.9, 16.6, 187.0, 3200.0, 'FEMALE'),\n",
       " (183, 'Chinstrap', 'Dream', 54.2, 20.8, 201.0, 4300.0, 'MALE'),\n",
       " (184, 'Chinstrap', 'Dream', 42.5, 16.7, 187.0, 3350.0, 'FEMALE'),\n",
       " (185, 'Chinstrap', 'Dream', 51.0, 18.8, 203.0, 4100.0, 'MALE'),\n",
       " (186, 'Chinstrap', 'Dream', 49.7, 18.6, 195.0, 3600.0, 'MALE'),\n",
       " (187, 'Chinstrap', 'Dream', 47.5, 16.8, 199.0, 3900.0, 'FEMALE'),\n",
       " (188, 'Chinstrap', 'Dream', 47.6, 18.3, 195.0, 3850.0, 'FEMALE'),\n",
       " (189, 'Chinstrap', 'Dream', 52.0, 20.7, 210.0, 4800.0, 'MALE'),\n",
       " (190, 'Chinstrap', 'Dream', 46.9, 16.6, 192.0, 2700.0, 'FEMALE'),\n",
       " (191, 'Chinstrap', 'Dream', 53.5, 19.9, 205.0, 4500.0, 'MALE'),\n",
       " (192, 'Chinstrap', 'Dream', 49.0, 19.5, 210.0, 3950.0, 'MALE'),\n",
       " (193, 'Chinstrap', 'Dream', 46.2, 17.5, 187.0, 3650.0, 'FEMALE'),\n",
       " (194, 'Chinstrap', 'Dream', 50.9, 19.1, 196.0, 3550.0, 'MALE'),\n",
       " (195, 'Chinstrap', 'Dream', 45.5, 17.0, 196.0, 3500.0, 'FEMALE'),\n",
       " (196, 'Chinstrap', 'Dream', 50.9, 17.9, 196.0, 3675.0, 'FEMALE'),\n",
       " (197, 'Chinstrap', 'Dream', 50.8, 18.5, 201.0, 4450.0, 'MALE'),\n",
       " (198, 'Chinstrap', 'Dream', 50.1, 17.9, 190.0, 3400.0, 'FEMALE'),\n",
       " (199, 'Chinstrap', 'Dream', 49.0, 19.6, 212.0, 4300.0, 'MALE'),\n",
       " (200, 'Chinstrap', 'Dream', 51.5, 18.7, 187.0, 3250.0, 'MALE'),\n",
       " (201, 'Chinstrap', 'Dream', 49.8, 17.3, 198.0, 3675.0, 'FEMALE'),\n",
       " (202, 'Chinstrap', 'Dream', 48.1, 16.4, 199.0, 3325.0, 'FEMALE'),\n",
       " (203, 'Chinstrap', 'Dream', 51.4, 19.0, 201.0, 3950.0, 'MALE'),\n",
       " (204, 'Chinstrap', 'Dream', 45.7, 17.3, 193.0, 3600.0, 'FEMALE'),\n",
       " (205, 'Chinstrap', 'Dream', 50.7, 19.7, 203.0, 4050.0, 'MALE'),\n",
       " (206, 'Chinstrap', 'Dream', 42.5, 17.3, 187.0, 3350.0, 'FEMALE'),\n",
       " (207, 'Chinstrap', 'Dream', 52.2, 18.8, 197.0, 3450.0, 'MALE'),\n",
       " (208, 'Chinstrap', 'Dream', 45.2, 16.6, 191.0, 3250.0, 'FEMALE'),\n",
       " (209, 'Chinstrap', 'Dream', 49.3, 19.9, 203.0, 4050.0, 'MALE'),\n",
       " (210, 'Chinstrap', 'Dream', 50.2, 18.8, 202.0, 3800.0, 'MALE'),\n",
       " (211, 'Chinstrap', 'Dream', 45.6, 19.4, 194.0, 3525.0, 'FEMALE'),\n",
       " (212, 'Chinstrap', 'Dream', 51.9, 19.5, 206.0, 3950.0, 'MALE'),\n",
       " (213, 'Chinstrap', 'Dream', 46.8, 16.5, 189.0, 3650.0, 'FEMALE'),\n",
       " (214, 'Chinstrap', 'Dream', 45.7, 17.0, 195.0, 3650.0, 'FEMALE'),\n",
       " (215, 'Chinstrap', 'Dream', 55.8, 19.8, 207.0, 4000.0, 'MALE'),\n",
       " (216, 'Chinstrap', 'Dream', 43.5, 18.1, 202.0, 3400.0, 'FEMALE'),\n",
       " (217, 'Chinstrap', 'Dream', 49.6, 18.2, 193.0, 3775.0, 'MALE'),\n",
       " (218, 'Chinstrap', 'Dream', 50.8, 19.0, 210.0, 4100.0, 'MALE'),\n",
       " (219, 'Chinstrap', 'Dream', 50.2, 18.7, 198.0, 3775.0, 'FEMALE'),\n",
       " (220, 'Gentoo', 'Biscoe', 46.1, 13.2, 211.0, 4500.0, 'FEMALE'),\n",
       " (221, 'Gentoo', 'Biscoe', 50.0, 16.3, 230.0, 5700.0, 'MALE'),\n",
       " (222, 'Gentoo', 'Biscoe', 48.7, 14.1, 210.0, 4450.0, 'FEMALE'),\n",
       " (223, 'Gentoo', 'Biscoe', 50.0, 15.2, 218.0, 5700.0, 'MALE'),\n",
       " (224, 'Gentoo', 'Biscoe', 47.6, 14.5, 215.0, 5400.0, 'MALE'),\n",
       " (225, 'Gentoo', 'Biscoe', 46.5, 13.5, 210.0, 4550.0, 'FEMALE'),\n",
       " (226, 'Gentoo', 'Biscoe', 45.4, 14.6, 211.0, 4800.0, 'FEMALE'),\n",
       " (227, 'Gentoo', 'Biscoe', 46.7, 15.3, 219.0, 5200.0, 'MALE'),\n",
       " (228, 'Gentoo', 'Biscoe', 43.3, 13.4, 209.0, 4400.0, 'FEMALE'),\n",
       " (229, 'Gentoo', 'Biscoe', 46.8, 15.4, 215.0, 5150.0, 'MALE'),\n",
       " (230, 'Gentoo', 'Biscoe', 40.9, 13.7, 214.0, 4650.0, 'FEMALE'),\n",
       " (231, 'Gentoo', 'Biscoe', 49.0, 16.1, 216.0, 5550.0, 'MALE'),\n",
       " (232, 'Gentoo', 'Biscoe', 45.5, 13.7, 214.0, 4650.0, 'FEMALE'),\n",
       " (233, 'Gentoo', 'Biscoe', 48.4, 14.6, 213.0, 5850.0, 'MALE'),\n",
       " (234, 'Gentoo', 'Biscoe', 45.8, 14.6, 210.0, 4200.0, 'FEMALE'),\n",
       " (235, 'Gentoo', 'Biscoe', 49.3, 15.7, 217.0, 5850.0, 'MALE'),\n",
       " (236, 'Gentoo', 'Biscoe', 42.0, 13.5, 210.0, 4150.0, 'FEMALE'),\n",
       " (237, 'Gentoo', 'Biscoe', 49.2, 15.2, 221.0, 6300.0, 'MALE'),\n",
       " (238, 'Gentoo', 'Biscoe', 46.2, 14.5, 209.0, 4800.0, 'FEMALE'),\n",
       " (239, 'Gentoo', 'Biscoe', 48.7, 15.1, 222.0, 5350.0, 'MALE'),\n",
       " (240, 'Gentoo', 'Biscoe', 50.2, 14.3, 218.0, 5700.0, 'MALE'),\n",
       " (241, 'Gentoo', 'Biscoe', 45.1, 14.5, 215.0, 5000.0, 'FEMALE'),\n",
       " (242, 'Gentoo', 'Biscoe', 46.5, 14.5, 213.0, 4400.0, 'FEMALE'),\n",
       " (243, 'Gentoo', 'Biscoe', 46.3, 15.8, 215.0, 5050.0, 'MALE'),\n",
       " (244, 'Gentoo', 'Biscoe', 42.9, 13.1, 215.0, 5000.0, 'FEMALE'),\n",
       " (245, 'Gentoo', 'Biscoe', 46.1, 15.1, 215.0, 5100.0, 'MALE'),\n",
       " (246, 'Gentoo', 'Biscoe', 44.5, 14.3, 216.0, 4100.0, None),\n",
       " (247, 'Gentoo', 'Biscoe', 47.8, 15.0, 215.0, 5650.0, 'MALE'),\n",
       " (248, 'Gentoo', 'Biscoe', 48.2, 14.3, 210.0, 4600.0, 'FEMALE'),\n",
       " (249, 'Gentoo', 'Biscoe', 50.0, 15.3, 220.0, 5550.0, 'MALE'),\n",
       " (250, 'Gentoo', 'Biscoe', 47.3, 15.3, 222.0, 5250.0, 'MALE'),\n",
       " (251, 'Gentoo', 'Biscoe', 42.8, 14.2, 209.0, 4700.0, 'FEMALE'),\n",
       " (252, 'Gentoo', 'Biscoe', 45.1, 14.5, 207.0, 5050.0, 'FEMALE'),\n",
       " (253, 'Gentoo', 'Biscoe', 59.6, 17.0, 230.0, 6050.0, 'MALE'),\n",
       " (254, 'Gentoo', 'Biscoe', 49.1, 14.8, 220.0, 5150.0, 'FEMALE'),\n",
       " (255, 'Gentoo', 'Biscoe', 48.4, 16.3, 220.0, 5400.0, 'MALE'),\n",
       " (256, 'Gentoo', 'Biscoe', 42.6, 13.7, 213.0, 4950.0, 'FEMALE'),\n",
       " (257, 'Gentoo', 'Biscoe', 44.4, 17.3, 219.0, 5250.0, 'MALE'),\n",
       " (258, 'Gentoo', 'Biscoe', 44.0, 13.6, 208.0, 4350.0, 'FEMALE'),\n",
       " (259, 'Gentoo', 'Biscoe', 48.7, 15.7, 208.0, 5350.0, 'MALE'),\n",
       " (260, 'Gentoo', 'Biscoe', 42.7, 13.7, 208.0, 3950.0, 'FEMALE'),\n",
       " (261, 'Gentoo', 'Biscoe', 49.6, 16.0, 225.0, 5700.0, 'MALE'),\n",
       " (262, 'Gentoo', 'Biscoe', 45.3, 13.7, 210.0, 4300.0, 'FEMALE'),\n",
       " (263, 'Gentoo', 'Biscoe', 49.6, 15.0, 216.0, 4750.0, 'MALE'),\n",
       " (264, 'Gentoo', 'Biscoe', 50.5, 15.9, 222.0, 5550.0, 'MALE'),\n",
       " (265, 'Gentoo', 'Biscoe', 43.6, 13.9, 217.0, 4900.0, 'FEMALE'),\n",
       " (266, 'Gentoo', 'Biscoe', 45.5, 13.9, 210.0, 4200.0, 'FEMALE'),\n",
       " (267, 'Gentoo', 'Biscoe', 50.5, 15.9, 225.0, 5400.0, 'MALE'),\n",
       " (268, 'Gentoo', 'Biscoe', 44.9, 13.3, 213.0, 5100.0, 'FEMALE'),\n",
       " (269, 'Gentoo', 'Biscoe', 45.2, 15.8, 215.0, 5300.0, 'MALE'),\n",
       " (270, 'Gentoo', 'Biscoe', 46.6, 14.2, 210.0, 4850.0, 'FEMALE'),\n",
       " (271, 'Gentoo', 'Biscoe', 48.5, 14.1, 220.0, 5300.0, 'MALE'),\n",
       " (272, 'Gentoo', 'Biscoe', 45.1, 14.4, 210.0, 4400.0, 'FEMALE'),\n",
       " (273, 'Gentoo', 'Biscoe', 50.1, 15.0, 225.0, 5000.0, 'MALE'),\n",
       " (274, 'Gentoo', 'Biscoe', 46.5, 14.4, 217.0, 4900.0, 'FEMALE'),\n",
       " (275, 'Gentoo', 'Biscoe', 45.0, 15.4, 220.0, 5050.0, 'MALE'),\n",
       " (276, 'Gentoo', 'Biscoe', 43.8, 13.9, 208.0, 4300.0, 'FEMALE'),\n",
       " (277, 'Gentoo', 'Biscoe', 45.5, 15.0, 220.0, 5000.0, 'MALE'),\n",
       " (278, 'Gentoo', 'Biscoe', 43.2, 14.5, 208.0, 4450.0, 'FEMALE'),\n",
       " (279, 'Gentoo', 'Biscoe', 50.4, 15.3, 224.0, 5550.0, 'MALE'),\n",
       " (280, 'Gentoo', 'Biscoe', 45.3, 13.8, 208.0, 4200.0, 'FEMALE'),\n",
       " (281, 'Gentoo', 'Biscoe', 46.2, 14.9, 221.0, 5300.0, 'MALE'),\n",
       " (282, 'Gentoo', 'Biscoe', 45.7, 13.9, 214.0, 4400.0, 'FEMALE'),\n",
       " (283, 'Gentoo', 'Biscoe', 54.3, 15.7, 231.0, 5650.0, 'MALE'),\n",
       " (284, 'Gentoo', 'Biscoe', 45.8, 14.2, 219.0, 4700.0, 'FEMALE'),\n",
       " (285, 'Gentoo', 'Biscoe', 49.8, 16.8, 230.0, 5700.0, 'MALE'),\n",
       " (286, 'Gentoo', 'Biscoe', 46.2, 14.4, 214.0, 4650.0, None),\n",
       " (287, 'Gentoo', 'Biscoe', 49.5, 16.2, 229.0, 5800.0, 'MALE'),\n",
       " (288, 'Gentoo', 'Biscoe', 43.5, 14.2, 220.0, 4700.0, 'FEMALE'),\n",
       " (289, 'Gentoo', 'Biscoe', 50.7, 15.0, 223.0, 5550.0, 'MALE'),\n",
       " (290, 'Gentoo', 'Biscoe', 47.7, 15.0, 216.0, 4750.0, 'FEMALE'),\n",
       " (291, 'Gentoo', 'Biscoe', 46.4, 15.6, 221.0, 5000.0, 'MALE'),\n",
       " (292, 'Gentoo', 'Biscoe', 48.2, 15.6, 221.0, 5100.0, 'MALE'),\n",
       " (293, 'Gentoo', 'Biscoe', 46.5, 14.8, 217.0, 5200.0, 'FEMALE'),\n",
       " (294, 'Gentoo', 'Biscoe', 46.4, 15.0, 216.0, 4700.0, 'FEMALE'),\n",
       " (295, 'Gentoo', 'Biscoe', 48.6, 16.0, 230.0, 5800.0, 'MALE'),\n",
       " (296, 'Gentoo', 'Biscoe', 47.5, 14.2, 209.0, 4600.0, 'FEMALE'),\n",
       " (297, 'Gentoo', 'Biscoe', 51.1, 16.3, 220.0, 6000.0, 'MALE'),\n",
       " (298, 'Gentoo', 'Biscoe', 45.2, 13.8, 215.0, 4750.0, 'FEMALE'),\n",
       " (299, 'Gentoo', 'Biscoe', 45.2, 16.4, 223.0, 5950.0, 'MALE'),\n",
       " (300, 'Gentoo', 'Biscoe', 49.1, 14.5, 212.0, 4625.0, 'FEMALE'),\n",
       " (301, 'Gentoo', 'Biscoe', 52.5, 15.6, 221.0, 5450.0, 'MALE'),\n",
       " (302, 'Gentoo', 'Biscoe', 47.4, 14.6, 212.0, 4725.0, 'FEMALE'),\n",
       " (303, 'Gentoo', 'Biscoe', 50.0, 15.9, 224.0, 5350.0, 'MALE'),\n",
       " (304, 'Gentoo', 'Biscoe', 44.9, 13.8, 212.0, 4750.0, 'FEMALE'),\n",
       " (305, 'Gentoo', 'Biscoe', 50.8, 17.3, 228.0, 5600.0, 'MALE'),\n",
       " (306, 'Gentoo', 'Biscoe', 43.4, 14.4, 218.0, 4600.0, 'FEMALE'),\n",
       " (307, 'Gentoo', 'Biscoe', 51.3, 14.2, 218.0, 5300.0, 'MALE'),\n",
       " (308, 'Gentoo', 'Biscoe', 47.5, 14.0, 212.0, 4875.0, 'FEMALE'),\n",
       " (309, 'Gentoo', 'Biscoe', 52.1, 17.0, 230.0, 5550.0, 'MALE'),\n",
       " (310, 'Gentoo', 'Biscoe', 47.5, 15.0, 218.0, 4950.0, 'FEMALE'),\n",
       " (311, 'Gentoo', 'Biscoe', 52.2, 17.1, 228.0, 5400.0, 'MALE'),\n",
       " (312, 'Gentoo', 'Biscoe', 45.5, 14.5, 212.0, 4750.0, 'FEMALE'),\n",
       " (313, 'Gentoo', 'Biscoe', 49.5, 16.1, 224.0, 5650.0, 'MALE'),\n",
       " (314, 'Gentoo', 'Biscoe', 44.5, 14.7, 214.0, 4850.0, 'FEMALE'),\n",
       " (315, 'Gentoo', 'Biscoe', 50.8, 15.7, 226.0, 5200.0, 'MALE'),\n",
       " (316, 'Gentoo', 'Biscoe', 49.4, 15.8, 216.0, 4925.0, 'MALE'),\n",
       " (317, 'Gentoo', 'Biscoe', 46.9, 14.6, 222.0, 4875.0, 'FEMALE'),\n",
       " (318, 'Gentoo', 'Biscoe', 48.4, 14.4, 203.0, 4625.0, 'FEMALE'),\n",
       " (319, 'Gentoo', 'Biscoe', 51.1, 16.5, 225.0, 5250.0, 'MALE'),\n",
       " (320, 'Gentoo', 'Biscoe', 48.5, 15.0, 219.0, 4850.0, 'FEMALE'),\n",
       " (321, 'Gentoo', 'Biscoe', 55.9, 17.0, 228.0, 5600.0, 'MALE'),\n",
       " (322, 'Gentoo', 'Biscoe', 47.2, 15.5, 215.0, 4975.0, 'FEMALE'),\n",
       " (323, 'Gentoo', 'Biscoe', 49.1, 15.0, 228.0, 5500.0, 'MALE'),\n",
       " (324, 'Gentoo', 'Biscoe', 47.3, 13.8, 216.0, 4725.0, None),\n",
       " (325, 'Gentoo', 'Biscoe', 46.8, 16.1, 215.0, 5500.0, 'MALE'),\n",
       " (326, 'Gentoo', 'Biscoe', 41.7, 14.7, 210.0, 4700.0, 'FEMALE'),\n",
       " (327, 'Gentoo', 'Biscoe', 53.4, 15.8, 219.0, 5500.0, 'MALE'),\n",
       " (328, 'Gentoo', 'Biscoe', 43.3, 14.0, 208.0, 4575.0, 'FEMALE'),\n",
       " (329, 'Gentoo', 'Biscoe', 48.1, 15.1, 209.0, 5500.0, 'MALE'),\n",
       " (330, 'Gentoo', 'Biscoe', 50.5, 15.2, 216.0, 5000.0, 'FEMALE'),\n",
       " (331, 'Gentoo', 'Biscoe', 49.8, 15.9, 229.0, 5950.0, 'MALE'),\n",
       " (332, 'Gentoo', 'Biscoe', 43.5, 15.2, 213.0, 4650.0, 'FEMALE'),\n",
       " (333, 'Gentoo', 'Biscoe', 51.5, 16.3, 230.0, 5500.0, 'MALE'),\n",
       " (334, 'Gentoo', 'Biscoe', 46.2, 14.1, 217.0, 4375.0, 'FEMALE'),\n",
       " (335, 'Gentoo', 'Biscoe', 55.1, 16.0, 230.0, 5850.0, 'MALE'),\n",
       " (336, 'Gentoo', 'Biscoe', 44.5, 15.7, 217.0, 4875.0, None),\n",
       " (337, 'Gentoo', 'Biscoe', 48.8, 16.2, 222.0, 6000.0, 'MALE'),\n",
       " (338, 'Gentoo', 'Biscoe', 47.2, 13.7, 214.0, 4925.0, 'FEMALE'),\n",
       " (339, 'Gentoo', 'Biscoe', None, None, None, None, None),\n",
       " (340, 'Gentoo', 'Biscoe', 46.8, 14.3, 215.0, 4850.0, 'FEMALE'),\n",
       " (341, 'Gentoo', 'Biscoe', 50.4, 15.7, 222.0, 5750.0, 'MALE'),\n",
       " (342, 'Gentoo', 'Biscoe', 45.2, 14.8, 212.0, 5200.0, 'FEMALE'),\n",
       " (343, 'Gentoo', 'Biscoe', 49.9, 16.1, 213.0, 5400.0, 'MALE')]"
      ]
     },
     "execution_count": 7,
     "metadata": {},
     "output_type": "execute_result"
    }
   ],
   "source": [
    "result.all()"
   ]
  },
  {
   "cell_type": "markdown",
   "id": "b6f57553-c400-4deb-aba8-1c76dbc822cf",
   "metadata": {},
   "source": [
    "## LLMs to query Database"
   ]
  },
  {
   "cell_type": "code",
   "execution_count": 8,
   "id": "1c74f5ad-4f9a-430a-ac31-8f3227f84c62",
   "metadata": {},
   "outputs": [
    {
     "name": "stdout",
     "output_type": "stream",
     "text": [
      "<class 'pandas.core.frame.DataFrame'>\n",
      "RangeIndex: 344 entries, 0 to 343\n",
      "Data columns (total 7 columns):\n",
      " #   Column             Non-Null Count  Dtype  \n",
      "---  ------             --------------  -----  \n",
      " 0   species            344 non-null    object \n",
      " 1   island             344 non-null    object \n",
      " 2   bill_length_mm     342 non-null    float64\n",
      " 3   bill_depth_mm      342 non-null    float64\n",
      " 4   flipper_length_mm  342 non-null    float64\n",
      " 5   body_mass_g        342 non-null    float64\n",
      " 6   sex                333 non-null    object \n",
      "dtypes: float64(4), object(3)\n",
      "memory usage: 18.9+ KB\n"
     ]
    }
   ],
   "source": [
    "df.info()"
   ]
  },
  {
   "cell_type": "code",
   "execution_count": 9,
   "id": "f8f549bc-0431-4099-b28b-ad23be50b53f",
   "metadata": {},
   "outputs": [],
   "source": [
    "def create_prefix(query):\n",
    "    prefix = f\"\"\" Return a SQL statement that answers the following query:\n",
    "    {query}\n",
    "    \n",
    "    For a table called 'Penguins' with the following properties:\n",
    "    \n",
    "     #   Column             Non-Null Count  Dtype  \n",
    "    ---  ------             --------------  -----  \n",
    "     0   species            344 non-null    object \n",
    "     1   island             344 non-null    object \n",
    "     2   bill_length_mm     342 non-null    float64\n",
    "     3   bill_depth_mm      342 non-null    float64\n",
    "     4   flipper_length_mm  342 non-null    float64\n",
    "     5   body_mass_g        342 non-null    float64\n",
    "     6   sex                333 non-null    object \n",
    "\n",
    "     Example Rows:\n",
    "     (0, 'Adelie', 'Torgersen', 39.1, 18.7, 181.0, 3750.0, 'MALE'),\n",
    "     (1, 'Adelie', 'Torgersen', 39.5, 17.4, 186.0, 3800.0, 'FEMALE'),\n",
    "     (2, 'Adelie', 'Torgersen', 40.3, 18.0, 195.0, 3250.0, 'FEMALE')\n",
    "\n",
    "     Only return the SQL statement for the query\n",
    "    \"\"\"\n",
    "\n",
    "    return prefix"
   ]
  },
  {
   "cell_type": "code",
   "execution_count": 10,
   "id": "9b96035e-cfb7-4593-b4d3-e00c949b39c4",
   "metadata": {},
   "outputs": [],
   "source": [
    "def user_input():\n",
    "    query = input(\"Ask a question about the Penguins table\")\n",
    "    return create_prefix(query)"
   ]
  },
  {
   "cell_type": "code",
   "execution_count": 11,
   "id": "3f1dfd18-1edf-48db-9cea-3ba9bbc83e5f",
   "metadata": {},
   "outputs": [
    {
     "name": "stdin",
     "output_type": "stream",
     "text": [
      "Ask a question about the Penguins table How many male penguins are there?\n"
     ]
    }
   ],
   "source": [
    "prefix = user_input()"
   ]
  },
  {
   "cell_type": "code",
   "execution_count": 12,
   "id": "2527804c-b093-4b36-918b-0870a1a2f7ec",
   "metadata": {},
   "outputs": [
    {
     "name": "stdout",
     "output_type": "stream",
     "text": [
      " Return a SQL statement that answers the following query:\n",
      "    How many male penguins are there?\n",
      "    \n",
      "    For a table called 'Penguins' with the following properties:\n",
      "    \n",
      "     #   Column             Non-Null Count  Dtype  \n",
      "    ---  ------             --------------  -----  \n",
      "     0   species            344 non-null    object \n",
      "     1   island             344 non-null    object \n",
      "     2   bill_length_mm     342 non-null    float64\n",
      "     3   bill_depth_mm      342 non-null    float64\n",
      "     4   flipper_length_mm  342 non-null    float64\n",
      "     5   body_mass_g        342 non-null    float64\n",
      "     6   sex                333 non-null    object \n",
      "\n",
      "     Example Rows:\n",
      "     (0, 'Adelie', 'Torgersen', 39.1, 18.7, 181.0, 3750.0, 'MALE'),\n",
      "     (1, 'Adelie', 'Torgersen', 39.5, 17.4, 186.0, 3800.0, 'FEMALE'),\n",
      "     (2, 'Adelie', 'Torgersen', 40.3, 18.0, 195.0, 3250.0, 'FEMALE')\n",
      "\n",
      "     Only return the SQL statement for the query\n",
      "    \n"
     ]
    }
   ],
   "source": [
    "print(prefix)"
   ]
  },
  {
   "cell_type": "code",
   "execution_count": 13,
   "id": "f44e82e5-0796-4f22-ab52-f0cc273a9cbe",
   "metadata": {},
   "outputs": [],
   "source": [
    "code_generation_model = CodeGenerationModel.from_pretrained('code-bison')"
   ]
  },
  {
   "cell_type": "code",
   "execution_count": 14,
   "id": "03988e27-3323-4ef6-8e15-ac81a49f4956",
   "metadata": {},
   "outputs": [
    {
     "name": "stdout",
     "output_type": "stream",
     "text": [
      "Hello, I am your AI database assistant\n",
      "\n",
      "\n",
      "\n"
     ]
    },
    {
     "name": "stdin",
     "output_type": "stream",
     "text": [
      "Ask a question about the Penguins table How many male penguins are there?\n"
     ]
    }
   ],
   "source": [
    "print(\"Hello, I am your AI database assistant\")\n",
    "print('\\n\\n')\n",
    "\n",
    "prefix = user_input()\n",
    "result = code_generation_model.predict(prefix=prefix)"
   ]
  },
  {
   "cell_type": "code",
   "execution_count": 15,
   "id": "0198cbf4-12f4-49f4-b961-d4e1ab8ec528",
   "metadata": {},
   "outputs": [
    {
     "name": "stdout",
     "output_type": "stream",
     "text": [
      " SELECT COUNT(*)\n",
      "FROM Penguins\n",
      "WHERE sex = 'MALE';\n"
     ]
    }
   ],
   "source": [
    "print(result.text)"
   ]
  },
  {
   "cell_type": "code",
   "execution_count": 16,
   "id": "81175dec-3135-40ce-be93-78ea019e0f8e",
   "metadata": {},
   "outputs": [],
   "source": [
    "def clean_sql(sql_statement):\n",
    "    return sql_statement.replace('```sql','').replace('```','').replace('\\n',' ')"
   ]
  },
  {
   "cell_type": "code",
   "execution_count": 17,
   "id": "0f02783a-59ee-4e55-aeb0-36b54e83faed",
   "metadata": {},
   "outputs": [
    {
     "data": {
      "text/plain": [
       "\" SELECT COUNT(*) FROM Penguins WHERE sex = 'MALE';\""
      ]
     },
     "execution_count": 17,
     "metadata": {},
     "output_type": "execute_result"
    }
   ],
   "source": [
    "clean_sql(result.text)"
   ]
  },
  {
   "cell_type": "markdown",
   "id": "ef6b3ed2-05ee-4c0e-85e3-edabebce16d6",
   "metadata": {},
   "source": [
    "## Creating Wrapper Function"
   ]
  },
  {
   "cell_type": "code",
   "execution_count": 18,
   "id": "ef29c0a4-7045-433d-a131-3484c3db9ad8",
   "metadata": {},
   "outputs": [],
   "source": [
    "def nlp_assistant():\n",
    "    print(\"Hello, I am your AI database assistant\")\n",
    "    print('\\n\\n')\n",
    "    \n",
    "    prefix = user_input()\n",
    "    result = code_generation_model.predict(prefix=prefix)\n",
    "    sql = clean_sql(result.text)\n",
    "\n",
    "    with temp_df.connect() as conn:\n",
    "        print(\"\\n Ok I am running this SQL statement\")\n",
    "        result = conn.execute(text(sql))\n",
    "    print(\"\\n==========================================\")\n",
    "    print(\"The results are:\")\n",
    "    print(result.all())"
   ]
  },
  {
   "cell_type": "code",
   "execution_count": 19,
   "id": "4c030f83-be89-430a-9542-821204828544",
   "metadata": {},
   "outputs": [
    {
     "name": "stdout",
     "output_type": "stream",
     "text": [
      "Hello, I am your AI database assistant\n",
      "\n",
      "\n",
      "\n"
     ]
    },
    {
     "name": "stdin",
     "output_type": "stream",
     "text": [
      "Ask a question about the Penguins table How many male penguins are there?\n"
     ]
    },
    {
     "name": "stdout",
     "output_type": "stream",
     "text": [
      "\n",
      " Ok I am running this SQL statement\n",
      "2023-11-27 18:53:34,411 INFO sqlalchemy.engine.Engine BEGIN (implicit)\n",
      "2023-11-27 18:53:34,413 INFO sqlalchemy.engine.Engine  SELECT COUNT(*) FROM Penguins WHERE sex = 'MALE';\n",
      "2023-11-27 18:53:34,413 INFO sqlalchemy.engine.Engine [generated in 0.00308s] ()\n",
      "2023-11-27 18:53:34,415 INFO sqlalchemy.engine.Engine ROLLBACK\n",
      "\n",
      "==========================================\n",
      "The results are:\n",
      "[(168,)]\n"
     ]
    }
   ],
   "source": [
    "nlp_assistant()"
   ]
  },
  {
   "cell_type": "code",
   "execution_count": 20,
   "id": "71756f06-6260-440d-a7fe-058b1e567d05",
   "metadata": {},
   "outputs": [
    {
     "name": "stdout",
     "output_type": "stream",
     "text": [
      "Hello, I am your AI database assistant\n",
      "\n",
      "\n",
      "\n"
     ]
    },
    {
     "name": "stdin",
     "output_type": "stream",
     "text": [
      "Ask a question about the Penguins table How many distinct island names are there?\n"
     ]
    },
    {
     "name": "stdout",
     "output_type": "stream",
     "text": [
      "\n",
      " Ok I am running this SQL statement\n",
      "2023-11-27 18:54:01,328 INFO sqlalchemy.engine.Engine BEGIN (implicit)\n",
      "2023-11-27 18:54:01,329 INFO sqlalchemy.engine.Engine  SELECT COUNT(DISTINCT island) FROM Penguins; \n",
      "2023-11-27 18:54:01,330 INFO sqlalchemy.engine.Engine [generated in 0.00182s] ()\n",
      "2023-11-27 18:54:01,332 INFO sqlalchemy.engine.Engine ROLLBACK\n",
      "\n",
      "==========================================\n",
      "The results are:\n",
      "[(3,)]\n"
     ]
    }
   ],
   "source": [
    "nlp_assistant()"
   ]
  },
  {
   "cell_type": "code",
   "execution_count": 21,
   "id": "be12a2c6-d5fe-446c-8544-83f92cbfc4ff",
   "metadata": {},
   "outputs": [
    {
     "name": "stdout",
     "output_type": "stream",
     "text": [
      "Hello, I am your AI database assistant\n",
      "\n",
      "\n",
      "\n"
     ]
    },
    {
     "name": "stdin",
     "output_type": "stream",
     "text": [
      "Ask a question about the Penguins table What are the unique island names?\n"
     ]
    },
    {
     "name": "stdout",
     "output_type": "stream",
     "text": [
      "\n",
      " Ok I am running this SQL statement\n",
      "2023-11-27 18:54:42,911 INFO sqlalchemy.engine.Engine BEGIN (implicit)\n",
      "2023-11-27 18:54:42,912 INFO sqlalchemy.engine.Engine  SELECT DISTINCT island FROM Penguins; \n",
      "2023-11-27 18:54:42,913 INFO sqlalchemy.engine.Engine [generated in 0.00159s] ()\n",
      "2023-11-27 18:54:42,914 INFO sqlalchemy.engine.Engine ROLLBACK\n",
      "\n",
      "==========================================\n",
      "The results are:\n",
      "[('Torgersen',), ('Biscoe',), ('Dream',)]\n"
     ]
    }
   ],
   "source": [
    "nlp_assistant()"
   ]
  },
  {
   "cell_type": "code",
   "execution_count": null,
   "id": "c5bc7dda-9ecc-48f8-98aa-1bb52f5f5284",
   "metadata": {},
   "outputs": [],
   "source": []
  }
 ],
 "metadata": {
  "kernelspec": {
   "display_name": "Python 3 (ipykernel)",
   "language": "python",
   "name": "python3"
  },
  "language_info": {
   "codemirror_mode": {
    "name": "ipython",
    "version": 3
   },
   "file_extension": ".py",
   "mimetype": "text/x-python",
   "name": "python",
   "nbconvert_exporter": "python",
   "pygments_lexer": "ipython3",
   "version": "3.11.5"
  }
 },
 "nbformat": 4,
 "nbformat_minor": 5
}
