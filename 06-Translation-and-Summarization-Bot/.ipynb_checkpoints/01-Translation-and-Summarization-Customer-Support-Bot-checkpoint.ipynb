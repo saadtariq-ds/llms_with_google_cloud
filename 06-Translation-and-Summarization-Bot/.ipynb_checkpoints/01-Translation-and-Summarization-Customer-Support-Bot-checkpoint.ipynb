{
 "cells": [
  {
   "cell_type": "markdown",
   "id": "15dcdb82-1d2b-4394-8b07-45a08aa77cb8",
   "metadata": {},
   "source": [
    "# Translation and Summarization Customer Support Bot\n",
    "\n",
    "The Bot has the following capabilities:\n",
    "- The bot read a non-English customer support email\n",
    "- The bot then translate it into English\n",
    "- The bot then create a summary and suggest next steps"
   ]
  },
  {
   "cell_type": "code",
   "execution_count": 1,
   "id": "aa9d571c-bfe6-4b15-ac42-97a20fe0d89d",
   "metadata": {},
   "outputs": [],
   "source": [
    "import os"
   ]
  },
  {
   "cell_type": "code",
   "execution_count": 2,
   "id": "03897d93-e6f7-4ce8-a9e8-6876b2b7f53f",
   "metadata": {},
   "outputs": [],
   "source": [
    "os.environ['GOOGLE_APPLICATION_CREDENTIALS'] = 'ADD CREDENTIALS HERE'"
   ]
  },
  {
   "cell_type": "code",
   "execution_count": 3,
   "id": "399eb713-5a3d-43ef-9ee8-c5220e807e8c",
   "metadata": {},
   "outputs": [],
   "source": [
    "from vertexai.language_models import TextGenerationModel"
   ]
  },
  {
   "cell_type": "code",
   "execution_count": 4,
   "id": "97b4308b-a3eb-4c09-a71b-5f8090c50e1f",
   "metadata": {},
   "outputs": [],
   "source": [
    "model = TextGenerationModel.from_pretrained('text-bison')"
   ]
  },
  {
   "cell_type": "markdown",
   "id": "a612cc63-b9c3-4cc6-895a-9af854faf6e3",
   "metadata": {},
   "source": [
    "## Reading Non-English Support Email"
   ]
  },
  {
   "cell_type": "code",
   "execution_count": 5,
   "id": "c2d6e925-b2e5-4c11-9a5b-ae636dce295c",
   "metadata": {},
   "outputs": [],
   "source": [
    "customer_email = open('spanish-customer-support-email.txt', encoding='utf-8').read()"
   ]
  },
  {
   "cell_type": "code",
   "execution_count": 6,
   "id": "c5f21726-5e1b-415d-8be2-ac7e22f547c4",
   "metadata": {},
   "outputs": [
    {
     "name": "stdout",
     "output_type": "stream",
     "text": [
      "Asunto: Reporte de Problemas Técnicos - Funcionalidad del Panel SAAS\n",
      "\n",
      "Estimado Equipo de Soporte al Cliente,\n",
      "\n",
      "Espero que este mensaje les encuentre bien. Les escribo para informarles sobre un problema técnico que he encontrado mientras utilizo su producto de panel SAAS. Como cliente leal, aprecio el valor que su producto aporta a mi negocio, pero actualmente me enfrento a un desafío que requiere su experiencia.\n",
      "\n",
      "Me gustaría describir detalladamente el problema que estoy experimentando:\n",
      "\n",
      "1. Problema Gráfico: Al iniciar sesión en el panel SAAS, he notado que los gráficos y las tablas en la página principal del panel no se renderizan correctamente. Los puntos de datos aparecen distorsionados y algunos elementos se superponen, lo que dificulta la interpretación precisa de la información.\n",
      "\n",
      "2. Fallo en la Función de Exportación: Además, no he podido exportar informes y datos desde el panel. Cada vez que intento exportar un informe en formato CSV o PDF, recibo un mensaje de error que indica que la exportación ha fallado. Esta funcionalidad es crucial para compartir información con mi equipo y partes interesadas externas, por lo que es imperativo que se resuelva rápidamente.\n",
      "\n",
      "3. Lentitud en la Carga: Durante la última semana, he notado una disminución significativa en la velocidad de carga del panel SAAS. Las páginas tardan un tiempo inusualmente largo en cargarse, lo que afecta mi productividad y genera frustración. Tengo una conexión a internet confiable, por lo que creo que el problema radica en el panel mismo.\n",
      "\n",
      "Ya he realizado los siguientes pasos para solucionar el problema:\n",
      "\n",
      "1. Limpieza de Cache: Limpié la memoria caché y las cookies de mi navegador para asegurarme de que los datos desactualizados no estén causando conflictos. Sin embargo, los problemas persisten incluso después de realizar esta acción.\n",
      "\n",
      "2. Varios Navegadores: Probé el panel SAAS en diferentes navegadores web (Chrome, Firefox y Safari) para determinar si el problema era específico del navegador. Desafortunadamente, los problemas gráficos, los fallos en la exportación y la lentitud en la carga persistieron en todos los navegadores.\n",
      "\n",
      "Les solicito amablemente su ayuda para resolver estos problemas, ya que están obstaculizando mi capacidad de aprovechar todo el potencial de su panel SAAS. Aquí están las acciones específicas que agradecería:\n",
      "\n",
      "1. Solución para Problemas Gráficos: Por favor, investiguen y corrijan los problemas gráficos presentes en la página principal del panel para garantizar una visualización precisa de los datos.\n",
      "\n",
      "2. Solución para la Función de Exportación: Identifiquen y solucionen el problema con la exportación de informes en formatos CSV y PDF, permitiéndome compartir datos con mi equipo y partes interesadas de manera fluida.\n",
      "\n",
      "3. Optimización del Rendimiento: Por favor, aborden la lentitud en la carga del panel SAAS para mejorar la experiencia general del usuario y aumentar la productividad.\n",
      "\n",
      "Entiendo que los problemas técnicos pueden surgir de vez en cuando y aprecio su pronta atención a este asunto. Si requieren información adicional o ayuda de mi parte, no duden en contactarme. Espero su pronta respuesta y una pronta resolución a estos desafíos.\n",
      "\n",
      "Gracias por su comprensión y apoyo.\n",
      "\n",
      "Atentamente,\n",
      "\n",
      "María Rodríguez\n",
      "ID de Cliente: 123456789\n",
      "Información de la Cuenta: Empresa Ejemplo S.A.\n"
     ]
    }
   ],
   "source": [
    "print(customer_email)"
   ]
  },
  {
   "cell_type": "markdown",
   "id": "4901ffa7-ee95-4b40-8ce3-1463aaa2b49b",
   "metadata": {},
   "source": [
    "## Translating it into English"
   ]
  },
  {
   "cell_type": "code",
   "execution_count": 7,
   "id": "80fe16c4-0be4-4182-8b3a-44d1012535a2",
   "metadata": {},
   "outputs": [],
   "source": [
    "prompt = f\"\"\"Return the English translation of this email:\n",
    "\n",
    "{customer_email}\n",
    "\"\"\""
   ]
  },
  {
   "cell_type": "code",
   "execution_count": 8,
   "id": "fb2418a3-2a03-4186-8fdc-54d92975d69d",
   "metadata": {},
   "outputs": [],
   "source": [
    "english_translation = model.predict(prompt=prompt, max_output_tokens=2048, temperature=0)"
   ]
  },
  {
   "cell_type": "code",
   "execution_count": 9,
   "id": "d6209a1e-7423-4c97-afff-95c32c4c0b9a",
   "metadata": {},
   "outputs": [
    {
     "name": "stdout",
     "output_type": "stream",
     "text": [
      " Subject: Reporting Technical Issues - SAAS Dashboard Functionality\n",
      "\n",
      "Dear Customer Support Team,\n",
      "\n",
      "I hope this message finds you well. I am writing to inform you about a technical issue that I have encountered while using your SAAS dashboard product. As a loyal customer, I appreciate the value that your product brings to my business, but I am currently facing a challenge that requires your expertise.\n",
      "\n",
      "I would like to describe in detail the issue that I am experiencing:\n",
      "\n",
      "1. Graphical Issue: Upon logging into the SAAS dashboard, I have noticed that the graphs and charts on the dashboard's main page are not rendering properly. Data points appear distorted, and some elements overlap, making it difficult to accurately interpret the information.\n",
      "\n",
      "2. Export Function Failure: Additionally, I have been unable to export reports and data from the dashboard. Whenever I attempt to export a report in CSV or PDF format, I receive an error message indicating that the export has failed. This functionality is crucial for sharing information with my team and external stakeholders, so it is imperative that it is resolved quickly.\n",
      "\n",
      "3. Slow Loading Speed: For the past week, I have noticed a significant decrease in the loading speed of the SAAS dashboard. Pages take an unusually long time to load, which affects my productivity and causes frustration. I have a reliable internet connection, so I believe the issue lies with the dashboard itself.\n",
      "\n",
      "I have already taken the following steps to troubleshoot the issue:\n",
      "\n",
      "1. Cache Cleaning: I cleared my browser's cache and cookies to ensure that outdated data is not causing conflicts. However, the issues persist even after performing this action.\n",
      "\n",
      "2. Multiple Browsers: I tested the SAAS dashboard on different web browsers (Chrome, Firefox, and Safari) to determine if the issue was browser-specific. Unfortunately, the graphical issues, export failures, and slow loading speed persisted across all browsers.\n",
      "\n",
      "I kindly request your assistance in resolving these issues, as they are hindering my ability to fully utilize the potential of your SAAS dashboard. Here are the specific actions that I would appreciate:\n",
      "\n",
      "1. Fix for Graphical Issues: Please investigate and rectify the graphical issues present on the dashboard's main page to ensure accurate data visualization.\n",
      "\n",
      "2. Solution for Export Function: Identify and resolve the problem with exporting reports in CSV and PDF formats, allowing me to share data with my team and stakeholders seamlessly.\n",
      "\n",
      "3. Performance Optimization: Kindly address the slow loading speed of the SAAS dashboard to improve the overall user experience and increase productivity.\n",
      "\n",
      "I understand that technical issues may arise from time to time, and I appreciate your prompt attention to this matter. If you require any additional information or assistance from my side, please do not hesitate to contact me. I look forward to your prompt response and a timely resolution to these challenges.\n",
      "\n",
      "Thank you for your understanding and support.\n",
      "\n",
      "Sincerely,\n",
      "\n",
      "Mary Rodriguez\n",
      "Customer ID: 123456789\n",
      "Account Information: Acme Corporation\n"
     ]
    }
   ],
   "source": [
    "print(english_translation.text)"
   ]
  },
  {
   "cell_type": "markdown",
   "id": "67f40d39-3b38-439b-bb5b-07da25ea98a7",
   "metadata": {},
   "source": [
    "## Summarizing Email and Recommending Next Steps"
   ]
  },
  {
   "cell_type": "code",
   "execution_count": 10,
   "id": "706f76d3-241a-49d0-820f-a2de2908ebec",
   "metadata": {},
   "outputs": [],
   "source": [
    "summary_prompt = f\"\"\"Create a 5 sentence summary of this customer email:\n",
    "{english_translation.text}\n",
    "\"\"\""
   ]
  },
  {
   "cell_type": "code",
   "execution_count": 11,
   "id": "81821525-8f03-40ad-a314-343db60016a0",
   "metadata": {},
   "outputs": [],
   "source": [
    "summary = model.predict(prompt=summary_prompt, max_output_tokens=2048, temperature=0)"
   ]
  },
  {
   "cell_type": "code",
   "execution_count": 12,
   "id": "84114bbc-5408-4e60-a775-2e4cef78b97b",
   "metadata": {},
   "outputs": [
    {
     "data": {
      "text/plain": [
       " Mary Rodriguez, a customer of the SAAS dashboard product, is reporting technical issues. \n",
       "The issues include graphical issues with charts and graphs, export function failure, and slow loading speed. \n",
       "Mary has already tried clearing her browser's cache and testing the dashboard on different browsers, but the issues persist. \n",
       "She requests that the support team fix the graphical issues, resolve the export function problem, and optimize the performance of the dashboard. \n",
       "Mary appreciates the value that the product brings to her business and looks forward to a timely resolution of these challenges."
      ]
     },
     "execution_count": 12,
     "metadata": {},
     "output_type": "execute_result"
    }
   ],
   "source": [
    "summary"
   ]
  },
  {
   "cell_type": "code",
   "execution_count": 13,
   "id": "b053111b-1a71-4cfe-933c-aba848289c98",
   "metadata": {},
   "outputs": [],
   "source": [
    "suggestion_prompt = f\"\"\"Please give a list of suggestions to address the issues in this email:\n",
    "{english_translation.text}\n",
    "\"\"\""
   ]
  },
  {
   "cell_type": "code",
   "execution_count": 14,
   "id": "a6427a56-2306-4954-80ef-1f447a9b8a31",
   "metadata": {},
   "outputs": [],
   "source": [
    "# print(suggestion_prompt)"
   ]
  },
  {
   "cell_type": "code",
   "execution_count": 15,
   "id": "aa1339a4-3e1e-4c91-997d-f9160f3a51da",
   "metadata": {},
   "outputs": [],
   "source": [
    "suggestions = model.predict(prompt=suggestion_prompt, max_output_tokens=2048, temperature=0.2)"
   ]
  },
  {
   "cell_type": "code",
   "execution_count": 16,
   "id": "11b603a7-a673-405a-9647-91e3d23e8b73",
   "metadata": {},
   "outputs": [
    {
     "data": {
      "text/plain": [
       " Here are some suggestions to address the issues in this email:\n",
       "\n",
       "1. **Graphical Issue:**\n",
       "    * The customer support team should investigate the issue and rectify the graphical issues present on the dashboard's main page to ensure accurate data visualization.\n",
       "    * They can do this by checking the code for errors, updating the software, or reconfiguring the settings.\n",
       "2. **Export Function Failure:**\n",
       "    * The customer support team should identify and resolve the problem with exporting reports in CSV and PDF formats, allowing the customer to share data with their team and stakeholders seamlessly.\n",
       "    * They can do this by checking the code for errors, updating the software, or reconfiguring the settings.\n",
       "3. **Slow Loading Speed:**\n",
       "    * The customer support team should address the slow loading speed of the SAAS dashboard to improve the overall user experience and increase productivity.\n",
       "    * They can do this by optimizing the code, reducing the size of images and files, or upgrading the server.\n",
       "4. **Additional Suggestions:**\n",
       "    * The customer support team should provide the customer with a temporary workaround while the issues are being resolved.\n",
       "    * They should also keep the customer updated on the progress of the investigation and resolution.\n",
       "    * They should thank the customer for their feedback and apologize for any inconvenience caused."
      ]
     },
     "execution_count": 16,
     "metadata": {},
     "output_type": "execute_result"
    }
   ],
   "source": [
    "suggestions"
   ]
  },
  {
   "cell_type": "code",
   "execution_count": null,
   "id": "0868e6b6-c82f-4f62-be00-8cd4502522c1",
   "metadata": {},
   "outputs": [],
   "source": []
  }
 ],
 "metadata": {
  "kernelspec": {
   "display_name": "Python 3 (ipykernel)",
   "language": "python",
   "name": "python3"
  },
  "language_info": {
   "codemirror_mode": {
    "name": "ipython",
    "version": 3
   },
   "file_extension": ".py",
   "mimetype": "text/x-python",
   "name": "python",
   "nbconvert_exporter": "python",
   "pygments_lexer": "ipython3",
   "version": "3.11.5"
  }
 },
 "nbformat": 4,
 "nbformat_minor": 5
}
