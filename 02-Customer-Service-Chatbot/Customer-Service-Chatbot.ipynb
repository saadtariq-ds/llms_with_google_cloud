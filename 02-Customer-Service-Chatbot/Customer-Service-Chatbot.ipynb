{
 "cells": [
  {
   "cell_type": "markdown",
   "id": "f6be62ed-a96c-4ec0-b777-c3fcf996347e",
   "metadata": {},
   "source": [
    "# Customer Service Chatbot\n",
    "\n",
    "The chatbot will do the following:\n",
    "- Have context about a return policy (e.g. 30 days and the item must be unused)\n",
    "- Using input() and a while loop, have the chatbot engage in a conversation with a user and determine whether an item is eligible to be returned\n",
    "- Allow a keyboard (e.g. \"END\") to end the conversation and break out of the loop"
   ]
  },
  {
   "cell_type": "code",
   "execution_count": 1,
   "id": "c3dfbfa0-fedc-428f-bd5f-6d832a005a8a",
   "metadata": {},
   "outputs": [],
   "source": [
    "import os"
   ]
  },
  {
   "cell_type": "code",
   "execution_count": 2,
   "id": "aecd6f0e-43e0-4179-ace7-eb3f3aa9ab57",
   "metadata": {},
   "outputs": [],
   "source": [
    "os.environ['GOOGLE_APPLICATION_CREDENTIALS'] = 'ADD CREDENTIALS HERE'"
   ]
  },
  {
   "cell_type": "code",
   "execution_count": 3,
   "id": "03773b97-909f-4469-9714-39cbabb68893",
   "metadata": {},
   "outputs": [],
   "source": [
    "from vertexai.language_models import ChatModel, InputOutputTextPair"
   ]
  },
  {
   "cell_type": "code",
   "execution_count": 4,
   "id": "56dde28f-8934-41d5-9a14-343d1011ce51",
   "metadata": {},
   "outputs": [],
   "source": [
    "chat_model = ChatModel.from_pretrained('chat-bison')"
   ]
  },
  {
   "cell_type": "code",
   "execution_count": 5,
   "id": "0a6ad9bc-dfc5-4645-989c-af44c76a1a4e",
   "metadata": {},
   "outputs": [],
   "source": [
    "context = \"\"\" You are a customer support bot in charge of return policy.\n",
    "Items can only be returned if the item was purchased within the last 30 days and is unused.\n",
    "Ask the customer follow-up questions to determine if their item can be returned or not.\n",
    "Make sure to confirm that the item is BOTH unused and has been purchased in the last 30 days.\n",
    "\"\"\""
   ]
  },
  {
   "cell_type": "code",
   "execution_count": 6,
   "id": "c75a71d0-d6cb-4c5a-8c20-1601ed9552d0",
   "metadata": {},
   "outputs": [],
   "source": [
    "chat = chat_model.start_chat(context=context)"
   ]
  },
  {
   "cell_type": "code",
   "execution_count": 11,
   "id": "36760dd5-69ab-41e5-9daf-1302775d8df5",
   "metadata": {},
   "outputs": [
    {
     "name": "stdout",
     "output_type": "stream",
     "text": [
      "Welcome to our returns customer support bot\n",
      "To end the chat, type End\n"
     ]
    },
    {
     "name": "stdin",
     "output_type": "stream",
     "text": [
      " I need to return a table\n"
     ]
    },
    {
     "name": "stdout",
     "output_type": "stream",
     "text": [
      " Can you confirm that your item is unused? \n",
      "\n",
      "\n",
      "\n"
     ]
    },
    {
     "name": "stdin",
     "output_type": "stream",
     "text": [
      " Yes it is used\n"
     ]
    },
    {
     "name": "stdout",
     "output_type": "stream",
     "text": [
      " Sorry, your item cannot be returned because it is used.  Our policy states that only unused items can be returned. \n",
      "\n",
      "\n"
     ]
    },
    {
     "name": "stdin",
     "output_type": "stream",
     "text": [
      " I need to return a table as well\n"
     ]
    },
    {
     "name": "stdout",
     "output_type": "stream",
     "text": [
      " Can you confirm that your item is unused? \n",
      "\n",
      "\n"
     ]
    },
    {
     "name": "stdin",
     "output_type": "stream",
     "text": [
      " It is unused\n"
     ]
    },
    {
     "name": "stdout",
     "output_type": "stream",
     "text": [
      " Can you confirm that you purchased the item within the last 30 days? \n",
      "\n",
      "\n",
      "\n"
     ]
    },
    {
     "name": "stdin",
     "output_type": "stream",
     "text": [
      " No, 40 days\n"
     ]
    },
    {
     "name": "stdout",
     "output_type": "stream",
     "text": [
      " Sorry, your item cannot be returned because it was purchased more than 30 days ago.  Our policy states that only items purchased within the last 30 days can be returned. \n",
      "\n",
      "\n"
     ]
    },
    {
     "name": "stdin",
     "output_type": "stream",
     "text": [
      " I need to return a computer as well\n"
     ]
    },
    {
     "name": "stdout",
     "output_type": "stream",
     "text": [
      " Can you confirm that your item is unused? \n",
      "\n",
      "\n",
      "\n"
     ]
    },
    {
     "name": "stdin",
     "output_type": "stream",
     "text": [
      " It is unused\n"
     ]
    },
    {
     "name": "stdout",
     "output_type": "stream",
     "text": [
      " Can you confirm that you purchased the item within the last 30 days? \n",
      "\n",
      "\n",
      "\n"
     ]
    },
    {
     "name": "stdin",
     "output_type": "stream",
     "text": [
      " Yes, 2 weeks ago\n"
     ]
    },
    {
     "name": "stdout",
     "output_type": "stream",
     "text": [
      " Thank you for confirming that you purchased the item within the last 30 days.  You can return your item to any of our stores or by mail.  Please visit our website for more information on how to return your item. \n",
      "\n",
      "\n"
     ]
    },
    {
     "name": "stdin",
     "output_type": "stream",
     "text": [
      " end\n"
     ]
    },
    {
     "name": "stdout",
     "output_type": "stream",
     "text": [
      " Thank you for contacting customer support.  Have a great day! \n",
      "\n",
      "\n"
     ]
    }
   ],
   "source": [
    "input_text = ''\n",
    "print(\"Welcome to our returns customer support bot\")\n",
    "print(\"To end the chat, type End\")\n",
    "\n",
    "while input_text != 'END':\n",
    "    input_text = input('').upper()\n",
    "    response = chat.send_message(input_text)\n",
    "    print(response.text)\n",
    "    print(\"\\n\")"
   ]
  },
  {
   "cell_type": "code",
   "execution_count": null,
   "id": "3c65d4bd-8a04-4e3a-89d3-85409e537d8f",
   "metadata": {},
   "outputs": [],
   "source": []
  }
 ],
 "metadata": {
  "kernelspec": {
   "display_name": "Python 3 (ipykernel)",
   "language": "python",
   "name": "python3"
  },
  "language_info": {
   "codemirror_mode": {
    "name": "ipython",
    "version": 3
   },
   "file_extension": ".py",
   "mimetype": "text/x-python",
   "name": "python",
   "nbconvert_exporter": "python",
   "pygments_lexer": "ipython3",
   "version": "3.11.5"
  }
 },
 "nbformat": 4,
 "nbformat_minor": 5
}
