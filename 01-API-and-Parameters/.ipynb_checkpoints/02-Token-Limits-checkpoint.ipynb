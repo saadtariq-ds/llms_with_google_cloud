{
 "cells": [
  {
   "cell_type": "markdown",
   "id": "f12859cf-a346-4ca4-be1e-1006258ae320",
   "metadata": {},
   "source": [
    "## Setting Up Environment"
   ]
  },
  {
   "cell_type": "code",
   "execution_count": 5,
   "id": "9275ee96-d13c-4feb-b863-f1bf8ca0c438",
   "metadata": {},
   "outputs": [],
   "source": [
    "import os"
   ]
  },
  {
   "cell_type": "code",
   "execution_count": 6,
   "id": "7e13f16a-1f9f-4a0d-98fb-e29c01e65756",
   "metadata": {},
   "outputs": [],
   "source": [
    "os.environ['GOOGLE_APPLICATION_CREDENTIALS'] = 'ADD CREDENTIALS HERE'"
   ]
  },
  {
   "cell_type": "code",
   "execution_count": 7,
   "id": "36287f45-7292-4213-af39-5d48fae134ae",
   "metadata": {},
   "outputs": [],
   "source": [
    "from vertexai.language_models import TextGenerationModel, ChatModel"
   ]
  },
  {
   "cell_type": "markdown",
   "id": "8f29fa8e-e3cb-4ae1-a846-2b4c8e0315fd",
   "metadata": {},
   "source": [
    "## Text Generation Model"
   ]
  },
  {
   "cell_type": "code",
   "execution_count": 8,
   "id": "88f97c45-d0be-44d9-9ed5-543a350dd155",
   "metadata": {},
   "outputs": [],
   "source": [
    "text_model_name = 'text-bison'"
   ]
  },
  {
   "cell_type": "code",
   "execution_count": 9,
   "id": "e61874fc-ea4b-4ca4-b753-22e44c0e20d2",
   "metadata": {},
   "outputs": [],
   "source": [
    "text_model = TextGenerationModel.from_pretrained(text_model_name)"
   ]
  },
  {
   "cell_type": "code",
   "execution_count": 10,
   "id": "aa1069a7-eb2f-43d6-9669-f414b908cd79",
   "metadata": {},
   "outputs": [],
   "source": [
    "prompt = \"Write me a funny poem about dogs\""
   ]
  },
  {
   "cell_type": "code",
   "execution_count": 11,
   "id": "f7137d1e-bc98-44b0-a8a6-da29f31df133",
   "metadata": {},
   "outputs": [
    {
     "data": {
      "text/plain": [
       " There once was a dog named Sparky,\n",
       "Who was always quite playful and barky.\n",
       "He loved to chase balls,\n",
       "And run down the halls,\n",
       "And he never failed to make me happy.\n",
       "\n",
       "One day, Sparky was playing in the park,\n",
       "When he saw a squirrel and started to bark.\n",
       "He chased the squirrel up a tree,\n",
       "But the squirrel was too quick, you see,\n",
       "And Sparky came tumbling down with a spark.\n",
       "\n",
       "He landed in a big pile of mud,\n",
       "And he looked like a right old dud.\n",
       "But he just shook it off,\n",
       "And with"
      ]
     },
     "execution_count": 11,
     "metadata": {},
     "output_type": "execute_result"
    }
   ],
   "source": [
    "text_model.predict(prompt=prompt)"
   ]
  },
  {
   "cell_type": "code",
   "execution_count": 12,
   "id": "e947ec15-de89-4381-a76a-d3e90eb0670c",
   "metadata": {},
   "outputs": [
    {
     "data": {
      "text/plain": [
       " There once was a dog"
      ]
     },
     "execution_count": 12,
     "metadata": {},
     "output_type": "execute_result"
    }
   ],
   "source": [
    "text_model.predict(prompt=prompt, max_output_tokens=5)"
   ]
  },
  {
   "cell_type": "code",
   "execution_count": 13,
   "id": "1ffb667e-bbcf-4fda-a488-426d3e6f79d1",
   "metadata": {},
   "outputs": [],
   "source": [
    "prompt = \"Write me a very long funny poem about dogs\""
   ]
  },
  {
   "cell_type": "code",
   "execution_count": 14,
   "id": "2c4c16a6-42df-4d37-83dc-74ef11ebdd54",
   "metadata": {},
   "outputs": [
    {
     "data": {
      "text/plain": [
       " In the realm of dogs, where tails do wag,\n",
       "A world of mischief, and many a gag.\n",
       "From playful pups to wise old hounds,\n",
       "Their antics bring laughter, all year round.\n",
       "\n",
       "There's Fido, the clumsy but lovable mutt,\n",
       "Who chases his tail, and gets in a rut.\n",
       "With ears that flop, and a wagging tongue,\n",
       "He brings a smile to everyone he's among.\n",
       "\n",
       "Then there's Bella, the prissy poodle,\n",
       "Who struts her stuff, like a Hollywood noodle.\n",
       "With a perfectly coiffed mane, and a fancy collar,\n",
       "She's the queen of the dog park, and a real show-stopper.\n",
       "\n",
       "Max, the fearless dachshund, with a big heart,\n",
       "Daring and brave, he'll never back down from a fart.\n",
       "With a bark that's deep, and a courage so bold,\n",
       "He's the hero of the neighborhood, young and old.\n",
       "\n",
       "Daisy, the gentle golden retriever,\n",
       "A loyal companion, a true believer.\n",
       "With a heart of gold, and a temperament so sweet,\n",
       "She's the perfect therapy dog, a real treat.\n",
       "\n",
       "But no dog is perfect, they all have their quirks,\n",
       "Like Sparky, the beagle, who always shirks.\n",
       "With a nose for trouble, and a love for food,\n",
       "He's always up to something, that's understood.\n",
       "\n",
       "And let's not forget, the mighty bulldog, Bowser,\n",
       "With a face so grumpy, he makes you cower.\n",
       "But deep down inside, he's a big softie,\n",
       "A loyal friend, and a real cutie.\n",
       "\n",
       "From the tiniest Chihuahua to the majestic Great Dane,\n",
       "Each dog has a unique personality, that's plain.\n",
       "They bring us joy, and unconditional love,\n",
       "And make our lives complete, from above.\n",
       "\n",
       "So raise a toast, to our furry friends,\n",
       "The ones who make us laugh, until the very end.\n",
       "For in the world of dogs, where love resides,\n",
       "There's always a tail wagging, and a smile that never hides."
      ]
     },
     "execution_count": 14,
     "metadata": {},
     "output_type": "execute_result"
    }
   ],
   "source": [
    "text_model.predict(prompt=prompt, max_output_tokens=1500)"
   ]
  },
  {
   "cell_type": "markdown",
   "id": "10dbdaae-fb7f-4b18-9e85-1c97d9ebd8bd",
   "metadata": {},
   "source": [
    "## Chat Model"
   ]
  },
  {
   "cell_type": "code",
   "execution_count": 15,
   "id": "4115a1e3-c17e-48a9-b04a-14841d6b6946",
   "metadata": {},
   "outputs": [],
   "source": [
    "chat_model_name = 'chat-bison'"
   ]
  },
  {
   "cell_type": "code",
   "execution_count": 16,
   "id": "7cf4b247-6524-47d1-a05a-683092a36f0f",
   "metadata": {},
   "outputs": [],
   "source": [
    "chat_model = ChatModel.from_pretrained(chat_model_name)"
   ]
  },
  {
   "cell_type": "code",
   "execution_count": 17,
   "id": "cf66c462-a04b-4d45-b4f5-e3f6a44edc82",
   "metadata": {},
   "outputs": [],
   "source": [
    "chat = chat_model.start_chat()"
   ]
  },
  {
   "cell_type": "code",
   "execution_count": 18,
   "id": "4e9ea237-abd5-4bc2-948f-93d9494e306a",
   "metadata": {},
   "outputs": [
    {
     "data": {
      "text/plain": [
       " Flowers, oh flowers,\n",
       "How I love your"
      ]
     },
     "execution_count": 18,
     "metadata": {},
     "output_type": "execute_result"
    }
   ],
   "source": [
    "chat.send_message(\"Write me a poem about flowers\", max_output_tokens=10)"
   ]
  },
  {
   "cell_type": "code",
   "execution_count": 19,
   "id": "2de8c19f-b3ff-4c6a-ace6-194e081d71c4",
   "metadata": {},
   "outputs": [
    {
     "data": {
      "text/plain": [
       " Flowers, oh flowers,\n",
       "How I love your beauty and grace,\n",
       "Your delicate petals and sweet fragrance.\n",
       "You bring joy to my heart,\n",
       "And I am grateful for your presence in my life.\n",
       "You remind me of the beauty of nature,\n",
       "And the wonder of the world around me.\n",
       "Thank you, flowers, for making my life more beautiful."
      ]
     },
     "execution_count": 19,
     "metadata": {},
     "output_type": "execute_result"
    }
   ],
   "source": [
    "chat.send_message(\"Write me a poem about flowers\", max_output_tokens=100)"
   ]
  },
  {
   "cell_type": "code",
   "execution_count": null,
   "id": "73f730c8-2d9d-4db9-a699-c454e0d2d89b",
   "metadata": {},
   "outputs": [],
   "source": []
  }
 ],
 "metadata": {
  "kernelspec": {
   "display_name": "Python 3 (ipykernel)",
   "language": "python",
   "name": "python3"
  },
  "language_info": {
   "codemirror_mode": {
    "name": "ipython",
    "version": 3
   },
   "file_extension": ".py",
   "mimetype": "text/x-python",
   "name": "python",
   "nbconvert_exporter": "python",
   "pygments_lexer": "ipython3",
   "version": "3.11.5"
  }
 },
 "nbformat": 4,
 "nbformat_minor": 5
}
