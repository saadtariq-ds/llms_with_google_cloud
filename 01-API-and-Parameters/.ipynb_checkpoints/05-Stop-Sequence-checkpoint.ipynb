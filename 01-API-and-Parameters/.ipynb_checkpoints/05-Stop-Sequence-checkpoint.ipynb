{
 "cells": [
  {
   "cell_type": "code",
   "execution_count": 1,
   "id": "e0d48a6a-603c-4b70-b82e-f4d0d378ad13",
   "metadata": {},
   "outputs": [],
   "source": [
    "import os"
   ]
  },
  {
   "cell_type": "code",
   "execution_count": 2,
   "id": "358f9437-fa37-42e4-a661-6631ba1f0ffc",
   "metadata": {},
   "outputs": [],
   "source": [
    "os.environ['GOOGLE_APPLICATION_CREDENTIALS'] = 'ADD CREDENTIALS HERE'"
   ]
  },
  {
   "cell_type": "code",
   "execution_count": 3,
   "id": "dcd4c289-8f61-449b-b654-3852791a4b9e",
   "metadata": {},
   "outputs": [],
   "source": [
    "from vertexai.language_models import TextGenerationModel, ChatModel"
   ]
  },
  {
   "cell_type": "markdown",
   "id": "141413bf-6279-47e7-89d8-61f96ba79dc8",
   "metadata": {},
   "source": [
    "## Text Generation Model"
   ]
  },
  {
   "cell_type": "code",
   "execution_count": 4,
   "id": "9782e7cd-6291-43d1-b26f-8878bea2ab8d",
   "metadata": {},
   "outputs": [],
   "source": [
    "model_name = 'text-bison'"
   ]
  },
  {
   "cell_type": "code",
   "execution_count": 5,
   "id": "bfdeeb6b-7878-4c11-a662-707c409298a8",
   "metadata": {},
   "outputs": [],
   "source": [
    "model = TextGenerationModel.from_pretrained(model_name)"
   ]
  },
  {
   "cell_type": "code",
   "execution_count": 6,
   "id": "0f9ad301-44c5-49ae-8ac6-d7018e86bf7c",
   "metadata": {},
   "outputs": [],
   "source": [
    "prompt = \"Create a numbered list of vegetables:\""
   ]
  },
  {
   "cell_type": "code",
   "execution_count": 7,
   "id": "baa8e2eb-96c7-485d-a283-5fa8e38b6b1f",
   "metadata": {},
   "outputs": [
    {
     "data": {
      "text/plain": [
       " 1.  Artichoke\n",
       "2.  Arugula\n",
       "3.  Asparagus\n",
       "4.  Avocado\n",
       "5.  Beetroot\n",
       "6.  Bell pepper\n",
       "7.  Broccoli\n",
       "8.  Brussels sprouts\n",
       "9.  Cabbage\n",
       "10.  Carrot\n",
       "11.  Cauliflower\n",
       "12.  Celery\n",
       "13.  Chard\n",
       "14.  Collard greens\n",
       "15.  Corn\n",
       "16.  Cucumber\n",
       "17.  Eggplant\n",
       "18.  Fennel\n",
       "19.  Garlic\n",
       "20.  Ginger\n",
       "2"
      ]
     },
     "execution_count": 7,
     "metadata": {},
     "output_type": "execute_result"
    }
   ],
   "source": [
    "model.predict(prompt=prompt)"
   ]
  },
  {
   "cell_type": "code",
   "execution_count": 8,
   "id": "830d9ce8-d76d-4a30-b19f-dcc9d0cf0bbb",
   "metadata": {},
   "outputs": [
    {
     "data": {
      "text/plain": [
       " 1.  Artichoke\n",
       "2.  Arugula\n",
       "3.  Asparagus\n"
      ]
     },
     "execution_count": 8,
     "metadata": {},
     "output_type": "execute_result"
    }
   ],
   "source": [
    "model.predict(prompt=prompt, stop_sequences=['4'])"
   ]
  },
  {
   "cell_type": "code",
   "execution_count": null,
   "id": "13a0b838-a03a-47bf-a763-90920b8e4ce6",
   "metadata": {},
   "outputs": [],
   "source": []
  }
 ],
 "metadata": {
  "kernelspec": {
   "display_name": "Python 3 (ipykernel)",
   "language": "python",
   "name": "python3"
  },
  "language_info": {
   "codemirror_mode": {
    "name": "ipython",
    "version": 3
   },
   "file_extension": ".py",
   "mimetype": "text/x-python",
   "name": "python",
   "nbconvert_exporter": "python",
   "pygments_lexer": "ipython3",
   "version": "3.11.5"
  }
 },
 "nbformat": 4,
 "nbformat_minor": 5
}
