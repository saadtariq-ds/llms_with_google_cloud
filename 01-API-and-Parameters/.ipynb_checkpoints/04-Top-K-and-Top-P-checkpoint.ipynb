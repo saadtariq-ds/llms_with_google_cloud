{
 "cells": [
  {
   "cell_type": "code",
   "execution_count": 1,
   "id": "8ea77831-036f-4205-b8c4-95b71ab7506b",
   "metadata": {},
   "outputs": [],
   "source": [
    "import os"
   ]
  },
  {
   "cell_type": "code",
   "execution_count": 2,
   "id": "ae5e7ba8-8f8d-47a1-9f42-942b473baadd",
   "metadata": {},
   "outputs": [],
   "source": [
    "os.environ['GOOGLE_APPLICATION_CREDENTIALS'] = 'ADD CREDENTIALS HERE'"
   ]
  },
  {
   "cell_type": "code",
   "execution_count": 4,
   "id": "19a60f4b-ca2b-4c9a-b194-41a7eab51edd",
   "metadata": {},
   "outputs": [],
   "source": [
    "from vertexai.language_models import TextGenerationModel, ChatModel"
   ]
  },
  {
   "cell_type": "markdown",
   "id": "c5f7c64c-f088-4c6c-bc30-5a16592179e0",
   "metadata": {},
   "source": [
    "## Text Generation Model"
   ]
  },
  {
   "cell_type": "code",
   "execution_count": 5,
   "id": "32f1a293-2b6f-439f-aaed-a4169ebcca88",
   "metadata": {},
   "outputs": [],
   "source": [
    "text_model_name = 'text-bison'"
   ]
  },
  {
   "cell_type": "code",
   "execution_count": 6,
   "id": "5e5f7c0e-532a-4bb8-934e-ded2cc1873b1",
   "metadata": {},
   "outputs": [],
   "source": [
    "text_model = TextGenerationModel.from_pretrained(text_model_name)"
   ]
  },
  {
   "cell_type": "code",
   "execution_count": 7,
   "id": "20c85760-2d05-4621-813e-8d96f921fdd7",
   "metadata": {},
   "outputs": [],
   "source": [
    "prompt = \"Plan a trip to Barcelona\""
   ]
  },
  {
   "cell_type": "markdown",
   "id": "a70d390b-c469-4b7d-bb81-9bb75ceecbd9",
   "metadata": {},
   "source": [
    "### Top K"
   ]
  },
  {
   "cell_type": "code",
   "execution_count": 8,
   "id": "3f4ced75-1aea-420a-b8c6-53228d0616c8",
   "metadata": {},
   "outputs": [
    {
     "data": {
      "text/plain": [
       " Day 1:\n",
       "* Arrive in Barcelona and check into your hotel.\n",
       "* Take a walk around the Gothic Quarter and explore the narrow streets and alleyways.\n",
       "* Visit the Barcelona Cathedral and admire its Gothic architecture.\n",
       "* Have dinner at a traditional tapas restaurant.\n",
       "\n",
       "Day 2:\n",
       "* Visit the Sagrada Familia, Gaudi's unfinished masterpiece.\n",
       "* Take a walk through Park Güell, another of Gaudi's works.\n",
       "* Visit the Picasso Museum to see a collection of the artist's work.\n",
       "* Have dinner in the Born district.\n",
       "\n",
       "Day 3:\n",
       "* Take a day trip to Montserrat, a mountain range with a Benedictine monastery.\n",
       "* Hike to the top of Tibidabo, a hill with views of the city.\n",
       "* Visit the Camp Nou, home of FC Barcelona.\n",
       "* Have dinner in the Eixample district.\n",
       "\n",
       "Day 4:\n",
       "* Visit the Palau de la Música Catalana, a concert hall designed by Lluís Domènech i Montaner.\n",
       "* Take a walk down Las Ramblas, a pedestrian street lined with shops and restaurants.\n",
       "* Visit the Boqueria Market, a large market with fresh produce and seafood.\n",
       "* Have dinner in the Barceloneta district.\n",
       "\n",
       "Day 5:\n",
       "* Visit the CosmoCaixa, a science museum with interactive exhibits.\n",
       "* Take a boat trip to see the city from the water.\n",
       "* Visit the MNAC, the National Art Museum of Catalonia.\n",
       "* Have dinner in the Gràcia district."
      ]
     },
     "execution_count": 8,
     "metadata": {},
     "output_type": "execute_result"
    }
   ],
   "source": [
    "text_model.predict(prompt=prompt, max_output_tokens=1024, top_k=1, temperature=0.1)"
   ]
  },
  {
   "cell_type": "code",
   "execution_count": 9,
   "id": "809dfc50-011a-44b1-b897-0677d9834091",
   "metadata": {},
   "outputs": [
    {
     "data": {
      "text/plain": [
       " Day 1:\n",
       "* Arrive in Barcelona and check into your hotel.\n",
       "* Take a walk around the Gothic Quarter and explore the narrow streets and alleyways.\n",
       "* Visit the Barcelona Cathedral and the Santa Maria del Mar church.\n",
       "* Have dinner at a traditional Catalan restaurant.\n",
       "\n",
       "Day 2:\n",
       "* Visit the Sagrada Familia, Antoni Gaudí's unfinished masterpiece.\n",
       "* Take a walk through Park Güell, another of Gaudí's works.\n",
       "* Visit the Picasso Museum, which houses a large collection of the artist's work.\n",
       "* Have dinner in the Born district, a trendy neighborhood with many restaurants and bars.\n",
       "\n",
       "Day 3:\n",
       "* Take a day trip to Montserrat, a mountain range with a Benedictine monastery.\n",
       "* Hike to the top of Tibidabo, a hill with views of the city.\n",
       "* Visit the Camp Nou, home of FC Barcelona.\n",
       "* Have dinner in the Eixample district, a popular area with many restaurants and shops.\n",
       "\n",
       "Day 4:\n",
       "* Visit the Palau de la Música Catalana, a concert hall designed by Lluís Domènech i Montaner.\n",
       "* Take a walk through the Parc de la Ciutadella, a large park with a lake and a zoo.\n",
       "* Visit the Museu Nacional d'Art de Catalunya, which houses a large collection of Catalan art.\n",
       "* Have dinner in the Gràcia district, a lively neighborhood with many restaurants and bars.\n",
       "\n",
       "Day 5:\n",
       "* Visit the CosmoCaixa, a science museum with interactive exhibits.\n",
       "* Take a walk through the Barceloneta neighborhood, a former fishing village.\n",
       "* Visit the Museu Picasso, which houses a large collection of the artist's work.\n",
       "* Have dinner in the Barceloneta district, a popular area with many seafood restaurants."
      ]
     },
     "execution_count": 9,
     "metadata": {},
     "output_type": "execute_result"
    }
   ],
   "source": [
    "text_model.predict(prompt=prompt, max_output_tokens=1024, top_k=1, temperature=1.0)"
   ]
  },
  {
   "cell_type": "markdown",
   "id": "25f995cf-6048-4b99-b6de-ee384a5689e8",
   "metadata": {},
   "source": [
    "### Top P "
   ]
  },
  {
   "cell_type": "code",
   "execution_count": 10,
   "id": "f295e490-b89f-4200-bfe4-3eb4b2978469",
   "metadata": {},
   "outputs": [
    {
     "data": {
      "text/plain": [
       " Day 1:\n",
       "* Arrive in Barcelona and check into your hotel.\n",
       "* Take a walk around the Gothic Quarter and explore the narrow streets and alleyways.\n",
       "* Visit the Barcelona Cathedral and admire its Gothic architecture.\n",
       "* Have dinner at a traditional tapas restaurant.\n",
       "\n",
       "Day 2:\n",
       "* Visit the Sagrada Familia, Gaudi's unfinished masterpiece.\n",
       "* Take a walk through Park Güell, another of Gaudi's works.\n",
       "* Visit the Picasso Museum to see a collection of the artist's work.\n",
       "* Have dinner in the Born district.\n",
       "\n",
       "Day 3:\n",
       "* Take a day trip to Montserrat, a mountain range with a Benedictine monastery.\n",
       "* Hike to the top of Tibidabo, a hill with views of the city.\n",
       "* Visit the Camp Nou, home of FC Barcelona.\n",
       "* Have dinner in the Eixample district.\n",
       "\n",
       "Day 4:\n",
       "* Visit the Palau de la Música Catalana, a concert hall designed by Lluís Domènech i Montaner.\n",
       "* Take a walk down Las Ramblas, a pedestrian street lined with shops and restaurants.\n",
       "* Visit the Boqueria Market, a large market with fresh produce and seafood.\n",
       "* Have dinner in the Barceloneta district.\n",
       "\n",
       "Day 5:\n",
       "* Visit the CosmoCaixa, a science museum with interactive exhibits.\n",
       "* Take a boat trip to see the city from the water.\n",
       "* Visit the MNAC, the National Art Museum of Catalonia.\n",
       "* Have dinner in the Gràcia district."
      ]
     },
     "execution_count": 10,
     "metadata": {},
     "output_type": "execute_result"
    }
   ],
   "source": [
    "text_model.predict(prompt=prompt, max_output_tokens=1024, top_p=0.1, temperature=0.1)"
   ]
  },
  {
   "cell_type": "code",
   "execution_count": 11,
   "id": "d9683665-1e21-406e-b201-6d1b2e2cdb92",
   "metadata": {},
   "outputs": [
    {
     "data": {
      "text/plain": [
       " Day 1:\n",
       "* Arrive in Barcelona and check into your hotel.\n",
       "* Take a walk around the Gothic Quarter and explore the narrow streets and alleyways.\n",
       "* Visit the Barcelona Cathedral and admire its Gothic architecture.\n",
       "* Have dinner at a traditional tapas restaurant.\n",
       "\n",
       "Day 2:\n",
       "* Visit the Sagrada Familia, Gaudi's unfinished masterpiece.\n",
       "* Take a walk through Park Güell, another of Gaudi's works.\n",
       "* Visit the Picasso Museum to see a collection of the artist's work.\n",
       "* Have dinner in the Born district.\n",
       "\n",
       "Day 3:\n",
       "* Take a day trip to Montserrat, a mountain range with a Benedictine monastery.\n",
       "* Hike to the top of Tibidabo, a hill with views of the city.\n",
       "* Visit the Camp Nou, home of FC Barcelona.\n",
       "* Have dinner in the Eixample district.\n",
       "\n",
       "Day 4:\n",
       "* Visit the Palau de la Música Catalana, a concert hall designed by Lluís Domènech i Montaner.\n",
       "* Take a walk down Las Ramblas, a pedestrian street lined with shops and restaurants.\n",
       "* Visit the Boqueria Market, a large market with fresh produce and seafood.\n",
       "* Have dinner in the Barceloneta district.\n",
       "\n",
       "Day 5:\n",
       "* Visit the CosmoCaixa, a science museum with interactive exhibits.\n",
       "* Take a boat trip to see the city from the water.\n",
       "* Visit the MNAC, the National Art Museum of Catalonia.\n",
       "* Have dinner in the Gràcia district."
      ]
     },
     "execution_count": 11,
     "metadata": {},
     "output_type": "execute_result"
    }
   ],
   "source": [
    "text_model.predict(prompt=prompt, max_output_tokens=1024, top_p=1.0, temperature=0.1)"
   ]
  },
  {
   "cell_type": "code",
   "execution_count": null,
   "id": "745ce243-88a5-4cd6-bfa9-8f3958180df5",
   "metadata": {},
   "outputs": [],
   "source": []
  }
 ],
 "metadata": {
  "kernelspec": {
   "display_name": "Python 3 (ipykernel)",
   "language": "python",
   "name": "python3"
  },
  "language_info": {
   "codemirror_mode": {
    "name": "ipython",
    "version": 3
   },
   "file_extension": ".py",
   "mimetype": "text/x-python",
   "name": "python",
   "nbconvert_exporter": "python",
   "pygments_lexer": "ipython3",
   "version": "3.11.5"
  }
 },
 "nbformat": 4,
 "nbformat_minor": 5
}
