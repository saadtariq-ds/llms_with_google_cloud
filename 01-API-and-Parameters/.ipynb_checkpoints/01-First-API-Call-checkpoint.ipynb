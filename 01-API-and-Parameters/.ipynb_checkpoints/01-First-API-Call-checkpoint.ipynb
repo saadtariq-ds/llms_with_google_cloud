{
 "cells": [
  {
   "cell_type": "code",
   "execution_count": 1,
   "id": "681d1758-0811-4728-a4e7-c8e7267ff4a0",
   "metadata": {},
   "outputs": [],
   "source": [
    "import os"
   ]
  },
  {
   "cell_type": "code",
   "execution_count": 2,
   "id": "2f6ac4a2-78d9-45ad-97f1-57b60bd0ced8",
   "metadata": {},
   "outputs": [],
   "source": [
    "os.environ['GOOGLE_APPLICATION_CREDENTIALS'] = 'ADD CREDENTIALS HERE'"
   ]
  },
  {
   "cell_type": "code",
   "execution_count": 4,
   "id": "902777f3-8fa2-4daa-9760-7126da95e230",
   "metadata": {},
   "outputs": [],
   "source": [
    "from google.cloud import aiplatform\n",
    "import vertexai"
   ]
  },
  {
   "cell_type": "markdown",
   "id": "13f472dd-092f-41d4-9838-dd44c5f9b326",
   "metadata": {},
   "source": [
    "## Setting Up Chat Model"
   ]
  },
  {
   "cell_type": "code",
   "execution_count": 5,
   "id": "4b1d785b-1324-4c39-a3ab-6f510d53fb8f",
   "metadata": {},
   "outputs": [],
   "source": [
    "from vertexai.language_models import ChatModel"
   ]
  },
  {
   "cell_type": "code",
   "execution_count": 6,
   "id": "2b9e55f2-fdc3-498a-8b6d-94c536eb9da7",
   "metadata": {},
   "outputs": [],
   "source": [
    "model_name = 'chat-bison'"
   ]
  },
  {
   "cell_type": "code",
   "execution_count": 7,
   "id": "3c12463e-cf4e-4a55-9ba7-a051d24e1671",
   "metadata": {},
   "outputs": [],
   "source": [
    "model = ChatModel.from_pretrained(model_name)"
   ]
  },
  {
   "cell_type": "code",
   "execution_count": 8,
   "id": "afd4ab87-f972-4ea3-a027-ea99659d9f43",
   "metadata": {},
   "outputs": [],
   "source": [
    "context = 'You are a personal tutor for a beginner who wants to learn about LLMs'"
   ]
  },
  {
   "cell_type": "code",
   "execution_count": 9,
   "id": "88b325bb-9125-44bb-bda7-ba1aeb4afd9a",
   "metadata": {},
   "outputs": [],
   "source": [
    "chat = model.start_chat(context=context)"
   ]
  },
  {
   "cell_type": "code",
   "execution_count": 10,
   "id": "a3ca255d-2d27-48df-9576-a0ea73482cc0",
   "metadata": {},
   "outputs": [
    {
     "data": {
      "text/plain": [
       " Language models are statistical models that can understand and generate natural language. \n"
      ]
     },
     "execution_count": 10,
     "metadata": {},
     "output_type": "execute_result"
    }
   ],
   "source": [
    "chat.send_message('What are LLMs?')"
   ]
  },
  {
   "cell_type": "markdown",
   "id": "e25bf840-f484-4580-8b57-0dc5d0ec0cb7",
   "metadata": {},
   "source": [
    "## Setting Up Text Generation Model"
   ]
  },
  {
   "cell_type": "code",
   "execution_count": 11,
   "id": "312f3315-69f2-47eb-99f7-d734b7b1f13d",
   "metadata": {},
   "outputs": [],
   "source": [
    "from vertexai.language_models import TextGenerationModel"
   ]
  },
  {
   "cell_type": "code",
   "execution_count": 12,
   "id": "5ef7e9d7-5732-4c52-93c8-e965f79912e9",
   "metadata": {},
   "outputs": [],
   "source": [
    "model_name = 'text-bison'"
   ]
  },
  {
   "cell_type": "code",
   "execution_count": 13,
   "id": "89e0198b-929a-4c50-8a1f-bce3f3361d30",
   "metadata": {},
   "outputs": [],
   "source": [
    "model = TextGenerationModel.from_pretrained(model_name)"
   ]
  },
  {
   "cell_type": "code",
   "execution_count": 14,
   "id": "9e92519b-c6c2-43c1-9fc3-de0f211ff3c7",
   "metadata": {},
   "outputs": [],
   "source": [
    "prompt = 'Write me a introduction paragraph about Large Language Models'"
   ]
  },
  {
   "cell_type": "code",
   "execution_count": 15,
   "id": "47b27c68-dd80-48ec-90f0-07aa3d75eca0",
   "metadata": {},
   "outputs": [
    {
     "data": {
      "text/plain": [
       " Large Language Models (LLMs) are a type of artificial intelligence (AI) that can generate and understand human language. LLMs are trained on massive datasets of text and code, which allows them to learn the statistical patterns of language. This allows LLMs to perform a variety of tasks, such as generating text, translating languages, writing different kinds of creative content, and answering your questions in an informative way. LLMs are becoming increasingly powerful and are being used in a wide variety of applications, such as customer service, language translation, and education."
      ]
     },
     "execution_count": 15,
     "metadata": {},
     "output_type": "execute_result"
    }
   ],
   "source": [
    "response = model.predict(prompt=prompt)\n",
    "response"
   ]
  },
  {
   "cell_type": "code",
   "execution_count": null,
   "id": "440c3c98-be5f-44e6-9523-f3da8dfd2c90",
   "metadata": {},
   "outputs": [],
   "source": []
  }
 ],
 "metadata": {
  "kernelspec": {
   "display_name": "Python 3 (ipykernel)",
   "language": "python",
   "name": "python3"
  },
  "language_info": {
   "codemirror_mode": {
    "name": "ipython",
    "version": 3
   },
   "file_extension": ".py",
   "mimetype": "text/x-python",
   "name": "python",
   "nbconvert_exporter": "python",
   "pygments_lexer": "ipython3",
   "version": "3.11.5"
  }
 },
 "nbformat": 4,
 "nbformat_minor": 5
}
