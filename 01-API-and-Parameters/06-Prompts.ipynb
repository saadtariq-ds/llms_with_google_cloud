{
 "cells": [
  {
   "cell_type": "code",
   "execution_count": 1,
   "id": "15332f0d-406d-497f-82d4-6bea6ee0d1c9",
   "metadata": {},
   "outputs": [],
   "source": [
    "import os"
   ]
  },
  {
   "cell_type": "code",
   "execution_count": 2,
   "id": "44ff6a33-3f32-4ead-a9a5-8137431376df",
   "metadata": {},
   "outputs": [],
   "source": [
    "os.environ['GOOGLE_APPLICATION_CREDENTIALS'] = 'ADD CREDENTIALS HERE'"
   ]
  },
  {
   "cell_type": "code",
   "execution_count": 3,
   "id": "5544dc99-5910-4945-8a06-1e40a6ca8a46",
   "metadata": {},
   "outputs": [],
   "source": [
    "from vertexai.language_models import TextGenerationModel, ChatModel, InputOutputTextPair"
   ]
  },
  {
   "cell_type": "markdown",
   "id": "cbbd552b-e383-4fc9-b494-bcab1fb787b2",
   "metadata": {},
   "source": [
    "## Text Generation Model"
   ]
  },
  {
   "cell_type": "code",
   "execution_count": 4,
   "id": "8374fbe3-00fb-45ce-88b3-606bd926123a",
   "metadata": {},
   "outputs": [],
   "source": [
    "text_model_name = 'text-bison'"
   ]
  },
  {
   "cell_type": "code",
   "execution_count": 5,
   "id": "67c17c23-173f-4c8b-8e33-2ff385c16d22",
   "metadata": {},
   "outputs": [],
   "source": [
    "text_model = TextGenerationModel.from_pretrained(text_model_name)"
   ]
  },
  {
   "cell_type": "markdown",
   "id": "87a18482-3bd6-4ecb-8de3-4456ae2581d4",
   "metadata": {},
   "source": [
    "### One Shot Prompting"
   ]
  },
  {
   "cell_type": "code",
   "execution_count": 6,
   "id": "09da895c-7921-4337-bf0e-4e7bea3e6069",
   "metadata": {},
   "outputs": [],
   "source": [
    "prompt = \"\"\" Given a category, create a list of 3 examples. \n",
    "Input: Car Brands\n",
    "Output: 1. Tesla 2. Toyota 3. Honda\n",
    "\n",
    "Input: Fruits\n",
    "Output: \n",
    "\"\"\""
   ]
  },
  {
   "cell_type": "code",
   "execution_count": 7,
   "id": "7b0336f1-ec6f-4073-a8b3-81c54b2f730c",
   "metadata": {},
   "outputs": [
    {
     "data": {
      "text/plain": [
       " 1. Apple 2. Orange 3. Banana\n",
       "\n"
      ]
     },
     "execution_count": 7,
     "metadata": {},
     "output_type": "execute_result"
    }
   ],
   "source": [
    "text_model.predict(prompt=prompt, stop_sequences=['Input'])"
   ]
  },
  {
   "cell_type": "markdown",
   "id": "a9debddf-e22e-4b03-b566-ac527e3d9053",
   "metadata": {},
   "source": [
    "### Few Shot Prompting"
   ]
  },
  {
   "cell_type": "code",
   "execution_count": 8,
   "id": "b554492c-321a-460c-aa0f-3a75378a1e07",
   "metadata": {},
   "outputs": [],
   "source": [
    "prompt = \"\"\" Given a category, create a list of 3 examples. \n",
    "Input: Car Brands\n",
    "Output: 1. Tesla 2. Toyata 3. Honda\n",
    "\n",
    "Input: Fruits\n",
    "Output: 1. Apple 2. Orange 3. Banana\n",
    "\n",
    "Input: Sports\n",
    "Output: \n",
    "\"\"\""
   ]
  },
  {
   "cell_type": "code",
   "execution_count": 9,
   "id": "852ce766-425c-47d8-aedb-a4cd5d8ba97e",
   "metadata": {},
   "outputs": [
    {
     "data": {
      "text/plain": [
       " 1. Basketball 2. Soccer 3. Baseball\n",
       "\n"
      ]
     },
     "execution_count": 9,
     "metadata": {},
     "output_type": "execute_result"
    }
   ],
   "source": [
    "text_model.predict(prompt=prompt, stop_sequences=['Input'])"
   ]
  },
  {
   "cell_type": "markdown",
   "id": "aaa90002-af0f-4524-9340-ac2d4b8e522c",
   "metadata": {},
   "source": [
    "## Chat Model"
   ]
  },
  {
   "cell_type": "code",
   "execution_count": 10,
   "id": "060447e8-a38b-4e03-85b8-23710c72cea4",
   "metadata": {},
   "outputs": [],
   "source": [
    "chat_model_name = 'chat-bison'"
   ]
  },
  {
   "cell_type": "code",
   "execution_count": 11,
   "id": "fed51996-0de3-470a-98ec-e21ebba1a457",
   "metadata": {},
   "outputs": [],
   "source": [
    "chat_model = ChatModel.from_pretrained(chat_model_name)"
   ]
  },
  {
   "cell_type": "code",
   "execution_count": 12,
   "id": "f0a6eff5-89d8-4dd6-87ec-1794a148adab",
   "metadata": {},
   "outputs": [],
   "source": [
    "pair_one = InputOutputTextPair(input_text='Car Brands', output_text='1. Tesla 2. Toyata 3. Honda')\n",
    "pair_two = InputOutputTextPair(input_text='Fruits', output_text='1. Apple 2. Orange 3. Banana')"
   ]
  },
  {
   "cell_type": "code",
   "execution_count": 13,
   "id": "07c70d9c-d6d3-4258-be91-130c287741b3",
   "metadata": {},
   "outputs": [],
   "source": [
    "context = 'Given a category, create a list of 3 examples.'"
   ]
  },
  {
   "cell_type": "code",
   "execution_count": 14,
   "id": "779b88c7-9a51-46cd-9da3-e4d058fef946",
   "metadata": {},
   "outputs": [],
   "source": [
    "chat = chat_model.start_chat(examples=[pair_one, pair_two], context=context)"
   ]
  },
  {
   "cell_type": "code",
   "execution_count": 15,
   "id": "2082a271-7707-43fe-884d-b5c0295668a0",
   "metadata": {},
   "outputs": [
    {
     "data": {
      "text/plain": [
       " 1. Onion 2. Potato 3. Lettuce \n"
      ]
     },
     "execution_count": 15,
     "metadata": {},
     "output_type": "execute_result"
    }
   ],
   "source": [
    "chat.send_message('Vegetables')"
   ]
  },
  {
   "cell_type": "code",
   "execution_count": null,
   "id": "aad1aa8c-334d-4d31-bccc-257f6379d559",
   "metadata": {},
   "outputs": [],
   "source": []
  }
 ],
 "metadata": {
  "kernelspec": {
   "display_name": "Python 3 (ipykernel)",
   "language": "python",
   "name": "python3"
  },
  "language_info": {
   "codemirror_mode": {
    "name": "ipython",
    "version": 3
   },
   "file_extension": ".py",
   "mimetype": "text/x-python",
   "name": "python",
   "nbconvert_exporter": "python",
   "pygments_lexer": "ipython3",
   "version": "3.11.5"
  }
 },
 "nbformat": 4,
 "nbformat_minor": 5
}
