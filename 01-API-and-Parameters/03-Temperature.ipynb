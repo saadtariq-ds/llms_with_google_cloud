{
 "cells": [
  {
   "cell_type": "markdown",
   "id": "beaa598c-3cab-4084-bc15-96d52ca30808",
   "metadata": {},
   "source": [
    "## Setting Up Environment"
   ]
  },
  {
   "cell_type": "code",
   "execution_count": 1,
   "id": "f234fc6c-6ce2-4975-9cf1-14e1d1cd1de0",
   "metadata": {},
   "outputs": [],
   "source": [
    "import os"
   ]
  },
  {
   "cell_type": "code",
   "execution_count": 2,
   "id": "80ce36da-bf43-47f9-b9a6-734ddf0f9e03",
   "metadata": {},
   "outputs": [],
   "source": [
    "os.environ['GOOGLE_APPLICATION_CREDENTIALS'] = 'ADD CREDENTIALS HERE'"
   ]
  },
  {
   "cell_type": "code",
   "execution_count": 3,
   "id": "628afa5d-b80f-4cf1-abb1-3631873c1b75",
   "metadata": {},
   "outputs": [],
   "source": [
    "from vertexai.language_models import TextGenerationModel, ChatModel"
   ]
  },
  {
   "cell_type": "markdown",
   "id": "e6b45861-ffb4-4a8b-b46c-7d557c2cb124",
   "metadata": {},
   "source": [
    "## Text Generation Model"
   ]
  },
  {
   "cell_type": "code",
   "execution_count": 4,
   "id": "3b0e6b1d-7994-45b1-babb-1cb9fce687b7",
   "metadata": {},
   "outputs": [],
   "source": [
    "text_model_name = 'text-bison'"
   ]
  },
  {
   "cell_type": "code",
   "execution_count": 5,
   "id": "1494c22b-0b5f-4350-a162-0d481b65cd19",
   "metadata": {},
   "outputs": [],
   "source": [
    "text_model = TextGenerationModel.from_pretrained(text_model_name)"
   ]
  },
  {
   "cell_type": "code",
   "execution_count": 6,
   "id": "95fcd87d-0775-4f51-a25f-9ee53c9ae104",
   "metadata": {},
   "outputs": [],
   "source": [
    "prompt = \"Continue this story: 'I was walking and then a most peculiar thing happened...'\""
   ]
  },
  {
   "cell_type": "code",
   "execution_count": 7,
   "id": "7d1c95c4-75c6-4f76-8d3a-197cea74d9d3",
   "metadata": {},
   "outputs": [
    {
     "name": "stdout",
     "output_type": "stream",
     "text": [
      "Continue this story: 'I was walking and then a most peculiar thing happened...'\n"
     ]
    }
   ],
   "source": [
    "print(prompt)"
   ]
  },
  {
   "cell_type": "code",
   "execution_count": 8,
   "id": "c4d94631-a882-4290-a4c2-e3c63db8a6ae",
   "metadata": {},
   "outputs": [
    {
     "data": {
      "text/plain": [
       " I was walking and then a most peculiar thing happened. I saw a large, white rabbit wearing a waistcoat and a pocket watch. It was muttering to itself, \"Oh dear! Oh dear! I shall be too late!\"\n",
       "\n",
       "I was so surprised that I stopped to watch it. The rabbit took a large pocket watch out of its waistcoat and looked at it anxiously. Then it scurried away, muttering to itself.\n",
       "\n",
       "I decided to follow the rabbit. It led me down a hole, and I fell in after it. I landed in a strange and wonderful place. There were talking animals, and all sorts of other strange and wonderful things.\n",
       "\n",
       "I had many adventures in that strange and wonderful place. I met the Mad Hatter, the Cheshire Cat, and the Queen of Hearts. I had a tea party with the Mad Hatter and the March Hare, and I played croquet with the Queen of Hearts.\n",
       "\n",
       "Finally, I found my way back home. I was glad to be back, but I will never forget my adventures in Wonderland."
      ]
     },
     "execution_count": 8,
     "metadata": {},
     "output_type": "execute_result"
    }
   ],
   "source": [
    "text_model.predict(prompt=prompt, max_output_tokens=1024, temperature=0.0)"
   ]
  },
  {
   "cell_type": "code",
   "execution_count": 9,
   "id": "e1ee7978-d7eb-461a-b3d1-49af008087f1",
   "metadata": {},
   "outputs": [
    {
     "data": {
      "text/plain": [
       " I was walking and then a most peculiar thing happened. I saw a large, white rabbit wearing a waistcoat and a pocket watch. It was muttering to itself, \"Oh dear! Oh dear! I shall be too late!\"\n",
       "\n",
       "I was so surprised that I stopped to watch it. The rabbit took a large pocket watch out of its waistcoat and looked at it anxiously. Then it scurried away, muttering to itself.\n",
       "\n",
       "I decided to follow the rabbit. It led me down a hole, and I fell in after it. I landed in a strange and wonderful place. There were talking animals, and all sorts of other strange and wonderful things.\n",
       "\n",
       "I had many adventures in that strange and wonderful place. I met the Mad Hatter, the Cheshire Cat, and the Queen of Hearts. I had a tea party with the Mad Hatter and the March Hare, and I played croquet with the Queen of Hearts.\n",
       "\n",
       "Finally, I found my way back home. I was glad to be back, but I will never forget my adventures in Wonderland."
      ]
     },
     "execution_count": 9,
     "metadata": {},
     "output_type": "execute_result"
    }
   ],
   "source": [
    "text_model.predict(prompt=prompt, max_output_tokens=1024, temperature=0.0)"
   ]
  },
  {
   "cell_type": "code",
   "execution_count": 10,
   "id": "94dad541-c21c-445c-9348-4cf98aeb6d2a",
   "metadata": {},
   "outputs": [
    {
     "data": {
      "text/plain": [
       " I was walking and then a most peculiar thing happened. I saw a large, white rabbit wearing a waistcoat and a pocket watch. The rabbit was running very fast, and it seemed to be in a hurry. I was so surprised to see a talking rabbit that I stopped in my tracks and watched it go.\n",
       "\n",
       "The rabbit ran into a nearby hole, and I followed it. I found myself in a long, dark tunnel, and at the end of the tunnel was a door. The door was slightly ajar, and I could hear voices coming from the other side.\n",
       "\n",
       "I pushed the door open and stepped inside. I found myself in a large, brightly lit room. There was a long table in the center of the room, and at the head of the table was a large, white rabbit. The rabbit was sitting in a chair, and it was wearing a waistcoat and a pocket watch.\n",
       "\n",
       "The rabbit looked up at me and smiled. \"Welcome,\" it said. \"I'm glad you could make it.\"\n",
       "\n",
       "I was confused. \"What is this place?\" I asked.\n",
       "\n",
       "\"This is Wonderland,\" the rabbit said. \"And I'm the White Rabbit.\"\n",
       "\n",
       "I couldn't believe my ears. I was in Wonderland! I had fallen down the rabbit hole and into a world of talking animals and strange adventures.\n",
       "\n",
       "\"I'm lost,\" I said. \"How do I get back home?\"\n",
       "\n",
       "\"Don't worry,\" the White Rabbit said. \"I'll help you find your way back home. But first, you must help me.\"\n",
       "\n",
       "\"What can I do?\" I asked.\n",
       "\n",
       "\"I need you to find my pocket watch,\" the White Rabbit said. \"I dropped it somewhere in the garden, and I need it back before the Queen of Hearts finds it.\"\n",
       "\n",
       "I agreed to help the White Rabbit find his pocket watch. I searched the garden, and eventually I found it. I brought it back to the White Rabbit, and he was very grateful.\n",
       "\n",
       "\"Thank you,\" the White Rabbit said. \"Now, I will help you find your way back home.\"\n",
       "\n",
       "The White Rabbit led me back to the hole that I had fallen down. He helped me climb out of the hole, and I found myself back in the real world.\n",
       "\n",
       "I thanked the White Rabbit for helping me, and then I went home. I never forgot my adventures in Wonderland, and I always wondered if I would ever go back."
      ]
     },
     "execution_count": 10,
     "metadata": {},
     "output_type": "execute_result"
    }
   ],
   "source": [
    "text_model.predict(prompt=prompt, max_output_tokens=1024, temperature=1.0)"
   ]
  },
  {
   "cell_type": "code",
   "execution_count": 11,
   "id": "acb31cda-a816-4f42-87a4-b6b3bda15ed6",
   "metadata": {},
   "outputs": [
    {
     "data": {
      "text/plain": [
       " I was walking through the park when I saw a most peculiar thing. There was a large, white rabbit wearing a waistcoat and a pocket watch. He was running very fast and muttering to himself, \"Oh dear! Oh dear! I shall be too late!\"\n",
       "\n",
       "I was so surprised that I stopped to watch him. He ran right past me and didn't even notice me. I decided to follow him to see where he was going.\n",
       "\n",
       "He led me down a long, winding path until we came to a large tree. The rabbit stopped in front of the tree and pulled out his pocket watch. He looked at it and then exclaimed, \"Oh no! I'm late! I'm late! I'm late!\"\n",
       "\n",
       "He then reached into his waistcoat and pulled out a small, golden key. He put the key in the lock of a door in the tree and opened it. He stepped inside and the door slammed shut behind him.\n",
       "\n",
       "I was left standing there, wondering what had just happened. I decided to follow the rabbit into the tree.\n",
       "\n",
       "I opened the door and stepped inside. I found myself in a long, dark hallway. At the end of the hallway was another door. This door was made of wood and had a brass doorknob.\n",
       "\n",
       "I turned the doorknob and opened the door. I stepped inside and found myself in a most peculiar room.\n",
       "\n",
       "The room was full of clocks. There were clocks of all shapes and sizes. There were grandfather clocks, mantel clocks, cuckoo clocks, and even a few digital clocks.\n",
       "\n",
       "The clocks were all ticking and chiming, making a loud and incessant noise.\n",
       "\n",
       "I looked around the room in amazement. I had never seen anything like it before.\n",
       "\n",
       "Suddenly, I heard a voice.\n",
       "\n",
       "\"Welcome,\" the voice said. \"I am the Clockmaker.\"\n",
       "\n",
       "I turned around and saw a man standing in the doorway. He was tall and thin, with a long white beard. He was wearing a long, black robe and a hat.\n",
       "\n",
       "\"Who are you?\" I asked.\n",
       "\n",
       "\"I am the Clockmaker,\" he said again. \"I am the keeper of time.\"\n",
       "\n",
       "\"What is this place?\" I asked.\n",
       "\n",
       "\"This is the Clock Room,\" he said. \"This is where all the clocks in the world are kept.\"\n",
       "\n",
       "\"Why are you here?\" I asked.\n",
       "\n",
       "\"I am here to make sure that all the clocks are running correctly,\" he said. \"If the clocks stop, time will stop.\"\n",
       "\n",
       "\"But why do you need so many clocks?\" I asked.\n",
       "\n",
       "\"Because there are so many different time zones in the world,\" he said. \"Each time zone has its own clock.\"\n",
       "\n",
       "\"I see,\" I said.\n",
       "\n",
       "\"Now, if you will excuse me,\" the Clockmaker said. \"I have to go and check on the clocks.\"\n",
       "\n",
       "The Clockmaker walked away and I was left alone in the Clock Room.\n",
       "\n",
       "I looked around at all the clocks and I couldn't help but feel a little bit dizzy.\n",
       "\n",
       "I started to think about all the different time zones in the world and how they were all connected.\n",
       "\n",
       "I thought about how time was always moving forward and how it never stopped.\n",
       "\n",
       "I thought about how time was the most precious thing in the world.\n",
       "\n",
       "And then I thought about how lucky I was to be alive and to be able to experience all the different moments in time.\n",
       "\n",
       "I smiled and I closed my eyes.\n",
       "\n",
       "I took a deep breath and I listened to the sound of the clocks ticking and chiming.\n",
       "\n",
       "I felt at peace.\n",
       "\n",
       "I knew that I was in the right place.\n",
       "\n",
       "I knew that I was home."
      ]
     },
     "execution_count": 11,
     "metadata": {},
     "output_type": "execute_result"
    }
   ],
   "source": [
    "text_model.predict(prompt=prompt, max_output_tokens=1024, temperature=1.0)"
   ]
  },
  {
   "cell_type": "code",
   "execution_count": null,
   "id": "3d058ea7-caf4-4aa7-9d81-37291bc4f676",
   "metadata": {},
   "outputs": [],
   "source": []
  }
 ],
 "metadata": {
  "kernelspec": {
   "display_name": "Python 3 (ipykernel)",
   "language": "python",
   "name": "python3"
  },
  "language_info": {
   "codemirror_mode": {
    "name": "ipython",
    "version": 3
   },
   "file_extension": ".py",
   "mimetype": "text/x-python",
   "name": "python",
   "nbconvert_exporter": "python",
   "pygments_lexer": "ipython3",
   "version": "3.11.5"
  }
 },
 "nbformat": 4,
 "nbformat_minor": 5
}
